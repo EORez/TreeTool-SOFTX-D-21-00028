{
 "cells": [
  {
   "cell_type": "markdown",
   "metadata": {},
   "source": [
    "Initial Setup"
   ]
  },
  {
   "cell_type": "code",
   "execution_count": 1,
   "metadata": {},
   "outputs": [],
   "source": [
    "import sys\n",
    "sys.path.append('Libraries/')\n",
    "import pclpy\n",
    "import cv2\n",
    "import numpy as np\n",
    "import pdal\n",
    "import segTree\n",
    "import Utils\n",
    "import pandas as pd\n",
    "from scipy.optimize import linear_sum_assignment\n",
    "import matplotlib.pyplot as plt\n",
    "import Tree_Tool\n",
    "\n",
    "from tkinter import *\n",
    "import tkinter.ttk as ttk\n",
    "import tkinter as tk\n",
    "import os\n",
    "\n",
    "#Utils\n",
    "def tic():\n",
    "    global timestart\n",
    "    timestart = time.perf_counter()\n",
    "    \n",
    "def toc():\n",
    "    global timestart\n",
    "    return time.perf_counter()-timestart\n",
    "\n",
    "from tkinter import *\n",
    "import tkinter.ttk as ttk\n",
    "import tkinter as tk\n",
    "from tkinter import filedialog\n",
    "import threading\n",
    "import open3d as o3d\n",
    "\n",
    "import open3d as o3d\n",
    "import time"
   ]
  },
  {
   "cell_type": "code",
   "execution_count": 2,
   "metadata": {},
   "outputs": [],
   "source": [
    "def onClossing():\n",
    "    root.quit()\n",
    "    root.destroy()"
   ]
  },
  {
   "cell_type": "code",
   "execution_count": 3,
   "metadata": {},
   "outputs": [],
   "source": [
    "def process(PointCloudV):\n",
    "    global Mysegmentor\n",
    "    \n",
    "    Mysegmentor = Tree_Tool.Tree_tool(PointCloudV)\n",
    "    Mysegmentor.set_Ksearch(0.08)\n",
    "    Mysegmentor.Full_Process()"
   ]
  },
  {
   "cell_type": "code",
   "execution_count": 4,
   "metadata": {},
   "outputs": [],
   "source": [
    "def directory():\n",
    "    global directory, Mysegmentor\n",
    "    directory = filedialog.askopenfile()\n",
    "    PointCloud = pclpy.pcl.PointCloud.PointXYZ()\n",
    "    pclpy.pcl.io.loadPCDFile(directory.name,PointCloud)\n",
    "    PointCloudV = segTree.voxelize(PointCloud.xyz,0.04)\n",
    "    \n",
    "    lockView = threading.Lock()\n",
    "    process(PointCloudV)\n",
    "    Utils.open3dpaint(PointCloudV, reduce_for_Vis = True , pointsize=0.16)"
   ]
  },
  {
   "cell_type": "code",
   "execution_count": 5,
   "metadata": {},
   "outputs": [],
   "source": [
    "def Main():\n",
    "    root.after(10, Main)\n",
    "\n",
    "def step1():\n",
    "    Utils.open3dpaint([Mysegmentor.NongroundCloud,Mysegmentor.GroundCloud],reduce_for_Vis = True , voxelsize=0.2)\n",
    "\n",
    "def step2():\n",
    "    Utils.open3dpaint([Mysegmentor.NongroundCloud.xyz, Mysegmentor.nonFilteredpoints.xyz + Mysegmentor.nonFilterednormals * 0.1,\n",
    "                          Mysegmentor.nonFilteredpoints.xyz + Mysegmentor.nonFilterednormals * 0.2],reduce_for_Vis = True , voxelsize=0.2)\n",
    "\n",
    "def step3():\n",
    "    Utils.open3dpaint([Mysegmentor.filteredpoints.xyz , Mysegmentor.filteredpoints.xyz + Mysegmentor.filterednormals * 0.05,\n",
    "                          Mysegmentor.filteredpoints.xyz + Mysegmentor.filterednormals * 0.1],reduce_for_Vis = True , voxelsize=0.2)\n",
    "\n",
    "def step4():\n",
    "    Utils.open3dpaint(Mysegmentor.cluster_list,reduce_for_Vis = True , voxelsize=0.2)\n",
    "\n",
    "def step5():\n",
    "    Utils.open3dpaint(Mysegmentor.complete_Stems,reduce_for_Vis = True , voxelsize=0.2)\n",
    "\n",
    "def step6():\n",
    "    Utils.open3dpaint(Mysegmentor.lowstems,reduce_for_Vis = True , voxelsize=0.2)\n",
    "\n",
    "def step7():\n",
    "    Utils.open3dpaint([i['tree'] for i in Mysegmentor.finalstems] + Mysegmentor.stemcyls,reduce_for_Vis = True , voxelsize=0.2)\n",
    "    \n",
    "def step8():\n",
    "    Utils.open3dpaint(Mysegmentor.lowstems + [Mysegmentor.Pointcloud.xyz*0.98],reduce_for_Vis = True ,pointsize=2., voxelsize=0.2)\n",
    "    \n",
    "def step9():\n",
    "    Utils.open3dpaint(Mysegmentor.lowstems + [Mysegmentor.filteredpoints.xyz*0.98],reduce_for_Vis = True ,pointsize=2., voxelsize=0.2)"
   ]
  },
  {
   "cell_type": "code",
   "execution_count": 6,
   "metadata": {},
   "outputs": [],
   "source": [
    "def dummy():\n",
    "    alpha = ContrastVar.get()\n",
    "    pass"
   ]
  },
  {
   "cell_type": "code",
   "execution_count": 7,
   "metadata": {},
   "outputs": [
    {
     "name": "stdout",
     "output_type": "stream",
     "text": [
      "Step_1_Remove_Floor\n",
      "Step_2_Normal_Filtering\n",
      "Step_3_Eucladean_Clustering\n",
      "Step_4_Group_Stems\n",
      "Step_5_Get_Ground_Level_Trees\n",
      "Step_6_Get_Cylinder_Tree_Models\n",
      "Done\n"
     ]
    }
   ],
   "source": [
    "Mysegmentor = []\n",
    "\n",
    "root = Tk()\n",
    "root.protocol('WM_DESTROY_WINDOW', onClossing)\n",
    "root.title('Controles')\n",
    "\n",
    "label0 = Button(root, text = 'Step 1',command= step1)\n",
    "label0.grid(row=0, column=1, padx=5, pady=5)\n",
    "label1 = Button(root, text = 'Step 2',command= step2)\n",
    "label1.grid(row=0, column=2, padx=5, pady=5)\n",
    "label2 = Button(root, text = 'Step 3',command= step3)\n",
    "label2.grid(row=0, column=3, padx=5, pady=5)\n",
    "label3 = Button(root, text = 'Step 4',command= step4)\n",
    "label3.grid(row=0, column=4, padx=5, pady=5)\n",
    "label4 = Button(root, text = 'Step 5',command= step5)\n",
    "label4.grid(row=1, column=1, padx=5, pady=5)\n",
    "label5 = Button(root, text = 'Step 6',command= step6)\n",
    "label5.grid(row=1, column=2, padx=5, pady=5)\n",
    "label6 = Button(root, text = 'Step 7',command= step7)\n",
    "label6.grid(row=1, column=3, padx=5, pady=5)\n",
    "label6 = Button(root, text = 'Step 8',command= step8)\n",
    "label6.grid(row=1, column=4, padx=5, pady=5)\n",
    "label6 = Button(root, text = 'Step 9',command= step9)\n",
    "label6.grid(row=2, column=1, padx=5, pady=5)\n",
    "ContrastVar = 0\n",
    "Contrast = tk.Scale(root, label=\"Contraste\", variable = ContrastVar,  from_=0, to=3, resolution=0.05, tickinterval=0.5, length =100, command = step9,  orient=HORIZONTAL)\n",
    "Contrast.grid(row=0, column=5, padx=0, pady=0)\n",
    "\n",
    "\n",
    "buttonDir = Button(root, text='Selección del Directorio', command = directory)\n",
    "buttonDir.grid(row = 0, column = 0, padx = 20, pady = 20)\n",
    "\n",
    "Main()\n",
    "\n",
    "root.mainloop()"
   ]
  },
  {
   "cell_type": "code",
   "execution_count": null,
   "metadata": {},
   "outputs": [],
   "source": [
    "#####################################################\n",
    "#Get ground truth\n",
    "treedata = pd.read_csv('D:/Documentos/ParaAutonomia/Python/Proyecto/Data/EuroSDR_DataRelease/EuroSDR_DataRelease/TLS_Benchmarking_Plot_3_LHD.txt',sep = '\\t',names = ['x','y','height','DBH'])\n",
    "Xcor,Ycor,diam = treedata.iloc[0,[0,1,3]]\n",
    "surtreesL1 = [Utils.makecylinder(model=[Xcor, Ycor, 0,0,0,1,diam/2],length=10,dense=20)]\n",
    "Zcor = 0\n",
    "TreeDict = [np.array([Xcor,Ycor,diam])]\n",
    "for i,rows in treedata.iloc[1:].iterrows():\n",
    "    Xcor,Ycor,diam = rows.iloc[[0,1,3]]\n",
    "    if not np.any(np.isnan([Xcor,Ycor,diam])):\n",
    "        surtreesL1.append(Utils.makecylinder(model=[Xcor, Ycor, 0,0,0,1,diam/2],length=10,dense=10))\n",
    "        TreeDict.append(np.array([Xcor,Ycor,diam]))\n",
    "surtrees1 = [p for i in surtreesL1 for p in i]\n",
    "surtreesCloud1 = pclpy.pcl.PointCloud.PointXYZ(surtrees1)\n",
    "\n",
    "#DataBase\n",
    "#Found trees\n",
    "#Hungarian Algorithm assignment\n",
    "CostMat = np.ones([len(TreeDict),len(Mysegmentor.stemcyls)])\n",
    "for X,datatree in enumerate(TreeDict):\n",
    "    for Y,foundtree in enumerate(Mysegmentor.finalstems):\n",
    "        CostMat[X,Y] = np.linalg.norm([datatree[0:2]-foundtree['model'][0:2]])\n",
    "\n",
    "dataindex, foundindex = linear_sum_assignment(CostMat,maximize=False)\n",
    "\n",
    "#Get metrics\n",
    "locationerror = []\n",
    "correctlocationerror = []\n",
    "diametererror = []\n",
    "cloudmatch = []\n",
    "for i,j in zip(dataindex, foundindex):\n",
    "    locationerror.append(np.linalg.norm((Mysegmentor.finalstems[j]['model'][0:2]-TreeDict[i][0:2])))\n",
    "    if locationerror[-1]<0.6:\n",
    "        diametererror.append(abs(Mysegmentor.finalstems[j]['model'][6]*2-TreeDict[i][2]))        \n",
    "        correctlocationerror.append(np.linalg.norm((Mysegmentor.finalstems[j]['model'][0:2]-TreeDict[i][0:2])))\n",
    "    cloudmatch.append(np.vstack([surtreesL1[i],Mysegmentor.finalstems[j]['tree'],Mysegmentor.stemcyls[j]]))\n",
    "\n",
    "#PCA filtering and Eucladian Clustering\n",
    "Visualization.PCL3dpaint(cloudmatch)"
   ]
  },
  {
   "cell_type": "code",
   "execution_count": null,
   "metadata": {},
   "outputs": [],
   "source": []
  }
 ],
 "metadata": {
  "kernelspec": {
   "display_name": "Python 3",
   "language": "python",
   "name": "python3"
  },
  "language_info": {
   "codemirror_mode": {
    "name": "ipython",
    "version": 3
   },
   "file_extension": ".py",
   "mimetype": "text/x-python",
   "name": "python",
   "nbconvert_exporter": "python",
   "pygments_lexer": "ipython3",
   "version": "3.6.10"
  }
 },
 "nbformat": 4,
 "nbformat_minor": 4
}
