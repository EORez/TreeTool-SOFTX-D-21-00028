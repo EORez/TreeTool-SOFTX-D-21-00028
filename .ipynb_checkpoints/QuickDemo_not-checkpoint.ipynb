{
 "cells": [
  {
   "cell_type": "markdown",
   "metadata": {},
   "source": [
    "Initial Setup"
   ]
  },
  {
   "cell_type": "code",
   "execution_count": 1,
   "metadata": {},
   "outputs": [],
   "source": [
    "import sys\n",
    "sys.path.append('Libraries/')\n",
    "import pclpy\n",
    "import cv2\n",
    "import numpy as np\n",
    "import pdal\n",
    "import segTree\n",
    "import Utils\n",
    "import pandas as pd\n",
    "from scipy.optimize import linear_sum_assignment\n",
    "import matplotlib.pyplot as plt\n",
    "import Tree_Tool"
   ]
  },
  {
   "cell_type": "markdown",
   "metadata": {},
   "source": [
    "Load the point cloud from a .pcd using pclpy, we use our function segTree which containes many helper funcions such as voxelize to down sample our point cloud and visualize using our Visualization function built on open3d"
   ]
  },
  {
   "cell_type": "code",
   "execution_count": 2,
   "metadata": {},
   "outputs": [],
   "source": [
    "PointCloud = pclpy.pcl.PointCloud.PointXYZ()\n",
    "filedir = r'D:\\Documentos\\ParaAutonomia\\Python\\Proyecto\\Data\\NistClouds/downsampledlesscloudEURO2.pcd'\n",
    "pclpy.pcl.io.loadPCDFile(filedir,PointCloud)\n",
    "PointCloudV = segTree.voxelize(PointCloud.xyz,0.04)\n",
    "Utils.open3dpaint(PointCloudV, reduce_for_Vis = True ,voxelsize=0.1)"
   ]
  },
  {
   "cell_type": "markdown",
   "metadata": {},
   "source": [
    "Tree tool is our main class that containes the routines for tree detection and DBH extraction"
   ]
  },
  {
   "cell_type": "code",
   "execution_count": 3,
   "metadata": {},
   "outputs": [],
   "source": [
    "Mysegmentor = Tree_Tool.Tree_tool(PointCloudV)"
   ]
  },
  {
   "cell_type": "markdown",
   "metadata": {},
   "source": [
    "Our tree top object has a series of funtions that are performed to obtain DBH and tree detection."
   ]
  },
  {
   "cell_type": "code",
   "execution_count": 4,
   "metadata": {},
   "outputs": [],
   "source": [
    "Mysegmentor.Step_1_Remove_Floor()\n",
    "\n",
    "#Obtained atributes:\n",
    "#NongroundCloud: All points in the point cloud that don't belong to the ground\n",
    "#GroundCloud: All points in the point cloud that belong to the ground\n",
    "Utils.open3dpaint([Mysegmentor.NongroundCloud,Mysegmentor.GroundCloud],reduce_for_Vis = True ,voxelsize=0.1)"
   ]
  },
  {
   "cell_type": "markdown",
   "metadata": {},
   "source": [
    "Set Algorithm Parameters"
   ]
  },
  {
   "cell_type": "code",
   "execution_count": 5,
   "metadata": {},
   "outputs": [],
   "source": [
    "Mysegmentor.set_Ksearch(0.08)"
   ]
  },
  {
   "cell_type": "markdown",
   "metadata": {},
   "source": [
    "Run main process"
   ]
  },
  {
   "cell_type": "code",
   "execution_count": 6,
   "metadata": {},
   "outputs": [],
   "source": [
    "#Get point normals for filtering\n",
    "\n",
    "#Obtained atributes:\n",
    "#nonFilteredpoints: Same as NongroundCloud\n",
    "#nonFilterednormals: Normals of points in nonFilteredpoints\n",
    "\n",
    "#filteredpoints: Points that pass the normal filter\n",
    "#filterednormals: Normals of points that pass the normal filter\n",
    "\n",
    "Mysegmentor.Step_2_Normal_Filtering(verticalityThresh=0.06, NonNANcurvatureThresh=0.1)\n",
    "Utils.open3dpaint([Mysegmentor.NongroundCloud.xyz, Mysegmentor.nonFilteredpoints.xyz + Mysegmentor.nonFilterednormals * 0.1,\n",
    "                          Mysegmentor.nonFilteredpoints.xyz + Mysegmentor.nonFilterednormals * 0.2],reduce_for_Vis = True ,voxelsize=0.1)\n",
    "\n",
    "Utils.open3dpaint([Mysegmentor.filteredpoints.xyz , Mysegmentor.filteredpoints.xyz + Mysegmentor.filterednormals * 0.05,\n",
    "                          Mysegmentor.filteredpoints.xyz + Mysegmentor.filterednormals * 0.1],reduce_for_Vis = True ,voxelsize=0.1)"
   ]
  },
  {
   "cell_type": "code",
   "execution_count": 7,
   "metadata": {},
   "outputs": [],
   "source": [
    "Mysegmentor.Step_3_Eucladean_Clustering(tol=0.1, minc=40, maxc=6000000)\n",
    "\n",
    "#Obtained atributes:\n",
    "#cluster_list: List of all clusteres obtained with Eucladean Clustering\n",
    "\n",
    "Utils.open3dpaint(Mysegmentor.cluster_list,reduce_for_Vis = True ,voxelsize=0.1)"
   ]
  },
  {
   "cell_type": "code",
   "execution_count": 8,
   "metadata": {},
   "outputs": [],
   "source": [
    "#Group stem segments\n",
    "Mysegmentor.Step_4_Group_Stems(max_angle=0.4)\n",
    "\n",
    "#Obtained atributes:\n",
    "#cluster_list: List of all complete stems obtained by joining clusters belonging to the same tree\n",
    "            \n",
    "Utils.open3dpaint(Mysegmentor.complete_Stems,reduce_for_Vis = True ,voxelsize=0.1)"
   ]
  },
  {
   "cell_type": "code",
   "execution_count": 9,
   "metadata": {},
   "outputs": [],
   "source": [
    "Mysegmentor.Step_5_Get_Ground_Level_Trees(lowstems_Height=5, cutstems_Height=5)\n",
    "\n",
    "#Obtained atributes:\n",
    "#lowstems: List of all stems truncated to the specified height\n",
    "\n",
    "Utils.open3dpaint(Mysegmentor.lowstems,reduce_for_Vis = True ,voxelsize=0.1)"
   ]
  },
  {
   "cell_type": "code",
   "execution_count": 10,
   "metadata": {},
   "outputs": [],
   "source": [
    "Mysegmentor.Step_6_Get_Cylinder_Tree_Models(searchRadius=0.1)\n",
    "\n",
    "['model']\n",
    "#Obtained atributes:\n",
    "#finalstems: Dictionary with two keys 'tree' which contains the points used to fit the cylinder model and 'model' which contains the cylinder model parameters\n",
    "#stemcyls: List of the pointclouds that represent the tree modeled with a cylinder\n",
    "\n",
    "Utils.open3dpaint([i['tree'] for i in Mysegmentor.finalstems] + Mysegmentor.stemcyls,reduce_for_Vis = True ,voxelsize=0.1)\n",
    "     "
   ]
  },
  {
   "cell_type": "markdown",
   "metadata": {},
   "source": [
    "Finally we save the extracted trees and their DBH"
   ]
  },
  {
   "cell_type": "code",
   "execution_count": 11,
   "metadata": {},
   "outputs": [],
   "source": [
    "Mysegmentor.save_results(savelocation = 'myresults.csv')"
   ]
  },
  {
   "cell_type": "markdown",
   "metadata": {},
   "source": [
    "Load Cloud and visualize"
   ]
  },
  {
   "cell_type": "markdown",
   "metadata": {},
   "source": [
    "Use PDAL to apply a Morphological Filter to seperate ground and non ground points"
   ]
  },
  {
   "cell_type": "code",
   "execution_count": 7,
   "metadata": {},
   "outputs": [],
   "source": [
    "PointCloud = pclpy.pcl.PointCloud.PointXYZ()\n",
    "pclpy.pcl.io.loadPCDFile('D:/Documentos/ParaAutonomia/Python/Proyecto/Data/NistClouds/downsampledlesscloudEURO3.pcd',PointCloud)\n",
    "PointCloudV = segTree.voxelize(PointCloud.xyz,0.05)\n",
    "Utils.open3dpaint(PointCloudV, reduce_for_Vis = True ,voxelsize=0.1)"
   ]
  },
  {
   "cell_type": "code",
   "execution_count": 8,
   "metadata": {},
   "outputs": [],
   "source": [
    "Mysegmentor.set_pointcloud(PointCloudV)"
   ]
  },
  {
   "cell_type": "code",
   "execution_count": 9,
   "metadata": {},
   "outputs": [
    {
     "name": "stdout",
     "output_type": "stream",
     "text": [
      "Step_1_Remove_Floor\n",
      "Step_2_Normal_Filtering\n",
      "Step_3_Eucladean_Clustering\n",
      "Step_4_Group_Stems\n",
      "Step_5_Get_Ground_Level_Trees\n",
      "Step_6_Get_Cylinder_Tree_Models\n",
      "Done\n"
     ]
    }
   ],
   "source": [
    "Mysegmentor.Full_Process(verticalityThresh=0.06,\n",
    "    NonNANcurvatureThresh=0.1,\n",
    "    tol=0.1,\n",
    "    minc=40,\n",
    "    maxc=6000000,\n",
    "    max_angle=0.4,\n",
    "    lowstems_Height=5,\n",
    "    cutstems_Height=5,\n",
    "    searchRadius=0.1)\n",
    "\n",
    "cloudmatch = [i['tree'] for i in Mysegmentor.finalstems]+[i for i in Mysegmentor.stemcyls]\n",
    "Utils.open3dpaint(cloudmatch+[PointCloudV], voxelsize=0.2)"
   ]
  },
  {
   "cell_type": "code",
   "execution_count": 14,
   "metadata": {},
   "outputs": [],
   "source": [
    "Utils.open3dpaint([i['tree'] for i in Mysegmentor.finalstems])"
   ]
  },
  {
   "cell_type": "code",
   "execution_count": 41,
   "metadata": {},
   "outputs": [],
   "source": [
    "Utils.open3dpaint([Mysegmentor.finalstems[0]['tree'],Utils.makecylinder(Mysegmentor.finalstems[0]['model'])])"
   ]
  },
  {
   "cell_type": "code",
   "execution_count": 21,
   "metadata": {},
   "outputs": [],
   "source": [
    "def rotation_matrix_from_vectors(vec1, vec2):\n",
    "    if all(np.abs(vec1)==np.abs(vec2)):\n",
    "        return np.eye(3)\n",
    "    a, b = (vec1 / np.linalg.norm(vec1)).reshape(3), (vec2 / np.linalg.norm(vec2)).reshape(3)\n",
    "    v = np.cross(a, b)\n",
    "    c = np.dot(a, b)\n",
    "    s = np.linalg.norm(v)\n",
    "    kmat = np.array([[0, -v[2], v[1]], [v[2], 0, -v[0]], [-v[1], v[0], 0]])\n",
    "    rotation_matrix = np.eye(3) + kmat + kmat.dot(kmat) * ((1 - c) / (s ** 2))\n",
    "    return rotation_matrix"
   ]
  },
  {
   "cell_type": "code",
   "execution_count": 22,
   "metadata": {},
   "outputs": [],
   "source": [
    "R = rotation_matrix_from_vectors(Mysegmentor.finalstems[0]['model'][3:6],[0,0,1])"
   ]
  },
  {
   "cell_type": "code",
   "execution_count": 61,
   "metadata": {},
   "outputs": [],
   "source": [
    "centeredtree = Mysegmentor.finalstems[0]['tree'] - Mysegmentor.finalstems[0]['model'][0:3]\n",
    "centeredcyle = Utils.makecylinder(Mysegmentor.finalstems[0]['model']) - Mysegmentor.finalstems[0]['model'][0:3]\n",
    "correctedcyl = (R @ centeredtree.T).T"
   ]
  },
  {
   "cell_type": "code",
   "execution_count": 62,
   "metadata": {},
   "outputs": [],
   "source": [
    "Utils.open3dpaint([centeredtree, Utils.makecylinder([0,0,0,0,0,1,0.4]), centeredcyle, correctedcyl])"
   ]
  },
  {
   "cell_type": "code",
   "execution_count": 63,
   "metadata": {},
   "outputs": [],
   "source": [
    "from ellipse import LsqEllipse\n",
    "from matplotlib.patches import Ellipse"
   ]
  },
  {
   "cell_type": "code",
   "execution_count": 67,
   "metadata": {},
   "outputs": [],
   "source": [
    "reg = LsqEllipse().fit(correctedcyl[:,0:2])\n",
    "center, a, b, phi = reg.as_parameters()"
   ]
  },
  {
   "cell_type": "code",
   "execution_count": 72,
   "metadata": {},
   "outputs": [
    {
     "data": {
      "text/plain": [
       "0.2556498050689697"
      ]
     },
     "execution_count": 72,
     "metadata": {},
     "output_type": "execute_result"
    }
   ],
   "source": [
    "Mysegmentor.finalstems[0]['model'][6]*2"
   ]
  },
  {
   "cell_type": "code",
   "execution_count": 69,
   "metadata": {},
   "outputs": [
    {
     "data": {
      "text/plain": [
       "0.2554422602905272"
      ]
     },
     "execution_count": 69,
     "metadata": {},
     "output_type": "execute_result"
    }
   ],
   "source": [
    "(3 * (a + b) - np.sqrt((3*a+b)*(a+3*b)))"
   ]
  },
  {
   "cell_type": "code",
   "execution_count": 64,
   "metadata": {},
   "outputs": [
    {
     "data": {
      "text/plain": [
       "<matplotlib.collections.PathCollection at 0x1d82f62e128>"
      ]
     },
     "execution_count": 64,
     "metadata": {},
     "output_type": "execute_result"
    },
    {
     "data": {
      "image/png": "[encoded data removed]",
      "text/plain": [
       "<Figure size 432x432 with 1 Axes>"
      ]
     },
     "metadata": {
      "needs_background": "light"
     },
     "output_type": "display_data"
    }
   ],
   "source": [
    "fig = plt.figure(figsize=(6, 6))\n",
    "ax = plt.subplot()\n",
    "ellipse = Ellipse(\n",
    "        xy=center, width=2*width, height=2*height, angle=np.rad2deg(phi),\n",
    "        edgecolor='b', fc='None', lw=2, label='Fit', zorder=2\n",
    ")\n",
    "ax.add_patch(ellipse)\n",
    "ax.scatter(correctedcyl[:,0],correctedcyl[:,1])"
   ]
  },
  {
   "cell_type": "code",
   "execution_count": 10,
   "metadata": {},
   "outputs": [],
   "source": [
    "#####################################################\n",
    "#Get ground truth\n",
    "treedata = pd.read_csv('D:/Documentos/ParaAutonomia/Python/Proyecto/Data/EuroSDR_DataRelease/EuroSDR_DataRelease/TLS_Benchmarking_Plot_3_LHD.txt',sep = '\\t',names = ['x','y','height','DBH'])\n",
    "Xcor,Ycor,diam = treedata.iloc[0,[0,1,3]]\n",
    "surtreesL1 = [Utils.makecylinder(model=[Xcor, Ycor, 0,0,0,1,diam/2],length=10,dense=20)]\n",
    "Zcor = 0\n",
    "TreeDict = [np.array([Xcor,Ycor,diam])]\n",
    "for i,rows in treedata.iloc[1:].iterrows():\n",
    "    Xcor,Ycor,diam = rows.iloc[[0,1,3]]\n",
    "    if not np.any(np.isnan([Xcor,Ycor,diam])):\n",
    "        surtreesL1.append(Utils.makecylinder(model=[Xcor, Ycor, 0,0,0,1,diam/2],length=10,dense=10))\n",
    "        TreeDict.append(np.array([Xcor,Ycor,diam]))\n",
    "surtrees1 = [p for i in surtreesL1 for p in i]\n",
    "surtreesCloud1 = pclpy.pcl.PointCloud.PointXYZ(surtrees1)\n",
    "\n",
    "#DataBase\n",
    "#Found trees\n",
    "#Hungarian Algorithm assignment\n",
    "CostMat = np.ones([len(TreeDict),len(Mysegmentor.stemcyls)])\n",
    "for X,datatree in enumerate(TreeDict):\n",
    "    for Y,foundtree in enumerate(Mysegmentor.finalstems):\n",
    "        CostMat[X,Y] = np.linalg.norm([datatree[0:2]-foundtree['model'][0:2]])\n",
    "\n",
    "dataindex, foundindex = linear_sum_assignment(CostMat,maximize=False)\n",
    "\n",
    "#Get metrics\n",
    "locationerror = []\n",
    "correctlocationerror = []\n",
    "diametererror = []\n",
    "cloudmatch = []\n",
    "for i,j in zip(dataindex, foundindex):\n",
    "    locationerror.append(np.linalg.norm((Mysegmentor.finalstems[j]['model'][0:2]-TreeDict[i][0:2])))\n",
    "    if locationerror[-1]<0.6:\n",
    "        diametererror.append(abs(Mysegmentor.finalstems[j]['model'][6]*2-TreeDict[i][2]))        \n",
    "        correctlocationerror.append(np.linalg.norm((Mysegmentor.finalstems[j]['model'][0:2]-TreeDict[i][0:2])))\n",
    "    #cloudmatch.append(np.vstack([Mysegmentor.finalstems[j]['tree'],Mysegmentor.stemcyls[j]]))\n",
    "    cloudmatch.append(np.vstack([Mysegmentor.finalstems[j]['tree'],Mysegmentor.stemcyls[j]]))\n",
    "    \n",
    "\n",
    "#PCA filtering and Eucladian Clustering\n",
    "Utils.open3dpaint(cloudmatch+[PointCloudV], voxelsize=0.2)"
   ]
  },
  {
   "cell_type": "code",
   "execution_count": 11,
   "metadata": {},
   "outputs": [],
   "source": [
    "n_ref = len(TreeDict)\n",
    "n_match = (len(diametererror))\n",
    "n_extr = len(locationerror) - n_match\n",
    "\n",
    "Completeness = n_match/n_ref\n",
    "Correctness = n_match/(n_extr+n_match)"
   ]
  },
  {
   "cell_type": "code",
   "execution_count": 12,
   "metadata": {},
   "outputs": [
    {
     "name": "stdout",
     "output_type": "stream",
     "text": [
      "Total number of trees in Ground Truth:  148\n",
      "Total number of trees matched with Ground Truth:  79\n",
      "Total number of trees extra trees found:  1\n",
      "Percentage of matched trees:  53 %\n",
      "Percentage of correctly matched trees:  99 %\n"
     ]
    },
    {
     "data": {
      "image/png": "[encoded data removed]",
      "text/plain": [
       "<Figure size 1440x432 with 2 Axes>"
      ]
     },
     "metadata": {
      "needs_background": "light"
     },
     "output_type": "display_data"
    }
   ],
   "source": [
    "plt.figure(figsize = (20,6))\n",
    "plt.subplot(1,2,1)\n",
    "plt.hist(diametererror,50)\n",
    "plt.subplot(1,2,2)\n",
    "plt.hist(correctlocationerror,50)\n",
    "print('Total number of trees in Ground Truth: ', n_ref)\n",
    "print('Total number of trees matched with Ground Truth: ', n_match)\n",
    "print('Total number of trees extra trees found: ', n_extr)\n",
    "\n",
    "print('Percentage of matched trees: ', round(Completeness*100), '%')\n",
    "print('Percentage of correctly matched trees: ', round(Correctness*100), '%')"
   ]
  },
  {
   "cell_type": "code",
   "execution_count": 13,
   "metadata": {},
   "outputs": [
    {
     "name": "stdout",
     "output_type": "stream",
     "text": [
      "Total number of trees in Ground Truth:  148\n",
      "Total number of trees matched with Ground Truth:  79\n",
      "Total number of trees extra trees found:  1\n",
      "Percentage of matched trees:  53 %\n",
      "Percentage of correctly matched trees:  99 %\n"
     ]
    },
    {
     "data": {
      "image/png": "[encoded data removed]",
      "text/plain": [
       "<Figure size 1440x432 with 2 Axes>"
      ]
     },
     "metadata": {
      "needs_background": "light"
     },
     "output_type": "display_data"
    }
   ],
   "source": [
    "plt.figure(figsize = (20,6))\n",
    "plt.subplot(1,2,1)\n",
    "plt.hist(diametererror,50)\n",
    "plt.subplot(1,2,2)\n",
    "plt.hist(correctlocationerror,50)\n",
    "print('Total number of trees in Ground Truth: ', n_ref)\n",
    "print('Total number of trees matched with Ground Truth: ', n_match)\n",
    "print('Total number of trees extra trees found: ', n_extr)\n",
    "\n",
    "print('Percentage of matched trees: ', round(Completeness*100), '%')\n",
    "print('Percentage of correctly matched trees: ', round(Correctness*100), '%')"
   ]
  },
  {
   "cell_type": "code",
   "execution_count": null,
   "metadata": {},
   "outputs": [],
   "source": []
  }
 ],
 "metadata": {
  "kernelspec": {
   "display_name": "Python 3",
   "language": "python",
   "name": "python3"
  },
  "language_info": {
   "codemirror_mode": {
    "name": "ipython",
    "version": 3
   },
   "file_extension": ".py",
   "mimetype": "text/x-python",
   "name": "python",
   "nbconvert_exporter": "python",
   "pygments_lexer": "ipython3",
   "version": "3.6.10"
  }
 },
 "nbformat": 4,
 "nbformat_minor": 4
}
