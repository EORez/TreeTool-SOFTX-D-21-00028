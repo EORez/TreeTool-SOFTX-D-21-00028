{
 "cells": [
  {
   "cell_type": "code",
   "execution_count": 1,
   "metadata": {},
   "outputs": [
    {
     "name": "stderr",
     "output_type": "stream",
     "text": [
      "WARNING (<module>): Couldn't load netifaces, some utils won't work\n"
     ]
    }
   ],
   "source": [
    "import sys\n",
    "sys.path.append('..')\n",
    "sys.path.append('../Libraries/')\n",
    "import pclpy\n",
    "import ARUSTUFF\n",
    "import Plane\n",
    "import Corners\n",
    "import cv2\n",
    "import imp\n",
    "import glob\n",
    "import os\n",
    "import numpy as np\n",
    "import pcl\n",
    "import open3d\n",
    "import pdal\n",
    "from Plane import tic,toc\n",
    "import segTree\n",
    "import pandas as pd\n",
    "from CameraStuff import showim\n",
    "import CameraStuff\n",
    "from scipy.optimize import linear_sum_assignment\n",
    "import matplotlib.pyplot as plt"
   ]
  },
  {
   "cell_type": "code",
   "execution_count": 2,
   "metadata": {},
   "outputs": [],
   "source": [
    "def PCLmouseEvent(event):\n",
    "    global newv\n",
    "    if not hasattr(PCLmouseEvent, \"counter\"):\n",
    "        PCLmouseEvent.counter = 0\n",
    "    PCLmouseEvent.counter += 1\n",
    "    if (event.getButton() == pclpy.pcl.visualization.MouseEvent.LeftButton) & (event.getType() == pclpy.pcl.visualization.MouseEvent.MouseButtonRelease):\n",
    "        newv.addText('thing',event.getX(),event.getY(),'P'+str(PCLmouseEvent.counter))\n",
    "\n",
    "def PCLKeyboardEvent(event):\n",
    "    global newv\n",
    "    global angle\n",
    "    global ThreshC\n",
    "    if (event.getKeySym() == 'k') & (event.keyUp()):\n",
    "        angle -= 1\n",
    "    if (event.getKeySym() == 'i') & (event.keyUp()):\n",
    "        angle += 1\n",
    "    if (event.getKeySym() == 'u') & (event.keyUp()):\n",
    "        ThreshC -= 0.01\n",
    "    if (event.getKeySym() == 'j') & (event.keyUp()):\n",
    "        ThreshC += 0.01\n",
    "    newv.updateText('angle '+\"{:.3f}\".format(angle),0,20,20,1.,0.,0.,'angle')\n",
    "    newv.updateText('ThreshC '+\"{:.3f}\".format(ThreshC),0,50,20,1.,0.,0.,'ThreshC')\n",
    "        #newv.addText('thing',event.getX(),event.getY(),'P'+str(PCLmouseEvent.counter))"
   ]
  },
  {
   "cell_type": "code",
   "execution_count": 3,
   "metadata": {},
   "outputs": [
    {
     "name": "stdout",
     "output_type": "stream",
     "text": [
      "Get ground truth : 4\n"
     ]
    }
   ],
   "source": [
    "#Get ground truth\n",
    "filenumber = 4\n",
    "print('Get ground truth :',filenumber)\n",
    "treedata = pd.read_csv('..\\..\\EuroSDR_DataRelease\\EuroSDR_DataRelease/TLS_Benchmarking_Plot_'+str(filenumber)+'_LHD.txt',sep = '\\t',names = ['x','y','height','DBH'])\n",
    "Xcor,Ycor,diam = treedata.iloc[0,[0,1,3]]\n",
    "surtreesL1 = [Corners.makecylinder(model=[Xcor, Ycor, 0,0,0,1,diam/2],length=10,dense=20)]\n",
    "Zcor = 0\n",
    "TreeDict = [np.array([Xcor,Ycor,diam])]\n",
    "for i,rows in treedata.iloc[1:].iterrows():\n",
    "    Xcor,Ycor,diam = rows.iloc[[0,1,3]]\n",
    "    if not np.any(np.isnan([Xcor,Ycor,diam])):\n",
    "        surtreesL1.append(Corners.makecylinder(model=[Xcor, Ycor, 0,0,0,1,diam/2],length=10,dense=20))\n",
    "        TreeDict.append(np.array([Xcor,Ycor,diam]))\n",
    "surtrees1 = [p for i in surtreesL1 for p in i]\n",
    "surtreesCloud1 = pclpy.pcl.PointCloud.PointXYZ(surtrees1)\n",
    "\n",
    "NongroundCloud = pclpy.pcl.PointCloud.PointXYZ()\n",
    "pclpy.pcl.io.loadPCDFile('Clouds/AllNonGroundEuroLESS'+str(filenumber)+'.pcd',NongroundCloud)\n",
    "\n",
    "puntosnp = NongroundCloud.xyz"
   ]
  },
  {
   "cell_type": "code",
   "execution_count": 4,
   "metadata": {},
   "outputs": [],
   "source": [
    "if False:\n",
    "    individualTree = []\n",
    "    for i in TreeDict:\n",
    "        x,y,d = i\n",
    "        scale = 3\n",
    "        x1,y1,z1 = x-d*scale,y-d*scale,-50\n",
    "        x2,y2,z2 = x+d*scale,y+d*scale,50\n",
    "        ptfilter = pclpy.pcl.filters.CropBox.PointXYZ()\n",
    "        ptfilter.setInputCloud(NongroundCloud)\n",
    "        ptfilter.setMin([x1,y1,z1,0])\n",
    "        ptfilter.setMax([x2,y2,z2,0])\n",
    "        Cropedmm11 = pclpy.pcl.PointCloud.PointXYZ()\n",
    "        ptfilter.filter(Cropedmm11)\n",
    "        individualTree.append(Cropedmm11)\n",
    "\n",
    "    Corners.PCL3dpaint(individualTree)\n",
    "\n",
    "    sortedPC = sorted(Cropedmm11.xyz.tolist(),key= lambda x:[x[2],x[0],x[1]])"
   ]
  },
  {
   "cell_type": "code",
   "execution_count": 5,
   "metadata": {},
   "outputs": [],
   "source": [
    "normals = segTree.ExtractNormals(puntosnp)\n",
    "#Corners.PCL3dpaint([puntosnp,puntosnp+normals.normals*0.1,puntosnp+normals.normals*0.2])"
   ]
  },
  {
   "cell_type": "code",
   "execution_count": 6,
   "metadata": {},
   "outputs": [],
   "source": [
    "angle = 75\n",
    "ThreshV = np.cos(np.deg2rad(angle))\n",
    "ThreshC = 0.1\n",
    "\n",
    "nanmask = np.bitwise_not(np.isnan(normals.normals[:,0]))\n",
    "NonNANpoints = NongroundCloud.xyz[nanmask]\n",
    "NonNANnormals = normals.normals[nanmask]\n",
    "NonNANcurvature = normals.curvature[nanmask]\n",
    "verticality = np.dot(NonNANnormals,[[0],[0],[1]])\n",
    "mask = (verticality < ThreshV) & (-ThreshV < verticality)  #0.1\n",
    "maskC = (NonNANcurvature < ThreshC)## 0.12\n",
    "Fmask = mask.ravel() & maskC.ravel()\n",
    "\n",
    "onlyhorizontalpoints = NonNANpoints[Fmask]\n",
    "onlyhorizontalnormals = NonNANnormals[Fmask]"
   ]
  },
  {
   "cell_type": "code",
   "execution_count": 33,
   "metadata": {},
   "outputs": [],
   "source": [
    "if False:\n",
    "    try:\n",
    "        newv = pclpy.pcl.visualization.PCLVisualizer()\n",
    "        pointcloud = pclpy.pcl.PointCloud.PointXYZ(onlyhorizontalpoints)\n",
    "        newv.addPointCloud(pointcloud,'PC')\n",
    "        #newv.registerMouseCallback(PCLmouseEvent)\n",
    "        newv.registerKeyboardCallback(PCLKeyboardEvent)\n",
    "        newv.addText('angle '+\"{:.3f}\".format(angle),0,20,20,1.,0.,0.,'angle')\n",
    "        newv.addText('ThreshC '+\"{:.3f}\".format(ThreshC),0,50,20,1.,0.,0.,'ThreshC')\n",
    "        while not newv.wasStopped():\n",
    "            verticality = np.dot(NonNANnormals,[[0],[0],[1]])\n",
    "            mask = (verticality < ThreshV) & (-ThreshV < verticality)  #0.1\n",
    "            maskC = (NonNANcurvature < ThreshC)## 0.12\n",
    "            Fmask = mask.ravel() & maskC.ravel()\n",
    "\n",
    "            onlyhorizontalpoints = NonNANpoints[Fmask]\n",
    "            pointcloud = pclpy.pcl.PointCloud.PointXYZ(onlyhorizontalpoints)\n",
    "            newv.removeAllPointClouds()\n",
    "            newv.addPointCloud(pointcloud,'PC')\n",
    "            newv.spinOnce(100)\n",
    "            ThreshV = np.cos(np.deg2rad(angle))\n",
    "        newv.close()\n",
    "\n",
    "    except Exception as e:\n",
    "        newv.close()\n",
    "        print(e)"
   ]
  },
  {
   "cell_type": "code",
   "execution_count": 13,
   "metadata": {},
   "outputs": [],
   "source": [
    "angle = 75\n",
    "ThreshV = np.cos(np.deg2rad(angle))\n",
    "ThreshC = 0.08\n",
    "\n",
    "nanmask = np.bitwise_not(np.isnan(normals.normals[:,0]))\n",
    "NonNANpoints = NongroundCloud.xyz[nanmask]\n",
    "NonNANnormals = normals.normals[nanmask]\n",
    "NonNANcurvature = normals.curvature[nanmask]\n",
    "verticality = np.dot(NonNANnormals,[[0],[0],[1]])\n",
    "mask = (verticality < ThreshV) & (-ThreshV < verticality)  #0.1\n",
    "maskC = (NonNANcurvature < ThreshC)## 0.12\n",
    "Fmask = mask.ravel() & maskC.ravel()\n",
    "\n",
    "onlyhorizontalpoints = NonNANpoints[Fmask]\n",
    "onlyhorizontalnormals = NonNANnormals[Fmask]"
   ]
  },
  {
   "cell_type": "code",
   "execution_count": 57,
   "metadata": {},
   "outputs": [],
   "source": [
    "onlyhorizontalpointsNorm = onlyhorizontalpoints.copy()\n",
    "onlyhorizontalpointsNorm[:,2] = (np.max(onlyhorizontalpointsNorm[:,2])-onlyhorizontalpointsNorm[:,2])/np.max(onlyhorizontalpointsNorm[:,2])"
   ]
  },
  {
   "cell_type": "code",
   "execution_count": 58,
   "metadata": {},
   "outputs": [],
   "source": [
    "scalefactor = 10\n",
    "traslation = np.min(onlyhorizontalpoints,axis = 0)*scalefactor\n",
    "W,H,_ = np.ceil(np.max(onlyhorizontalpoints,axis = 0)-np.min(onlyhorizontalpoints,axis = 0))+1\n",
    "depth = np.zeros([int(W*scalefactor),int(H*scalefactor)],dtype = np.uint16)\n",
    "intpoints = np.round((onlyhorizontalpointsNorm-np.min(onlyhorizontalpointsNorm,axis = 0))*scalefactor).astype(np.int)\n",
    "for i in intpoints:\n",
    "    depth[i[0],i[1]] += i[2]\n",
    "    "
   ]
  },
  {
   "cell_type": "code",
   "execution_count": 93,
   "metadata": {},
   "outputs": [],
   "source": [
    "normdepth = cv2.normalize(depth,None,0,255,cv2.NORM_MINMAX,cv2.CV_8U)\n",
    "_,normdepth = cv2.threshold(normdepth,30,255,cv2.THRESH_BINARY)\n",
    "\n",
    "treeLOC = np.zeros([int(W*scalefactor),int(H*scalefactor),3],dtype = np.uint8)\n",
    "for i in TreeDict:\n",
    "    cv2.circle(treeLOC,(int(i[1]*scalefactor-traslation[1]),int(i[0]*scalefactor-traslation[0])),int(i[2]*scalefactor/2),(0,0,255),2)\n",
    "\n",
    "withthresh = CameraStuff.GRAY3Channels(normdepth) + treeLOC\n",
    "CameraStuff.showim(withthresh)"
   ]
  },
  {
   "cell_type": "code",
   "execution_count": 90,
   "metadata": {},
   "outputs": [],
   "source": [
    "scalefactor = 10\n",
    "traslation = np.min(onlyhorizontalpoints,axis = 0)*scalefactor\n",
    "W,H,_ = np.ceil(np.max(onlyhorizontalpoints,axis = 0)-np.min(onlyhorizontalpoints,axis = 0))+1\n",
    "treeLOC = np.zeros([int(W*scalefactor),int(H*scalefactor),3],dtype = np.uint8)\n",
    "for i in TreeDict:\n",
    "    #cv2.circle(treeLOC,(int(i[1]*scalefactor-traslation[1]),int(i[0]*scalefactor-traslation[0])),min(int(i[2]*scalefactor*10),20),(0,0,255),2)\n",
    "    cv2.circle(treeLOC,(int(i[1]*scalefactor-traslation[1]),int(i[0]*scalefactor-traslation[0])),10,(0,0,255),2)\n",
    "\n",
    "intpoints = np.round((onlyhorizontalpoints-np.min(onlyhorizontalpoints,axis = 0))*scalefactor).astype(np.int)\n",
    "\n",
    "(unique, counts) = np.unique(intpoints[:,0:2],axis=0, return_counts=True)\n",
    "\n",
    "#depth = np.zeros([int(W*scalefactor),int(H*scalefactor)],dtype = np.uint16)\n",
    "\n",
    "#depth[unique[:,0],unique[:,1]] = counts\n",
    "\n",
    "mygui = CameraStuff.AutoGui(variables = ['clipLimit','tileGridSize','thresh'],\n",
    "                            initialvalues=[1,4,100],maxvalues=[10,50,500])\n",
    "while True:\n",
    "    clipLimit, tileGridSize, thresh1 = mygui.getbars()\n",
    "    thresh1 = thresh1 + 1\n",
    "    normdepth = cv2.normalize(depth,None,0,255,cv2.NORM_MINMAX,cv2.CV_8U)\n",
    "    _,normdepth = cv2.threshold(normdepth,thresh1,255,cv2.THRESH_BINARY)\n",
    "    normdepth = CameraStuff.GRAY3Channels(normdepth) + treeLOC\n",
    "    k = CameraStuff.showimKey(normdepth,timing = 10)\n",
    "    if k == ord('q'):\n",
    "        break\n",
    "cv2.destroyAllWindows()"
   ]
  },
  {
   "cell_type": "code",
   "execution_count": 83,
   "metadata": {},
   "outputs": [],
   "source": [
    "cv2.destroyAllWindows()"
   ]
  },
  {
   "cell_type": "code",
   "execution_count": null,
   "metadata": {},
   "outputs": [],
   "source": []
  }
 ],
 "metadata": {
  "kernelspec": {
   "display_name": "Python 3",
   "language": "python",
   "name": "python3"
  },
  "language_info": {
   "codemirror_mode": {
    "name": "ipython",
    "version": 3
   },
   "file_extension": ".py",
   "mimetype": "text/x-python",
   "name": "python",
   "nbconvert_exporter": "python",
   "pygments_lexer": "ipython3",
   "version": "3.6.10"
  }
 },
 "nbformat": 4,
 "nbformat_minor": 4
}
