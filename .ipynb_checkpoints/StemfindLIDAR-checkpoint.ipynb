{
 "cells": [
  {
   "cell_type": "code",
   "execution_count": 1,
   "metadata": {},
   "outputs": [],
   "source": [
    "import sys\n",
    "sys.path.append('..')\n",
    "from laspy.file import File\n",
    "import pclpy\n",
    "import pcl\n",
    "import VelLoader\n",
    "import ARUSTUFF\n",
    "import Plane\n",
    "import Corners\n",
    "import cv2\n",
    "import imp\n",
    "import glob\n",
    "import os\n",
    "import numpy as np\n",
    "import open3d\n",
    "import pdal\n",
    "import pandas as pd\n",
    "import pclpy"
   ]
  },
  {
   "cell_type": "code",
   "execution_count": 2,
   "metadata": {},
   "outputs": [
    {
     "name": "stdout",
     "output_type": "stream",
     "text": [
      "[+] attempting to load D:/Documentos/ParaAutonomia/Python/Proyecto/NIST_12-12-19/2019-12-11-10-14-26_Velodyne-VLP-16-Data (Frame 1600 to 26600) (Frame 0 to 5000).pcap\n",
      "[+] found valid header\n",
      "[+] loaded 841089 packets\n",
      "[+] finished loading savefile.\n",
      "26.7821967\n"
     ]
    }
   ],
   "source": [
    "Plane.tic()\n",
    "reader = VelLoader.VVdataloader(r'D:/Documentos/ParaAutonomia/Python/Proyecto/NIST_12-12-19/2019-12-11-10-14-26_Velodyne-VLP-16-Data (Frame 1600 to 26600) (Frame 0 to 5000).pcap')\n",
    "Plane.toc()"
   ]
  },
  {
   "cell_type": "code",
   "execution_count": 66,
   "metadata": {},
   "outputs": [],
   "source": [
    "def FloorRemove(points, scalar=0.2, slope=0.2, threshold=0.45, window=16.0):\n",
    "    pcd.points = open3d.Vector3dVector(points)\n",
    "    open3d.write_point_cloud('LIDARRF.ply',pcd)\n",
    "    json = \"\"\"\n",
    "    [\n",
    "        \"LIDARRF.ply\",\n",
    "        {\n",
    "            \"type\":\"filters.smrf\",\n",
    "            \"scalar\":0.2,\n",
    "            \"slope\":0.2,\n",
    "            \"threshold\":0.45,\n",
    "            \"window\":16.0\n",
    "        }\n",
    "    ]\n",
    "    \"\"\"\n",
    "    pipeline = pdal.Pipeline(json)\n",
    "    pipeline.validate()\n",
    "    pipeline.execute()\n",
    "    arrays = pipeline.arrays\n",
    "    points1 = arrays[0][arrays[0]['Classification']==1]\n",
    "    points2 = arrays[0][arrays[0]['Classification']==2]\n",
    "\n",
    "    Nogroundpoints = np.array(points1[['X','Y','Z']].tolist())\n",
    "    ground = np.array(points2[['X','Y','Z']].tolist())\n",
    "    return Nogroundpoints,ground"
   ]
  },
  {
   "cell_type": "code",
   "execution_count": 96,
   "metadata": {},
   "outputs": [],
   "source": [
    "def RadiusOutlierRemoval(points , MinN=6, Radius=0.4, Organized=True):\n",
    "    ROR = pclpy.pcl.filters.RadiusOutlierRemoval.PointXYZ()\n",
    "    cloud = pclpy.pcl.PointCloud.PointXYZ(points)\n",
    "    ROR.setInputCloud(cloud)\n",
    "    ROR.setMinNeighborsInRadius(MinN)\n",
    "    ROR.setRadiusSearch(Radius)\n",
    "    ROR.setKeepOrganized(Organized)\n",
    "    FilteredROR = pclpy.pcl.PointCloud.PointXYZ()\n",
    "    ROR.filter(FilteredROR)\n",
    "    return FilteredROR.xyz"
   ]
  },
  {
   "cell_type": "code",
   "execution_count": 3,
   "metadata": {},
   "outputs": [],
   "source": [
    "dataframe = pd.concat([reader.getdataFrame(1),reader.getdataFrame(2)]) "
   ]
  },
  {
   "cell_type": "code",
   "execution_count": 95,
   "metadata": {},
   "outputs": [],
   "source": [
    "pointsXYZ = dataframe[['X','Y','Z']].values\n",
    "Nogroundpoints,ground = FloorRemove(pointsXYZ)\n",
    "Corners.open3dpaint([Nogroundpoints,ground])\n",
    "\n",
    "flatpoints = np.hstack([Nogroundpoints[:,0:2],np.zeros_like(Nogroundpoints)[:,0:1]])"
   ]
  },
  {
   "cell_type": "code",
   "execution_count": 97,
   "metadata": {},
   "outputs": [],
   "source": [
    "RRFpoints = RadiusOutlierRemoval(flatpoints)\n",
    "notgoodpoints = Nogroundpoints[np.isnan(RRFpoints[:,0])]\n",
    "goodpoints = Nogroundpoints[np.bitwise_not(np.isnan(RRFpoints[:,0]))]\n",
    "Corners.open3dpaint([goodpoints,notgoodpoints])"
   ]
  },
  {
   "cell_type": "code",
   "execution_count": 98,
   "metadata": {},
   "outputs": [
    {
     "name": "stdout",
     "output_type": "stream",
     "text": [
      "cluster_indices : 31 count.\n"
     ]
    }
   ],
   "source": [
    "filtered_points = pcl.PointCloud(goodpoints.astype(np.float32))\n",
    "# Creating the KdTree object for the search method of the extraction\n",
    "tree = filtered_points.make_kdtree()\n",
    "\n",
    "ec = filtered_points.make_EuclideanClusterExtraction()\n",
    "ec.set_ClusterTolerance(2)\n",
    "ec.set_MinClusterSize(20)\n",
    "ec.set_MaxClusterSize(25000)\n",
    "ec.set_SearchMethod (tree)\n",
    "cluster_indices = ec.Extract()\n",
    "\n",
    "print('cluster_indices : ' + str(len(cluster_indices)) + \" count.\")\n",
    "cloud_cluster = pcl.PointCloud()"
   ]
  },
  {
   "cell_type": "code",
   "execution_count": 99,
   "metadata": {},
   "outputs": [
    {
     "name": "stdout",
     "output_type": "stream",
     "text": [
      "indices = 8957\n",
      "indices = 3377\n",
      "indices = 464\n",
      "indices = 317\n",
      "indices = 179\n",
      "indices = 144\n",
      "indices = 141\n",
      "indices = 141\n",
      "indices = 108\n",
      "indices = 93\n",
      "indices = 75\n",
      "indices = 73\n",
      "indices = 67\n",
      "indices = 66\n",
      "indices = 65\n",
      "indices = 60\n",
      "indices = 42\n",
      "indices = 42\n",
      "indices = 33\n",
      "indices = 32\n",
      "indices = 32\n",
      "indices = 28\n",
      "indices = 27\n",
      "indices = 26\n",
      "indices = 26\n",
      "indices = 25\n",
      "indices = 24\n",
      "indices = 22\n",
      "indices = 21\n",
      "indices = 21\n",
      "indices = 20\n"
     ]
    }
   ],
   "source": [
    "cluster_list = []\n",
    "for j, indices in enumerate(cluster_indices):\n",
    "    # cloudsize = indices\n",
    "    print('indices = ' + str(len(indices)))\n",
    "    # cloudsize = len(indices)\n",
    "    points = np.zeros((len(indices), 3), dtype=np.float32)\n",
    "    # points = np.zeros((cloudsize, 3), dtype=np.float32)\n",
    "\n",
    "    # for indice in range(len(indices)):\n",
    "    for i, indice in enumerate(indices):\n",
    "        # print('dataNum = ' + str(i) + ', data point[x y z]: ' + str(cloud_filtered[indice][0]) + ' ' + str(cloud_filtered[indice][1]) + ' ' + str(cloud_filtered[indice][2]))\n",
    "        # print('PointCloud representing the Cluster: ' + str(cloud_cluster.size) + \" data points.\")\n",
    "        points[i][0] = filtered_points[indice][0]\n",
    "        points[i][1] = filtered_points[indice][1]\n",
    "        points[i][2] = filtered_points[indice][2]\n",
    "    cluster_list.append(points)"
   ]
  },
  {
   "cell_type": "code",
   "execution_count": 100,
   "metadata": {},
   "outputs": [],
   "source": [
    "Corners.open3dpaint(cluster_list+[Nogroundpoints])"
   ]
  },
  {
   "cell_type": "code",
   "execution_count": 128,
   "metadata": {},
   "outputs": [],
   "source": [
    "RGclusters = []\n",
    "for i in cluster_list:\n",
    "    segcloud = pclpy.pcl.PointCloud.PointXYZ(i)\n",
    "    segcloudNor = pclpy.pcl.features.NormalEstimation.PointXYZ_Normal()\n",
    "    tree = pclpy.pcl.search.KdTree.PointXYZ()\n",
    "\n",
    "    segcloudNor.setInputCloud(segcloud)\n",
    "    segcloudNor.setSearchMethod(tree)\n",
    "    segcloudNor.setKSearch(30)\n",
    "    normals = pclpy.pcl.PointCloud.Normal()\n",
    "    segcloudNor.compute(normals)\n",
    "    \n",
    "    RGF = pclpy.pcl.segmentation.RegionGrowing.PointXYZ_Normal()\n",
    "    RGF.setInputCloud(segcloud)\n",
    "    RGF.setInputNormals(normals)\n",
    "    RGF.setMinClusterSize(30)\n",
    "    RGF.setMaxClusterSize(100000)\n",
    "    RGF.setSearchMethod(tree)\n",
    "    RGF.setNumberOfNeighbours(30)\n",
    "    RGF.setSmoothnessThreshold(30.0 / 180.0 * np.pi)\n",
    "    RGF.setCurvatureThreshold(1.0)\n",
    "\n",
    "    clusters = pclpy.pcl.vectors.PointIndices()\n",
    "    RGF.extract(clusters)\n",
    "    \n",
    "    ppclusters = [segcloud.xyz[i2.indices] for i2 in clusters]\n",
    "    RGclusters.append(ppclusters)"
   ]
  },
  {
   "cell_type": "code",
   "execution_count": 129,
   "metadata": {},
   "outputs": [],
   "source": [
    "import functools\n",
    "import operator "
   ]
  },
  {
   "cell_type": "code",
   "execution_count": 130,
   "metadata": {},
   "outputs": [],
   "source": [
    "allRGclusters = functools.reduce(operator.add,RGclusters)"
   ]
  },
  {
   "cell_type": "code",
   "execution_count": 131,
   "metadata": {},
   "outputs": [],
   "source": [
    "Corners.open3dpaint(allRGclusters)"
   ]
  },
  {
   "cell_type": "code",
   "execution_count": 132,
   "metadata": {},
   "outputs": [],
   "source": [
    "Corners.open3dpaint(allRGclusters+[Nogroundpoints*1.02])"
   ]
  },
  {
   "cell_type": "code",
   "execution_count": 165,
   "metadata": {},
   "outputs": [],
   "source": [
    "allS = []\n",
    "stems = []\n",
    "segcloud = pcl.PointCloud()\n",
    "models = []\n",
    "for p in cluster_list:\n",
    "    \n",
    "    segcloud.from_array(p)\n",
    "    cylseg = segcloud.make_segmenter_normals(ksearch=20)\n",
    "    #cylseg = segcloud.make_segmenter()\n",
    "    cylseg.set_optimize_coefficients(True)\n",
    "    cylseg.set_model_type(pcl.SACMODEL_CYLINDER)\n",
    "    cylseg.set_model_type(pcl.SACMODEL_LINE)\n",
    "    cylseg.set_method_type(pcl.SAC_RANSAC)\n",
    "    cylseg.set_normal_distance_weight(0.0001)\n",
    "    cylseg.set_max_iterations(1000)\n",
    "    #cylseg.set_MaxIterations(1000000)\n",
    "    cylseg.set_distance_threshold(.4)\n",
    "    cylseg.set_radius_limits(0,0.5)\n",
    "\n",
    "    indices, model = cylseg.segment()\n",
    "\n",
    "    prop = len(segcloud.extract(indices).to_array())/len(segcloud.to_array())\n",
    "    if len(indices)>1 and prop>0. and np.arccos(np.dot([0,0,1],model[3:6]))<1.: \n",
    "        stems.append(segcloud.extract(indices).to_array())\n",
    "        models.append(model)\n",
    "        allS.append(prop)"
   ]
  },
  {
   "cell_type": "code",
   "execution_count": 166,
   "metadata": {},
   "outputs": [],
   "source": [
    "Corners.open3dpaint(stems)"
   ]
  },
  {
   "cell_type": "code",
   "execution_count": 154,
   "metadata": {},
   "outputs": [],
   "source": [
    "modelfig = []\n",
    "for i,m in zip(stems,models):\n",
    "    modelfig.append(Corners.makecylinder(m,3,10))"
   ]
  },
  {
   "cell_type": "code",
   "execution_count": 155,
   "metadata": {},
   "outputs": [],
   "source": [
    "Corners.open3dpaint(stems+modelfig)"
   ]
  },
  {
   "cell_type": "code",
   "execution_count": 156,
   "metadata": {},
   "outputs": [],
   "source": [
    "Corners.open3dpaint(stems+[Nogroundpoints*1.02])"
   ]
  },
  {
   "cell_type": "code",
   "execution_count": null,
   "metadata": {},
   "outputs": [],
   "source": []
  }
 ],
 "metadata": {
  "kernelspec": {
   "display_name": "Python 3",
   "language": "python",
   "name": "python3"
  },
  "language_info": {
   "codemirror_mode": {
    "name": "ipython",
    "version": 3
   },
   "file_extension": ".py",
   "mimetype": "text/x-python",
   "name": "python",
   "nbconvert_exporter": "python",
   "pygments_lexer": "ipython3",
   "version": "3.6.10"
  }
 },
 "nbformat": 4,
 "nbformat_minor": 4
}
