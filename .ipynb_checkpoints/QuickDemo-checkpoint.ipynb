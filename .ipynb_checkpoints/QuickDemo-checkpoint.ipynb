{
 "cells": [
  {
   "cell_type": "markdown",
   "metadata": {},
   "source": [
    "Setup"
   ]
  },
  {
   "cell_type": "code",
   "execution_count": 1,
   "metadata": {},
   "outputs": [],
   "source": [
    "import sys\n",
    "sys.path.append('Libraries/')\n",
    "import pclpy\n",
    "import cv2\n",
    "import glob\n",
    "import os\n",
    "import numpy as np\n",
    "import pdal\n",
    "import segTree\n",
    "import Visualization\n",
    "import Utils\n",
    "import pandas as pd\n",
    "from scipy.optimize import linear_sum_assignment\n",
    "import matplotlib.pyplot as plt\n",
    "import Corners\n",
    "\n",
    "#Utils\n",
    "def tic():\n",
    "    global timestart\n",
    "    timestart = time.perf_counter()\n",
    "    \n",
    "def toc():\n",
    "    global timestart\n",
    "    return time.perf_counter()-timestart"
   ]
  },
  {
   "cell_type": "code",
   "execution_count": 2,
   "metadata": {},
   "outputs": [],
   "source": [
    "PointCloud = pclpy.pcl.PointCloud.PointXYZ()\n",
    "pclpy.pcl.io.loadPCDFile('D:/Documentos/ParaAutonomia/Python/Proyecto/Data/NistClouds/downsampledlesscloudEURO1.pcd',PointCloud)\n",
    "Visualization.PCL3dpaint(PointCloud)"
   ]
  },
  {
   "cell_type": "code",
   "execution_count": 103,
   "metadata": {},
   "outputs": [],
   "source": [
    "class Tree_tool():\n",
    "    def __init__(self, pointcloud = None, Ksearch = 0.08):\n",
    "        if not pointcloud is None:\n",
    "            assert (type(pointcloud) == pclpy.pcl.PointCloud.PointXYZRGB) or (type(pointcloud) == pclpy.pcl.PointCloud.PointXYZ) or (type(pointcloud) == np.ndarray), 'Not valid pointcloud'\n",
    "            if (type(pointcloud) == np.ndarray):\n",
    "                self.Pointcloud = pclpy.pcl.PointCloud.PointXYZ(pointcloud)\n",
    "            else:\n",
    "                self.Pointcloud = pointcloud\n",
    "            self.Ksearch = Ksearch\n",
    "    \n",
    "    def set_pointcloud(self, pointcloud):\n",
    "        if pointcloud:\n",
    "            assert (type(pointcloud) == pclpy.pcl.PointCloud.PointXYZRGB) or (type(pointcloud) == pclpy.pcl.PointCloud.PointXYZ) or (type(pointcloud) == np.ndarray), 'Not valid pointcloud'\n",
    "            if (type(pointcloud) == np.ndarray):\n",
    "                self.Pointcloud = pclpy.pcl.PointCloud.PointXYZ(pointcloud)\n",
    "            else:\n",
    "                self.Pointcloud = pointcloud\n",
    "    \n",
    "    def Step_1_Remove_Floor(self):\n",
    "        Nogroundpoints, Ground = segTree.FloorRemove(self.Pointcloud)\n",
    "        self.NongroundCloud = pclpy.pcl.PointCloud.PointXYZ(Nogroundpoints)\n",
    "        self.GroundCloud = pclpy.pcl.PointCloud.PointXYZ(Ground)\n",
    "        \n",
    "        \n",
    "    def set_Ksearch(self, Ksearch):\n",
    "        self.Ksearch = Ksearch    \n",
    "        \n",
    "\n",
    "    def Step_2_Normal_Filtering(self, verticalityThresh = 0.06, NonNANcurvatureThresh = 0.1):\n",
    "        self.normals = segTree.ExtractNormals(self.NongroundCloud.xyz, self.Ksearch)\n",
    "\n",
    "        nanmask = np.bitwise_not(np.isnan(self.normals.normals[:,0]))\n",
    "        NonNANpoints = self.NongroundCloud.xyz[nanmask]\n",
    "        NonNANnormals = self.normals.normals[nanmask]\n",
    "        NonNANcurvature = self.normals.curvature[nanmask]\n",
    "        verticality = np.dot(NonNANnormals,[[0],[0],[1]])\n",
    "        mask = (verticality < verticalityThresh) & (-verticalityThresh < verticality)  #0.1\n",
    "        maskC = (NonNANcurvature < NonNANcurvatureThresh)## 0.12\n",
    "        Fmask = mask.ravel() & maskC.ravel()\n",
    "\n",
    "        onlyhorizontalpoints = NonNANpoints[Fmask]\n",
    "        onlyhorizontalnormals = NonNANnormals[Fmask]\n",
    "        \n",
    "        self.filteredpoints = pclpy.pcl.PointCloud.PointXYZ(onlyhorizontalpoints)\n",
    "        self.filterednormals = onlyhorizontalnormals\n",
    "    \n",
    "    def Step_3_Eucladean_Clustering(self, tol=0.1, minc=40, maxc=6000000):\n",
    "        self.cluster_list = segTree.EucladeanClusterExtract(self.filteredpoints.xyz, tol = tol, minc = minc, maxc = maxc)\n",
    "        \n",
    "    def Step_4_Group_Stems(self, max_angle = 0.4):\n",
    "        GroupStems = []\n",
    "        bufferStems = self.cluster_list.copy()\n",
    "        for n,p in enumerate(self.cluster_list):\n",
    "            Centroid = np.mean(p, axis = 0)\n",
    "            vT,S = Corners.getPrincipalVectors(p-Centroid)\n",
    "            strieghtness = S[0]/(S[0]+S[1]+S[2])\n",
    "\n",
    "            clustersDICT = {}\n",
    "            clustersDICT['cloud'] = p\n",
    "            clustersDICT['strieghtness'] = strieghtness\n",
    "            clustersDICT['center'] = Centroid\n",
    "            clustersDICT['direction'] = vT\n",
    "            GroupStems.append(clustersDICT)\n",
    "\n",
    "        bufferStems = [i['cloud'] for i in GroupStems]\n",
    "        for treenumber1 in reversed(range(0,len(bufferStems))):\n",
    "            for treenumber2 in reversed(range(0,treenumber1-1)):\n",
    "                center1 = GroupStems[treenumber1]['center']\n",
    "                center2 = GroupStems[treenumber2]['center']\n",
    "                angle1 = GroupStems[treenumber1]['direction'][0]\n",
    "                angle2 = GroupStems[treenumber2]['direction'][0]\n",
    "                dist1 = Utils.DistPoint2Line(center2,angle1+center1,center1)\n",
    "                dist2 = Utils.DistPoint2Line(center1,angle2+center2,center2)\n",
    "                if (dist1 < max_angle) | (dist2 < max_angle):\n",
    "                    bufferStems[treenumber2] = np.vstack([bufferStems[treenumber2],bufferStems.pop(treenumber1)])\n",
    "                    break\n",
    "\n",
    "        self.complete_Stems = bufferStems\n",
    "        \n",
    "    def Step_5_Get_Ground_Level_Trees( self, lowstems_Height = 5, cutstems_Height = 5):\n",
    "        pointpart = self.GroundCloud.xyz\n",
    "        \n",
    "        A = np.c_[np.ones(pointpart.shape[0]), pointpart[:,:2], np.prod(pointpart[:,:2], axis=1), pointpart[:,:2]**2]\n",
    "        self.Ground_Model_C,_,_,_ = np.linalg.lstsq(A, pointpart[:,2], rcond=None)\n",
    "\n",
    "        StemsWithGround = []\n",
    "        for i in self.complete_Stems:\n",
    "            center = np.mean(i,0)\n",
    "            X,Y = center[:2]\n",
    "            Z = np.dot(np.c_[np.ones(X.shape), X, Y, X*Y, X**2, Y**2], self.Ground_Model_C)\n",
    "            StemsWithGround.append([i,[X,Y,Z[0]]])\n",
    "\n",
    "        lowStems = [i for i in StemsWithGround if np.min(i[0],axis=0)[2] < (lowstems_Height + i[1][2])]\n",
    "        cutstems = [[i[0][i[0][:,2]<(cutstems_Height + i[1][2])],i[1]] for i in lowStems]\n",
    "        \n",
    "        self.cutstems = cutstems\n",
    "        self.lowstems = [i[0] for i in cutstems]\n",
    "        \n",
    "    def Step_6_Get_Cylinder_Tree_Models( self, searchRadius = 0.1):\n",
    "        finalstems = []\n",
    "        stemcyls = []\n",
    "        rech = []\n",
    "        for p in self.cutstems:\n",
    "            segpoints = p[0]\n",
    "            indices, model = segTree.segment_normals(segpoints, searchRadius = searchRadius, model=pclpy.pcl.sample_consensus.SACMODEL_CYLINDER, method=pclpy.pcl.sample_consensus.SAC_RANSAC, normalweight=0.01, miter=10000, distance=0.08, rlim=[0,0.4])\n",
    "            if len(indices)>0:\n",
    "                if abs(np.dot(model[3:6],[0,0,1])/np.linalg.norm(model[3:6])) > 0.5:\n",
    "                    newmodel = np.array(model)\n",
    "                    Z = 1.3 + p[1][2]\n",
    "                    Y = model[1] + model[4] * (Z - model[2]) / model[5]\n",
    "                    X = model[0] + model[3] * (Z - model[2]) / model[5]\n",
    "                    newmodel[0:3] = np.array([X,Y,Z])\n",
    "                    newmodel[3:6] = Utils.similarize(newmodel[3:6],[0,0,1])\n",
    "                    finalstems.append({'tree':segpoints[indices],'model':newmodel})\n",
    "                    stemcyls.append(Utils.makecylinder(model=newmodel,length=7,dense=60))\n",
    "                    \n",
    "        self.finalstems = finalstems\n",
    "        self.stemcyls = stemcyls\n",
    "        \n",
    "    def Full_Process(self):\n",
    "        print('Step_1_Remove_Floor')\n",
    "        self.Step_1_Remove_Floor()\n",
    "        print('Step_2_Normal_Filtering')\n",
    "        self.Step_2_Normal_Filtering()\n",
    "        print('Step_3_Eucladean_Clustering')\n",
    "        self.Step_3_Eucladean_Clustering()\n",
    "        print('Step_4_Group_Stems')\n",
    "        self.Step_4_Group_Stems()\n",
    "        print('Step_5_Get_Ground_Level_Trees')\n",
    "        self.Step_5_Get_Ground_Level_Trees()\n",
    "        print('Step_6_Get_Cylinder_Tree_Models')\n",
    "        self.Step_6_Get_Cylinder_Tree_Models()\n",
    "        print('Done')"
   ]
  },
  {
   "cell_type": "markdown",
   "metadata": {},
   "source": [
    "Load Cloud and visualize"
   ]
  },
  {
   "cell_type": "markdown",
   "metadata": {},
   "source": [
    "Use PDAL to apply a Morphological Filter to seperate ground and non ground points"
   ]
  },
  {
   "cell_type": "code",
   "execution_count": 104,
   "metadata": {},
   "outputs": [
    {
     "name": "stdout",
     "output_type": "stream",
     "text": [
      "5073202 9360346\n"
     ]
    }
   ],
   "source": [
    "PointCloudV = segTree.voxelize(PointCloud.xyz,0.04)\n",
    "print(len(PointCloudV), len(PointCloud.xyz))\n",
    "Mysegmentor = Tree_tool(PointCloudV)"
   ]
  },
  {
   "cell_type": "code",
   "execution_count": 105,
   "metadata": {},
   "outputs": [
    {
     "name": "stdout",
     "output_type": "stream",
     "text": [
      "Step_1_Remove_Floor\n",
      "Step_2_Normal_Filtering\n",
      "Step_3_Eucladean_Clustering\n",
      "Step_4_Group_Stems\n",
      "Step_5_Get_Ground_Level_Trees\n",
      "Step_6_Get_Cylinder_Tree_Models\n",
      "Done\n"
     ]
    }
   ],
   "source": [
    "Mysegmentor.Full_Process()"
   ]
  },
  {
   "cell_type": "code",
   "execution_count": 90,
   "metadata": {},
   "outputs": [
    {
     "name": "stdout",
     "output_type": "stream",
     "text": [
      "5073202 9360346\n"
     ]
    }
   ],
   "source": [
    "Mysegmentor.Step_1_Remove_Floor()\n",
    "\n",
    "Visualization.PCL3dpaint([Mysegmentor.NongroundCloud,Mysegmentor.GroundCloud])"
   ]
  },
  {
   "cell_type": "markdown",
   "metadata": {},
   "source": [
    "Set Algorithm Parameters"
   ]
  },
  {
   "cell_type": "code",
   "execution_count": 91,
   "metadata": {},
   "outputs": [],
   "source": [
    "Mysegmentor.set_Ksearch(0.08)"
   ]
  },
  {
   "cell_type": "markdown",
   "metadata": {},
   "source": [
    "Run main process"
   ]
  },
  {
   "cell_type": "code",
   "execution_count": 92,
   "metadata": {},
   "outputs": [],
   "source": [
    "#Get point normals for filtering\n",
    "Mysegmentor.Step_2_Normal_Filtering()\n",
    "Visualization.PCL3dpaint([Mysegmentor.NongroundCloud.xyz, Mysegmentor.NongroundCloud.xyz + Mysegmentor.normals.normals * 0.1,\n",
    "                          Mysegmentor.NongroundCloud.xyz + Mysegmentor.normals.normals * 0.2])\n",
    "\n",
    "Visualization.PCL3dpaint([Mysegmentor.filteredpoints.xyz , Mysegmentor.filteredpoints.xyz + Mysegmentor.filterednormals * 0.05,\n",
    "                          Mysegmentor.filteredpoints.xyz + Mysegmentor.filterednormals * 0.1])"
   ]
  },
  {
   "cell_type": "code",
   "execution_count": 93,
   "metadata": {},
   "outputs": [],
   "source": [
    "Mysegmentor.Step_3_Eucladean_Clustering()\n",
    "Visualization.PCL3dpaint(Mysegmentor.cluster_list)"
   ]
  },
  {
   "cell_type": "code",
   "execution_count": 94,
   "metadata": {},
   "outputs": [],
   "source": [
    "#Group stem segments\n",
    "Mysegmentor.Step_4_Group_Stems()\n",
    "            \n",
    "Visualization.PCL3dpaint(Mysegmentor.complete_Stems)"
   ]
  },
  {
   "cell_type": "code",
   "execution_count": 95,
   "metadata": {},
   "outputs": [],
   "source": [
    "Mysegmentor.Step_5_Get_Ground_Level_Trees()\n",
    "\n",
    "Visualization.PCL3dpaint(Mysegmentor.lowstems)"
   ]
  },
  {
   "cell_type": "code",
   "execution_count": 97,
   "metadata": {},
   "outputs": [],
   "source": [
    "Mysegmentor.Step_6_Get_Cylinder_Tree_Models()\n",
    "\n",
    "Visualization.PCL3dpaint([i['tree'] for i in Mysegmentor.finalstems] + Mysegmentor.stemcyls)\n",
    "     "
   ]
  },
  {
   "cell_type": "code",
   "execution_count": null,
   "metadata": {},
   "outputs": [],
   "source": [
    "   \n",
    "\n",
    "#####################################################\n",
    "#Get ground truth\n",
    "treedata = pd.read_csv('D:/Documentos/ParaAutonomia/Python/Proyecto/Data/EuroSDR_DataRelease/EuroSDR_DataRelease/TLS_Benchmarking_Plot_1_LHD.txt',sep = '\\t',names = ['x','y','height','DBH'])\n",
    "Xcor,Ycor,diam = treedata.iloc[0,[0,1,3]]\n",
    "surtreesL1 = [Utils.makecylinder(model=[Xcor, Ycor, 0,0,0,1,diam/2],length=10,dense=20)]\n",
    "Zcor = 0\n",
    "TreeDict = [np.array([Xcor,Ycor,diam])]\n",
    "for i,rows in treedata.iloc[1:].iterrows():\n",
    "    Xcor,Ycor,diam = rows.iloc[[0,1,3]]\n",
    "    if not np.any(np.isnan([Xcor,Ycor,diam])):\n",
    "        surtreesL1.append(Utils.makecylinder(model=[Xcor, Ycor, 0,0,0,1,diam/2],length=10,dense=10))\n",
    "        TreeDict.append(np.array([Xcor,Ycor,diam]))\n",
    "surtrees1 = [p for i in surtreesL1 for p in i]\n",
    "surtreesCloud1 = pclpy.pcl.PointCloud.PointXYZ(surtrees1)\n",
    "\n",
    "            #DataBase\n",
    "#Found trees\n",
    "#Hungarian Algorithm assignment\n",
    "CostMat = np.ones([len(TreeDict),len(stemcyls)])\n",
    "for X,datatree in enumerate(TreeDict):\n",
    "    for Y,foundtree in enumerate(finalstems):\n",
    "        CostMat[X,Y] = np.linalg.norm([datatree[0:2]-foundtree['model'][0:2]])\n",
    "\n",
    "dataindex, foundindex = linear_sum_assignment(CostMat,maximize=False)\n",
    "\n",
    "#Get metrics\n",
    "locationerror = []\n",
    "correctlocationerror = []\n",
    "diametererror = []\n",
    "cloudmatch = []\n",
    "for i,j in zip(dataindex, foundindex):\n",
    "    locationerror.append(np.linalg.norm((finalstems[j]['model'][0:2]-TreeDict[i][0:2])))\n",
    "    if locationerror[-1]<0.4:\n",
    "        diametererror.append(abs(finalstems[j]['model'][6]*2-TreeDict[i][2]))        \n",
    "        correctlocationerror.append(np.linalg.norm((finalstems[j]['model'][0:2]-TreeDict[i][0:2])))\n",
    "    cloudmatch.append(np.vstack([surtreesL1[i],finalstems[j]['tree'],stemcyls[j]]))\n",
    "\n",
    "#PCA filtering and Eucladian Clustering\n",
    "Visualization.PCL3dpaint(cloudmatch)"
   ]
  },
  {
   "cell_type": "code",
   "execution_count": null,
   "metadata": {},
   "outputs": [],
   "source": [
    "Methods = ['CAF','TUDelft','FGI','IntraIGN','RADI','NJU','Shinshu','SLU','TUZVO','TUWien','RILOG','TreeMetrics','UofL','WHU']\n",
    "CompletenessEasy = [88, 66, 94, 84, 74, 88, 89, 94, 87, 82, 96, 36, 69, 89]\n",
    "CompletenessMedium = [75, 49, 88, 65, 59, 81, 78, 88, 74, 68, 87, 27, 58, 80]\n",
    "CompletenessHard = [44, 16, 66, 27, 25, 45, 46, 64, 39, 39, 63, 18, 37, 52]"
   ]
  },
  {
   "cell_type": "code",
   "execution_count": 7,
   "metadata": {},
   "outputs": [],
   "source": [
    "StemRMSEEasy = [22, 154, 28, 12, 32, 132, 52, 20, 20, 16, 32, 30, 88, 58]\n",
    "StemRMSEMedium = [32, 182, 30, 40, 48, 200, 80, 42, 36, 26, 64, 26, 116, 82]\n",
    "StemRMSEHard = [40, 273, 64, 70, 80, 200, 120, 66, 82, 48, 112, 24, 144, 120]"
   ]
  },
  {
   "cell_type": "code",
   "execution_count": 8,
   "metadata": {},
   "outputs": [],
   "source": [
    "DBHRMSEEasy = [20, 128, 14, 16, 20, 210, 48, 18, 22, 14, 86, 12, 62, 72]\n",
    "DBHRMSEMedium = [22, 122, 18, 34, 40, 240, 80, 32, 34, 16, 110, 20, 84, 96]\n",
    "DBHRMSEHard = [18, 174, 20, 300, 74, 250, 94, 30, 36, 12, 174, 24, 94, 124]"
   ]
  },
  {
   "cell_type": "code",
   "execution_count": null,
   "metadata": {},
   "outputs": [],
   "source": []
  }
 ],
 "metadata": {
  "kernelspec": {
   "display_name": "Python 3",
   "language": "python",
   "name": "python3"
  },
  "language_info": {
   "codemirror_mode": {
    "name": "ipython",
    "version": 3
   },
   "file_extension": ".py",
   "mimetype": "text/x-python",
   "name": "python",
   "nbconvert_exporter": "python",
   "pygments_lexer": "ipython3",
   "version": "3.6.10"
  }
 },
 "nbformat": 4,
 "nbformat_minor": 4
}
