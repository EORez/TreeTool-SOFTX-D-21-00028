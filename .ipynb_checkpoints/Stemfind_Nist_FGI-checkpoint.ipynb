{
 "cells": [
  {
   "cell_type": "code",
   "execution_count": 2,
   "metadata": {},
   "outputs": [
    {
     "name": "stderr",
     "output_type": "stream",
     "text": [
      "WARNING (<module>): Couldn't load netifaces, some utils won't work\n"
     ]
    }
   ],
   "source": [
    "import sys\n",
    "sys.path.append('..')\n",
    "sys.path.append('../Libraries/')\n",
    "import pclpy\n",
    "import ARUSTUFF\n",
    "import Plane\n",
    "import Corners\n",
    "import cv2\n",
    "import imp\n",
    "import glob\n",
    "import os\n",
    "import numpy as np\n",
    "import pcl\n",
    "import open3d\n",
    "import pdal\n",
    "from Plane import tic,toc\n",
    "import segTree\n",
    "import pandas as pd"
   ]
  },
  {
   "cell_type": "markdown",
   "metadata": {},
   "source": [
    "Load cloud"
   ]
  },
  {
   "cell_type": "code",
   "execution_count": 6,
   "metadata": {},
   "outputs": [
    {
     "data": {
      "text/plain": [
       "1.5323749000000078"
      ]
     },
     "execution_count": 6,
     "metadata": {},
     "output_type": "execute_result"
    }
   ],
   "source": [
    "tic()\n",
    "mm = pclpy.pcl.PointCloud.PointXYZRGB()\n",
    "pclpy.pcl.io.loadPCDFile('../../Data/NistClouds/downsampledcloud.pcd',mm)\n",
    "#pclpy.pcl.io.loadPCDFile('fullCloudSFM.pcd',mm)\n",
    "toc()"
   ]
  },
  {
   "cell_type": "markdown",
   "metadata": {},
   "source": [
    "Load landmark cylindars"
   ]
  },
  {
   "cell_type": "code",
   "execution_count": 7,
   "metadata": {},
   "outputs": [],
   "source": [
    "position1 = np.array([-2.75,-6.,-22.8,0,0,1,0.2])\n",
    "position2 = np.array([9.5,-34,-23.2,0,0,1,0.2])\n",
    "position3 = np.array([24.5,6.5,-20.5,0,0,1,0.2])\n",
    "\n",
    "cil1 = Corners.makecylinder(model=position1,length=3,dense=100)\n",
    "PCCil = pclpy.pcl.PointCloud.PointXYZ(cil1)\n",
    "\n",
    "cil2 = Corners.makecylinder(model=position2,length=3,dense=100)\n",
    "PCCi2 = pclpy.pcl.PointCloud.PointXYZ(cil2)\n",
    "\n",
    "cil3 = Corners.makecylinder(model=position3,length=3,dense=100)\n",
    "PCCi3 = pclpy.pcl.PointCloud.PointXYZ(cil3)\n",
    "\n",
    "if True:\n",
    "    Corners.PCL3dpaint([mm,PCCil,PCCi2,PCCi3],axis=10)"
   ]
  },
  {
   "cell_type": "code",
   "execution_count": 8,
   "metadata": {},
   "outputs": [],
   "source": [
    "Rvector10 = (position2[0:3]-position1[0:3])/np.linalg.norm(position2[0:3]-position1[0:3])\n",
    "Rvector01 = (position3[0:3]-position1[0:3])/np.linalg.norm(position2[0:3]-position1[0:3])\n",
    "REFpoints = np.vstack([[0,0,0],Rvector10,Rvector01])\n",
    "NEWpoints = np.vstack([[0,0,0],[1,0,0],[0,1,0]])\n",
    "Rot = Corners.SVDRigidBodyTransform(REFpoints,NEWpoints)[1]"
   ]
  },
  {
   "cell_type": "markdown",
   "metadata": {},
   "source": [
    "Make transform from landmarks"
   ]
  },
  {
   "cell_type": "code",
   "execution_count": 9,
   "metadata": {},
   "outputs": [],
   "source": [
    "tras1 = np.eye(4)\n",
    "tras1[0:3,3] = -position1[0:3]\n",
    "rotacion = Rot\n",
    "traslacion = np.array([[0,0,0]]).T\n",
    "\n",
    "tranformacion = np.hstack([rotacion,traslacion])\n",
    "Htranformacion = np.vstack([tranformacion,[0,0,0,1]])\n",
    "FullTrans = np.matmul(Htranformacion,tras1)\n",
    "\n",
    "mmTrans = pclpy.pcl.PointCloud.PointXYZRGB()\n",
    "pclpy.pcl.common.transformPointCloud(mm,mmTrans,FullTrans)\n",
    "pclpy.pcl.common.transformPointCloud(PCCil,PCCil,FullTrans)\n",
    "pclpy.pcl.common.transformPointCloud(PCCi2,PCCi2,FullTrans)"
   ]
  },
  {
   "cell_type": "code",
   "execution_count": 10,
   "metadata": {},
   "outputs": [],
   "source": [
    "Svetor = FullTrans[0:4,0:4]@np.vstack([np.array([position2[0:3]]).T,1])\n",
    "scale = 100/Svetor[0]\n",
    "cil3 = Corners.makecylinder(model=[0, Svetor[0], 0,0,0,1,0.2],length=5,dense=100)\n",
    "PCCi3 = pclpy.pcl.PointCloud.PointXYZ(cil3)\n",
    "cil4 = Corners.makecylinder(model=[Svetor[0], Svetor[0], 0,0,0,1,0.2],length=5,dense=100)\n",
    "PCCi4 = pclpy.pcl.PointCloud.PointXYZ(cil4)"
   ]
  },
  {
   "cell_type": "code",
   "execution_count": 11,
   "metadata": {},
   "outputs": [],
   "source": [
    "rotacion = np.array([[1*scale,0,0],[0,1*scale,0],[0,0,1*scale]]).T\n",
    "traslacion = np.array([[0,0,0]]).T\n",
    "tranformacion = np.hstack([rotacion,traslacion])\n",
    "Htranformacion = np.vstack([tranformacion,[0,0,0,1]])\n",
    "FinalTrans = pclpy.pcl.PointCloud.PointXYZRGB()\n",
    "pclpy.pcl.common.transformPointCloud(mmTrans,FinalTrans,Htranformacion)\n",
    "pclpy.pcl.common.transformPointCloud(PCCil,PCCil,Htranformacion)\n",
    "pclpy.pcl.common.transformPointCloud(PCCi2,PCCi2,Htranformacion)\n",
    "pclpy.pcl.common.transformPointCloud(PCCi3,PCCi3,Htranformacion)\n",
    "pclpy.pcl.common.transformPointCloud(PCCi4,PCCi4,Htranformacion)"
   ]
  },
  {
   "cell_type": "code",
   "execution_count": 12,
   "metadata": {},
   "outputs": [],
   "source": [
    "if True:\n",
    "    Corners.PCL3dpaint([FinalTrans,PCCil,PCCi2,PCCi3,PCCi4])"
   ]
  },
  {
   "cell_type": "markdown",
   "metadata": {},
   "source": [
    "Load data set trees"
   ]
  },
  {
   "cell_type": "code",
   "execution_count": 13,
   "metadata": {},
   "outputs": [],
   "source": [
    "cil5 = Corners.makecylinder(model=[-10, 14.8, 1,0,0,1,0.4],length=5,dense=20) #0,0  -7.3,14\n",
    "cil6 = Corners.makecylinder(model=[75, 15, -1,0,0,1,0.4],length=5,dense=20) #1,0 76.4,12.5\n",
    "cil7 = Corners.makecylinder(model=[8.3, 95.4, 0,0,0,1,0.4],length=5,dense=20) #0,1  7.8,93.7\n",
    "cil8 = Corners.makecylinder(model=[84.8, 70.5, -4.2,0,0,1,0.4],length=5,dense=20) #1,1  83.7,66.6"
   ]
  },
  {
   "cell_type": "code",
   "execution_count": 14,
   "metadata": {},
   "outputs": [],
   "source": [
    "if True:\n",
    "    Corners.PCL3dpaint([FinalTrans,cil5,cil6,cil7,cil8])"
   ]
  },
  {
   "cell_type": "code",
   "execution_count": 15,
   "metadata": {},
   "outputs": [],
   "source": [
    "x0 = np.array([[-7.3,76.4,7.8,83.7]])\n",
    "y0 = np.array([[14,12.5,93.7,66.6]])\n",
    "z0 = np.zeros_like(x0)\n",
    "ones = np.ones_like(x0)\n",
    "\n",
    "x1 = np.array([[-10,75,8.3,84.8]])\n",
    "y1 = np.array([[14.8,15,95.4,70.5]])\n",
    "z1 = np.array([[1,-1,0,-4.2]])"
   ]
  },
  {
   "cell_type": "code",
   "execution_count": 16,
   "metadata": {},
   "outputs": [],
   "source": [
    "if 'A' in dir():\n",
    "    del A\n",
    "\n",
    "for x,y,z,ox,oy,oz in np.vstack([x0,y0,z0,x1,y1,z1]).T:\n",
    "    if 'A' in dir():\n",
    "        A = np.vstack([A,np.array([[x,y,z,1,0,0,0,0,0,0,0,0],\n",
    "                      [0,0,0,0,x,y,z,1,0,0,0,0],\n",
    "                      [0,0,0,0,0,0,0,0,x,y,z,1]])])\n",
    "        R = np.vstack([R,[[ox]\n",
    "                      ,[oy]\n",
    "                      ,[oz]]])\n",
    "    else:\n",
    "        A = np.array([[x,y,z,1,0,0,0,0,0,0,0,0],\n",
    "                      [0,0,0,0,x,y,z,1,0,0,0,0],\n",
    "                      [0,0,0,0,0,0,0,0,x,y,z,1]])\n",
    "        R = np.array([[ox]\n",
    "                      ,[oy]\n",
    "                      ,[oz]])"
   ]
  },
  {
   "cell_type": "code",
   "execution_count": 17,
   "metadata": {},
   "outputs": [
    {
     "name": "stderr",
     "output_type": "stream",
     "text": [
      "C:\\Users\\omara\\anaconda3\\envs\\tf2\\lib\\site-packages\\ipykernel_launcher.py:1: FutureWarning: `rcond` parameter will change to the default of machine precision times ``max(M, N)`` where M and N are the input matrix dimensions.\n",
      "To use the future default and silence this warning we advise to pass `rcond=None`, to keep using the old, explicitly pass `rcond=-1`.\n",
      "  \"\"\"Entry point for launching an IPython kernel.\n"
     ]
    }
   ],
   "source": [
    "coef = np.linalg.lstsq(A,R)[0].reshape(3,4)"
   ]
  },
  {
   "cell_type": "code",
   "execution_count": 15,
   "metadata": {},
   "outputs": [],
   "source": [
    "if True:\n",
    "    Corners.PCL3dpaint([surtrees1o,FinalTrans])"
   ]
  },
  {
   "cell_type": "code",
   "execution_count": 16,
   "metadata": {},
   "outputs": [],
   "source": [
    "if True:\n",
    "    Corners.PCL3dpaint([surtrees1,FinalTrans])"
   ]
  },
  {
   "cell_type": "markdown",
   "metadata": {},
   "source": [
    "Seperate ground and non ground"
   ]
  },
  {
   "cell_type": "code",
   "execution_count": 21,
   "metadata": {},
   "outputs": [],
   "source": [
    "XYZ = FinalTrans.xyz\n",
    "MinX, MinY, MaxX, MaxY = np.floor(np.min(XYZ[:,0],axis=0)), np.floor(np.min(XYZ[:,1],axis=0)), np.ceil(np.max(XYZ[:,0],axis=0)), np.ceil(np.max(XYZ[:,1],axis=0))"
   ]
  },
  {
   "cell_type": "code",
   "execution_count": 22,
   "metadata": {},
   "outputs": [],
   "source": [
    "MinX, MinY, MaxX, MaxY = -10, -10, 110, 110"
   ]
  },
  {
   "cell_type": "code",
   "execution_count": 23,
   "metadata": {},
   "outputs": [],
   "source": [
    "if False:\n",
    "    #miniplot\n",
    "    AllGround = []\n",
    "    AllNonGround = []\n",
    "    stepX = (MaxX-MinX)/8\n",
    "    stepY = (MaxY-MinY)/8\n",
    "    for nx,X in enumerate(np.arange(MinX,MaxX,stepX)):\n",
    "        tic()\n",
    "        for ny,Y in enumerate(np.arange(MinY,MaxY,stepY)):        \n",
    "            ptfilter = pclpy.pcl.filters.CropBox.PointXYZRGB()\n",
    "            ptfilter.setInputCloud(FinalTrans)\n",
    "            ptfilter.setMin([X-2,Y-2,-40,0])\n",
    "            ptfilter.setMax([X+stepX+2,Y+stepY+2,40,0])\n",
    "            Cropedmm11 = pclpy.pcl.PointCloud.PointXYZRGB()\n",
    "            ptfilter.filter(Cropedmm11)\n",
    "            Nogroundpoints,ground = segTree.FloorRemove(Cropedmm11)\n",
    "            AllGround.append(ground)\n",
    "            AllNonGround.append(Nogroundpoints)\n",
    "\n",
    "    FullNonGround = [p for i in AllNonGround for p in i.xyz]\n",
    "    FullGround = [p for i in AllGround for p in i.xyz]\n",
    "\n",
    "    NongroundCloud = pclpy.pcl.PointCloud.PointXYZ(FullNonGround)\n",
    "    GroundCloud = pclpy.pcl.PointCloud.PointXYZ(FullGround)\n",
    "\n",
    "    Corners.PCL3dpaint([NongroundCloud,GroundCloud])\n",
    "\n",
    "    pclpy.pcl.io.savePCDFile('AllNonGround.pcd',NongroundCloud, binary_mode = True)\n",
    "    pclpy.pcl.io.savePCDFile('AllGround.pcd',GroundCloud, binary_mode = True)"
   ]
  },
  {
   "cell_type": "markdown",
   "metadata": {},
   "source": [
    "Encontrar arboles"
   ]
  },
  {
   "cell_type": "code",
   "execution_count": 25,
   "metadata": {},
   "outputs": [
    {
     "data": {
      "text/plain": [
       "0"
      ]
     },
     "execution_count": 25,
     "metadata": {},
     "output_type": "execute_result"
    }
   ],
   "source": [
    "NongroundCloud = pclpy.pcl.PointCloud.PointXYZ()\n",
    "pclpy.pcl.io.loadPCDFile('../../Data/NistClouds/AllNonGround.pcd',NongroundCloud)"
   ]
  },
  {
   "cell_type": "code",
   "execution_count": 65,
   "metadata": {},
   "outputs": [
    {
     "name": "stdout",
     "output_type": "stream",
     "text": [
      "2.1598083000001225\n"
     ]
    }
   ],
   "source": [
    "verticalityThresh = 0.08\n",
    "NonNANcurvatureThresh = 0.1\n",
    "lowstems_Height = 6\n",
    "cutstems_Height = 5\n",
    "NongroundCloud = pclpy.pcl.PointCloud.PointXYZ()\n",
    "pclpy.pcl.io.loadPCDFile('../../Data/NistClouds/AllNonGround.pcd',NongroundCloud)\n",
    "\n",
    "groundCloud = pclpy.pcl.PointCloud.PointXYZ()\n",
    "pclpy.pcl.io.loadPCDFile('../../Data/NistClouds/AllGround.pcd',groundCloud)\n",
    "\n",
    "#getnormals\n",
    "Ksearch=0.2\n",
    "tic()\n",
    "segcloudNor = pclpy.pcl.features.NormalEstimationOMP.PointXYZ_Normal()\n",
    "tree = pclpy.pcl.search.KdTree.PointXYZ()\n",
    "segcloudNor.setInputCloud(NongroundCloud)\n",
    "segcloudNor.setSearchMethod(tree)\n",
    "segcloudNor.setRadiusSearch(Ksearch)\n",
    "normals = pclpy.pcl.PointCloud.Normal()\n",
    "segcloudNor.compute(normals)\n",
    "print(toc())\n",
    "\n",
    "#Corners.PCL3dpaint([NongroundCloud.xyz,NongroundCloud.xyz+normals.normals*0.1,NongroundCloud.xyz+normals.normals*0.2])\n",
    "\n",
    "nanmask = np.bitwise_not(np.isnan(normals.normals[:,0]))\n",
    "NonNANpoints = NongroundCloud.xyz[nanmask]\n",
    "NonNANnormals = normals.normals[nanmask]\n",
    "NonNANcurvature = normals.curvature[nanmask]\n",
    "verticality = np.dot(NonNANnormals,[[0],[0],[1]])\n",
    "mask = (verticality < verticalityThresh) & (-verticalityThresh < verticality)  #0.1\n",
    "maskC = (NonNANcurvature < NonNANcurvatureThresh)## 0.12\n",
    "Fmask = mask.ravel() & maskC.ravel()\n",
    "\n",
    "onlyhorizontalpoints = NonNANpoints[Fmask]\n",
    "onlyhorizontalnormals = NonNANnormals[Fmask]\n",
    "\n",
    "#Corners.PCL3dpaint([onlyhorizontalpoints,onlyhorizontalpoints+onlyhorizontalnormals*0.05,onlyhorizontalpoints+onlyhorizontalnormals*0.1])\n",
    "\n",
    "cluster_list = segTree.EucladeanClusterExtract(onlyhorizontalpoints, tol=0.6, minc=40, maxc=6000000)\n",
    "#Corners.PCL3dpaint(cluster_list)"
   ]
  },
  {
   "cell_type": "code",
   "execution_count": 73,
   "metadata": {},
   "outputs": [
    {
     "name": "stderr",
     "output_type": "stream",
     "text": [
      "C:\\Users\\omara\\anaconda3\\envs\\tf2\\lib\\site-packages\\ipykernel_launcher.py:36: FutureWarning: `rcond` parameter will change to the default of machine precision times ``max(M, N)`` where M and N are the input matrix dimensions.\n",
      "To use the future default and silence this warning we advise to pass `rcond=None`, to keep using the old, explicitly pass `rcond=-1`.\n",
      "C:\\Users\\omara\\anaconda3\\envs\\tf2\\lib\\site-packages\\ipykernel_launcher.py:55: RuntimeWarning: invalid value encountered in float_scalars\n"
     ]
    }
   ],
   "source": [
    "lowstems_Height = 16\n",
    "cutstems_Height = 15\n",
    "#Group stem segments\n",
    "composedtrees = []\n",
    "components = []\n",
    "GroupStems = []\n",
    "clustersDICT = {}\n",
    "\n",
    "bufferStems = cluster_list.copy()\n",
    "for n,p in enumerate(cluster_list):\n",
    "    PC1 = Plane.getPrincipalComponents(p)\n",
    "    strieghtness = PC1[0][0]/(PC1[0][0]+PC1[0][1])\n",
    "    clustersDICT = {}\n",
    "    clustersDICT['cloud'] = p\n",
    "    clustersDICT['strieghtness'] = strieghtness\n",
    "    clustersDICT['center'] = PC1[2]\n",
    "    clustersDICT['direction'] = np.array(PC1[1])\n",
    "    GroupStems.append(clustersDICT)\n",
    "\n",
    "bufferStems = [i['cloud'] for i in GroupStems]\n",
    "for treenumber1 in reversed(range(0,len(bufferStems))):\n",
    "    for treenumber2 in reversed(range(0,treenumber1-1)):\n",
    "        center1 = GroupStems[treenumber1]['center']\n",
    "        center2 = GroupStems[treenumber2]['center']\n",
    "        angle1 = GroupStems[treenumber1]['direction'][0]\n",
    "        angle2 = GroupStems[treenumber2]['direction'][0]\n",
    "        dist1 = Corners.DistPoint2Line(center2,angle1+center1,center1)\n",
    "        dist2 = Corners.DistPoint2Line(center1,angle2+center2,center2)\n",
    "        if (dist1<0.4) | (dist2<0.4):\n",
    "            bufferStems[treenumber2] = np.vstack([bufferStems[treenumber2],bufferStems.pop(treenumber1)])\n",
    "            break\n",
    "\n",
    "pointpart = groundCloud.xyz\n",
    "#groundseg = groundCloud.xyz[center]\n",
    "A = np.c_[np.ones(pointpart.shape[0]), pointpart[:,:2], np.prod(pointpart[:,:2], axis=1), pointpart[:,:2]**2]\n",
    "C,_,_,_ = np.linalg.lstsq(A, pointpart[:,2])\n",
    "#Corners.PCL3dpaint(cluster_list)\n",
    "\n",
    "StemsWithGround = []\n",
    "for i in bufferStems:\n",
    "    center = np.mean(i,0)\n",
    "    X,Y = center[:2]\n",
    "    Z = np.dot(np.c_[np.ones(X.shape), X, Y, X*Y, X**2, Y**2], C)\n",
    "    StemsWithGround.append([i,[X,Y,Z[0]]])\n",
    "\n",
    "#lowStems = [i for i in StemsWithGround if np.min(i[0],axis=0)[2] < (3 + i[1][2])]\n",
    "#cutstems = [i[i[:,2]<(3+np.min(i[:,2]))] for i in lowStems]\n",
    "\n",
    "lowStems = [i for i in StemsWithGround if np.min(i[0],axis=0)[2] < (lowstems_Height + i[1][2])]\n",
    "cutstems = [[i[0][i[0][:,2]<(cutstems_Height + i[1][2])],i[1]] for i in lowStems]\n",
    "\n",
    "GroupLowStems = []\n",
    "for n,p in enumerate(cutstems):\n",
    "    PC1 = Plane.getPrincipalComponents(p[0])\n",
    "    strieghtness = PC1[0][0]/(PC1[0][0]+PC1[0][1])\n",
    "    GroupLowStems.append(p)\n",
    "\n",
    "finalstems = []\n",
    "stemcyls = []\n",
    "rech = []\n",
    "for p in cutstems:\n",
    "    segpoints = p[0]\n",
    "    indices, model = segTree.segment_normals(segpoints, searchRadius=0.2, model=pcl.SACMODEL_CYLINDER, method=pcl.SAC_RANSAC, normalweight=0.01, miter=10000, distance=0.08, rlim=[0,0.4])\n",
    "    if len(indices)>0:\n",
    "        if abs(np.dot(model[3:6],[0,0,1])/np.linalg.norm(model[3:6])) > 0.5:\n",
    "            newmodel = model\n",
    "            Z = 1.3 + p[1][2]\n",
    "            Y = model[1] + model[4] * (Z - model[2]) / model[5]\n",
    "            X = model[0] + model[3] * (Z - model[2]) / model[5]\n",
    "            newmodel[0:3] = np.array([X,Y,Z])\n",
    "            newmodel[3:6] = Plane.similarize(newmodel[3:6],[0,0,1])\n",
    "            finalstems.append({'tree':segpoints[indices],'model':newmodel})\n",
    "            stemcyls.append(Corners.makecylinder(model=newmodel,length=3,dense=20))\n",
    "        else:\n",
    "            rech.append(segpoints)\n",
    "    else:\n",
    "        rech.append(segpoints)"
   ]
  },
  {
   "cell_type": "code",
   "execution_count": 74,
   "metadata": {},
   "outputs": [],
   "source": [
    "Corners.PCL3dpaint([p[0] for p in GroupLowStems])"
   ]
  },
  {
   "cell_type": "code",
   "execution_count": 126,
   "metadata": {},
   "outputs": [],
   "source": [
    "treedata = pd.read_excel('../../Data/NistClouds/NIST_2019_Survey.xlsx')\n",
    "Xcoro,Ycoro,diam = treedata.iloc[0,[2,3,6]]\n",
    "Xcor,Ycor,Zcor = coef @ [Xcoro,Ycoro,0,1]\n",
    "surtreesL1o = [Corners.makecylinder(model=[Xcoro, Ycoro, 0,0,0,1,diam/100],length=10,dense=20)]\n",
    "surtreesL1 = [Corners.makecylinder(model=[Xcor, Ycor, 0,0,0,1,diam/100],length=10,dense=20)]\n",
    "TreeDict = [{'Orig':treedata.iloc[[2,3,6]],'NewCoor':np.array([Xcor,Ycor,Zcor])}]\n",
    "for i,rows in treedata.iloc[1:].iterrows():\n",
    "    Xcoro,Ycoro,diam = rows.iloc[[2,3,6]]\n",
    "    Xcor,Ycor,Zcor = coef @ [Xcoro,Ycoro,0,1]\n",
    "    if not np.any(np.isnan([Xcor,Ycor,diam])):\n",
    "        surtreesL1o.append(Corners.makecylinder(model=[Xcoro, Ycoro, 0,0,0,1,diam/200],length=10,dense=20))\n",
    "        surtreesL1.append(Corners.makecylinder(model=[Xcor, Ycor, Zcor,0,0,1,diam/200],length=10,dense=20))\n",
    "        TreeDict.append({'Orig':rows.iloc[[2,3,6]],'NewCoor':np.array([Xcor,Ycor,diam/200])})\n",
    "surtrees1o = [p for i in surtreesL1o for p in i]\n",
    "surtrees1 = [p for i in surtreesL1 for p in i]\n",
    "surtreesCloud1 = pclpy.pcl.PointCloud.PointXYZ(surtrees1)"
   ]
  },
  {
   "cell_type": "code",
   "execution_count": 127,
   "metadata": {},
   "outputs": [],
   "source": [
    "from scipy.optimize import linear_sum_assignment"
   ]
  },
  {
   "cell_type": "code",
   "execution_count": 151,
   "metadata": {},
   "outputs": [
    {
     "name": "stdout",
     "output_type": "stream",
     "text": [
      "Hungarian Algorithm assignment :\n",
      "Get metrics: \n"
     ]
    }
   ],
   "source": [
    "            #DataBase\n",
    "#Found trees\n",
    "#Hungarian Algorithm assignment\n",
    "print('Hungarian Algorithm assignment :')\n",
    "CostMat = np.ones([len(TreeDict),len(stemcyls)])\n",
    "for X,datatree in enumerate(TreeDict):\n",
    "    for Y,foundtree in enumerate(finalstems):\n",
    "        CostMat[X,Y] = np.linalg.norm([datatree['NewCoor'][0:2]-foundtree['model'][0:2]])\n",
    "\n",
    "dataindex, foundindex = linear_sum_assignment(CostMat,maximize=False)\n",
    "\n",
    "#Get metrics\n",
    "print('Get metrics: ')\n",
    "locationerror = []\n",
    "correctlocationerror = []\n",
    "diametererror = []\n",
    "cloudmatch = []\n",
    "for i,j in zip(dataindex, foundindex):\n",
    "    locationerror.append(np.linalg.norm((finalstems[j]['model'][0:2]-TreeDict[i]['NewCoor'][0:2])))\n",
    "    if locationerror[-1]<2:\n",
    "        diametererror.append(abs(finalstems[j]['model'][6]*2-TreeDict[i]['NewCoor'][2]))        \n",
    "        correctlocationerror.append(np.linalg.norm((finalstems[j]['model'][0:2]-TreeDict[i]['NewCoor'][0:2])))\n",
    "    cloudmatch.append(np.vstack([surtreesL1[i],finalstems[j]['tree'],stemcyls[j]]))"
   ]
  },
  {
   "cell_type": "markdown",
   "metadata": {},
   "source": [
    "Conguntar troncos"
   ]
  },
  {
   "cell_type": "code",
   "execution_count": 143,
   "metadata": {},
   "outputs": [],
   "source": [
    "Corners.PCL3dpaint(cloudmatch+[np.array(surtrees1)*1.01])"
   ]
  },
  {
   "cell_type": "code",
   "execution_count": 144,
   "metadata": {},
   "outputs": [],
   "source": [
    "Corners.PCL3dpaint(cloudmatch)"
   ]
  },
  {
   "cell_type": "code",
   "execution_count": 152,
   "metadata": {},
   "outputs": [],
   "source": [
    "import matplotlib.pyplot as plt"
   ]
  },
  {
   "cell_type": "code",
   "execution_count": 153,
   "metadata": {},
   "outputs": [
    {
     "data": {
      "text/plain": [
       "(array([24., 17., 17., 12.,  7.,  7.,  0.,  3.,  2.,  1.]),\n",
       " array([2.52968073e-05, 6.93156854e-02, 1.38606074e-01, 2.07896463e-01,\n",
       "        2.77186851e-01, 3.46477240e-01, 4.15767628e-01, 4.85058017e-01,\n",
       "        5.54348405e-01, 6.23638794e-01, 6.92929183e-01]),\n",
       " <a list of 10 Patch objects>)"
      ]
     },
     "execution_count": 153,
     "metadata": {},
     "output_type": "execute_result"
    },
    {
     "data": {
      "image/png": "[encoded data removed]",
      "text/plain": [
       "<Figure size 432x288 with 1 Axes>"
      ]
     },
     "metadata": {
      "needs_background": "light"
     },
     "output_type": "display_data"
    }
   ],
   "source": [
    "plt.hist(diametererror)"
   ]
  },
  {
   "cell_type": "code",
   "execution_count": 154,
   "metadata": {},
   "outputs": [
    {
     "data": {
      "text/plain": [
       "0.1543654563476642"
      ]
     },
     "execution_count": 154,
     "metadata": {},
     "output_type": "execute_result"
    }
   ],
   "source": [
    "np.mean(np.array(diametererror)[np.array(diametererror)<0.5])"
   ]
  },
  {
   "cell_type": "code",
   "execution_count": 155,
   "metadata": {},
   "outputs": [
    {
     "data": {
      "text/plain": [
       "0.18268653878039787"
      ]
     },
     "execution_count": 155,
     "metadata": {},
     "output_type": "execute_result"
    }
   ],
   "source": [
    "np.mean(np.array(diametererror))"
   ]
  },
  {
   "cell_type": "code",
   "execution_count": 156,
   "metadata": {},
   "outputs": [
    {
     "data": {
      "text/plain": [
       "(84, 90)"
      ]
     },
     "execution_count": 156,
     "metadata": {},
     "output_type": "execute_result"
    }
   ],
   "source": [
    "len(np.array(diametererror)[np.array(diametererror)<0.5]),len(diametererror)"
   ]
  },
  {
   "cell_type": "code",
   "execution_count": 157,
   "metadata": {},
   "outputs": [
    {
     "data": {
      "text/plain": [
       "337"
      ]
     },
     "execution_count": 157,
     "metadata": {},
     "output_type": "execute_result"
    }
   ],
   "source": [
    "len(TreeDict)"
   ]
  },
  {
   "cell_type": "code",
   "execution_count": null,
   "metadata": {},
   "outputs": [],
   "source": []
  }
 ],
 "metadata": {
  "kernelspec": {
   "display_name": "Python 3",
   "language": "python",
   "name": "python3"
  },
  "language_info": {
   "codemirror_mode": {
    "name": "ipython",
    "version": 3
   },
   "file_extension": ".py",
   "mimetype": "text/x-python",
   "name": "python",
   "nbconvert_exporter": "python",
   "pygments_lexer": "ipython3",
   "version": "3.6.10"
  }
 },
 "nbformat": 4,
 "nbformat_minor": 4
}
