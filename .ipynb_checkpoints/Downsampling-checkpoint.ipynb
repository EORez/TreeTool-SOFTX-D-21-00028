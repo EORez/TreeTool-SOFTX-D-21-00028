{
 "cells": [
  {
   "cell_type": "code",
   "execution_count": 1,
   "metadata": {},
   "outputs": [],
   "source": [
    "import sys\n",
    "sys.path.append('..')\n",
    "from laspy.file import File\n",
    "import pclpy\n",
    "import ARUSTUFF\n",
    "import Plane\n",
    "import Corners\n",
    "import cv2\n",
    "import imp\n",
    "import glob\n",
    "import os\n",
    "import numpy as np\n",
    "import pcl\n",
    "import open3d\n",
    "import pdal\n",
    "from Plane import tic,toc"
   ]
  },
  {
   "cell_type": "code",
   "execution_count": 2,
   "metadata": {},
   "outputs": [
    {
     "name": "stdout",
     "output_type": "stream",
     "text": [
      "8.029853600000001\n"
     ]
    }
   ],
   "source": [
    "tic()\n",
    "mm = pclpy.pcl.PointCloud.PointXYZRGB()\n",
    "pclpy.pcl.io.loadPCDFile('FullcloudSFM.pcd',mm)\n",
    "toc()"
   ]
  },
  {
   "cell_type": "code",
   "execution_count": 3,
   "metadata": {},
   "outputs": [],
   "source": [
    "x2,y2,z2 = np.max(mm.xyz,axis=0)\n",
    "x1,y1,z1 = np.min(mm.xyz,axis=0)"
   ]
  },
  {
   "cell_type": "code",
   "execution_count": 4,
   "metadata": {},
   "outputs": [],
   "source": [
    "ptfilter = pclpy.pcl.filters.CropBox.PointXYZRGB()\n",
    "ptfilter.setInputCloud(mm)\n",
    "ptfilter.setMin([x1,y1,z1,0])\n",
    "ptfilter.setMax([(x2-x1)/2+x1-0.000001,(y2-y1)/2+y1-0.000001,z2,0])\n",
    "Cropedmm11 = pclpy.pcl.PointCloud.PointXYZRGB()\n",
    "ptfilter.filter(Cropedmm11)"
   ]
  },
  {
   "cell_type": "code",
   "execution_count": 5,
   "metadata": {},
   "outputs": [],
   "source": [
    "ptfilter.setMin([(x2-x1)/2+x1,y1,z1,0])\n",
    "ptfilter.setMax([x2,(y2-y1)/2+y1-0.000001,z2,0])\n",
    "Cropedmm21 = pclpy.pcl.PointCloud.PointXYZRGB()\n",
    "ptfilter.filter(Cropedmm21)"
   ]
  },
  {
   "cell_type": "code",
   "execution_count": 6,
   "metadata": {},
   "outputs": [],
   "source": [
    "ptfilter.setMin([(x2-x1)/2+x1,(y2-y1)/2+y1,z1,0])\n",
    "ptfilter.setMax([x2,y2,z2,0])\n",
    "Cropedmm22 = pclpy.pcl.PointCloud.PointXYZRGB()\n",
    "ptfilter.filter(Cropedmm22)"
   ]
  },
  {
   "cell_type": "code",
   "execution_count": 7,
   "metadata": {},
   "outputs": [],
   "source": [
    "ptfilter.setMin([x1,(y2-y1)/2+y1,z1,0])\n",
    "ptfilter.setMax([(x2-x1)/2+x1-0.000001,y2,z2,0])\n",
    "Cropedmm12 = pclpy.pcl.PointCloud.PointXYZRGB()\n",
    "ptfilter.filter(Cropedmm12)"
   ]
  },
  {
   "cell_type": "code",
   "execution_count": 8,
   "metadata": {},
   "outputs": [
    {
     "data": {
      "text/plain": [
       "67009720"
      ]
     },
     "execution_count": 8,
     "metadata": {},
     "output_type": "execute_result"
    }
   ],
   "source": [
    "Cropedmm11.xyz.shape[0]+Cropedmm21.xyz.shape[0]+Cropedmm22.xyz.shape[0]+Cropedmm12.xyz.shape[0]"
   ]
  },
  {
   "cell_type": "code",
   "execution_count": 10,
   "metadata": {},
   "outputs": [
    {
     "name": "stdout",
     "output_type": "stream",
     "text": [
      "start\n"
     ]
    },
    {
     "data": {
      "text/plain": [
       "((12476279, 3), (2677173, 3))"
      ]
     },
     "execution_count": 10,
     "metadata": {},
     "output_type": "execute_result"
    }
   ],
   "source": [
    "print('start')\n",
    "VF = pclpy.pcl.filters.VoxelGrid.PointXYZRGB()\n",
    "LS = 0.03\n",
    "VF.setLeafSize(LS,LS,LS)\n",
    "VF.setInputCloud(Cropedmm11)\n",
    "VFCropedmm11 = pclpy.pcl.PointCloud.PointXYZRGB()\n",
    "VF.filter(VFCropedmm11)\n",
    "Cropedmm11.xyz.shape,VFCropedmm11.xyz.shape"
   ]
  },
  {
   "cell_type": "code",
   "execution_count": 11,
   "metadata": {},
   "outputs": [
    {
     "name": "stdout",
     "output_type": "stream",
     "text": [
      "start\n"
     ]
    },
    {
     "data": {
      "text/plain": [
       "((17789594, 3), (3791315, 3))"
      ]
     },
     "execution_count": 11,
     "metadata": {},
     "output_type": "execute_result"
    }
   ],
   "source": [
    "print('start')\n",
    "LS = 0.03\n",
    "VF.setLeafSize(LS,LS,LS)\n",
    "VF.setInputCloud(Cropedmm12)\n",
    "VFCropedmm12 = pclpy.pcl.PointCloud.PointXYZRGB()\n",
    "VF.filter(VFCropedmm12)\n",
    "Cropedmm12.xyz.shape,VFCropedmm12.xyz.shape"
   ]
  },
  {
   "cell_type": "code",
   "execution_count": 14,
   "metadata": {},
   "outputs": [
    {
     "name": "stdout",
     "output_type": "stream",
     "text": [
      "start\n"
     ]
    },
    {
     "data": {
      "text/plain": [
       "((15987510, 3), (3385476, 3))"
      ]
     },
     "execution_count": 14,
     "metadata": {},
     "output_type": "execute_result"
    }
   ],
   "source": [
    "print('start')\n",
    "LS = 0.03\n",
    "VF.setLeafSize(LS,LS,LS)\n",
    "VF.setInputCloud(Cropedmm21)\n",
    "VFCropedmm21 = pclpy.pcl.PointCloud.PointXYZRGB()\n",
    "VF.filter(VFCropedmm21)\n",
    "Cropedmm21.xyz.shape,VFCropedmm21.xyz.shape"
   ]
  },
  {
   "cell_type": "code",
   "execution_count": 15,
   "metadata": {},
   "outputs": [
    {
     "name": "stdout",
     "output_type": "stream",
     "text": [
      "start\n"
     ]
    },
    {
     "data": {
      "text/plain": [
       "((20756337, 3), (4386086, 3))"
      ]
     },
     "execution_count": 15,
     "metadata": {},
     "output_type": "execute_result"
    }
   ],
   "source": [
    "print('start')\n",
    "LS = 0.03\n",
    "VF.setLeafSize(LS,LS,LS)\n",
    "VF.setInputCloud(Cropedmm22)\n",
    "VFCropedmm22 = pclpy.pcl.PointCloud.PointXYZRGB()\n",
    "VF.filter(VFCropedmm22)\n",
    "Cropedmm22.xyz.shape,VFCropedmm22.xyz.shape"
   ]
  },
  {
   "cell_type": "code",
   "execution_count": 16,
   "metadata": {},
   "outputs": [],
   "source": [
    "FINALVF = pclpy.pcl.PointCloud.PointXYZRGB(np.concatenate([VFCropedmm11.xyz, VFCropedmm12.xyz, VFCropedmm21.xyz, VFCropedmm22.xyz]),\n",
    "                                           np.concatenate([VFCropedmm11.rgb, VFCropedmm12.rgb, VFCropedmm21.rgb, VFCropedmm22.rgb]))"
   ]
  },
  {
   "cell_type": "code",
   "execution_count": 17,
   "metadata": {},
   "outputs": [
    {
     "data": {
      "text/plain": [
       "((14240050, 3), (67009720, 3))"
      ]
     },
     "execution_count": 17,
     "metadata": {},
     "output_type": "execute_result"
    }
   ],
   "source": [
    "FINALVF.xyz.shape,mm.xyz.shape"
   ]
  },
  {
   "cell_type": "code",
   "execution_count": 18,
   "metadata": {},
   "outputs": [],
   "source": [
    "viewer = pclpy.pcl.visualization.CloudViewer(\"viewer\")\n",
    "viewer.showCloud(FINALVF, \"hi\")"
   ]
  },
  {
   "cell_type": "code",
   "execution_count": 19,
   "metadata": {},
   "outputs": [
    {
     "name": "stdout",
     "output_type": "stream",
     "text": [
      "start\n"
     ]
    },
    {
     "data": {
      "text/plain": [
       "0"
      ]
     },
     "execution_count": 19,
     "metadata": {},
     "output_type": "execute_result"
    }
   ],
   "source": [
    "print('start')\n",
    "pclpy.pcl.io.savePCDFile('downsampledcloud.pcd',FINALVF, binary_mode = True)"
   ]
  },
  {
   "cell_type": "code",
   "execution_count": 34,
   "metadata": {},
   "outputs": [
    {
     "name": "stdout",
     "output_type": "stream",
     "text": [
      "0.5504354000004241\n"
     ]
    }
   ],
   "source": [
    "tic()\n",
    "mm = pclpy.pcl.PointCloud.PointXYZRGB()\n",
    "pclpy.pcl.io.loadPCDFile('downsampledcloud.pcd',mm)\n",
    "toc()"
   ]
  },
  {
   "cell_type": "code",
   "execution_count": 35,
   "metadata": {},
   "outputs": [
    {
     "data": {
      "text/plain": [
       "(9016398, 3)"
      ]
     },
     "execution_count": 35,
     "metadata": {},
     "output_type": "execute_result"
    }
   ],
   "source": [
    "mm.xyz.shape"
   ]
  },
  {
   "cell_type": "code",
   "execution_count": null,
   "metadata": {},
   "outputs": [],
   "source": []
  }
 ],
 "metadata": {
  "kernelspec": {
   "display_name": "Python 3",
   "language": "python",
   "name": "python3"
  },
  "language_info": {
   "codemirror_mode": {
    "name": "ipython",
    "version": 3
   },
   "file_extension": ".py",
   "mimetype": "text/x-python",
   "name": "python",
   "nbconvert_exporter": "python",
   "pygments_lexer": "ipython3",
   "version": "3.6.10"
  }
 },
 "nbformat": 4,
 "nbformat_minor": 4
}
