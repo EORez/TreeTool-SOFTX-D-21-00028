{
 "cells": [
  {
   "cell_type": "code",
   "execution_count": 3,
   "metadata": {},
   "outputs": [],
   "source": [
    "import sys\n",
    "sys.path.append('..')\n",
    "sys.path.append('../Libraries/')\n",
    "from laspy.file import File\n",
    "import pclpy\n",
    "import ARUSTUFF\n",
    "import Plane\n",
    "import Corners\n",
    "import cv2\n",
    "import imp\n",
    "import glob\n",
    "import os\n",
    "import numpy as np\n",
    "import pcl\n",
    "import open3d\n",
    "#import pdal\n",
    "from Plane import tic,toc"
   ]
  },
  {
   "cell_type": "code",
   "execution_count": 12,
   "metadata": {},
   "outputs": [
    {
     "name": "stdout",
     "output_type": "stream",
     "text": [
      "start 1\n",
      "(111065193, 3) (9360346, 3)\n",
      "start 2\n",
      "(113724091, 3) (9230594, 3)\n",
      "start 3\n",
      "(119939391, 3) (11080140, 3)\n",
      "start 4\n",
      "(129151322, 3) (11288571, 3)\n",
      "start 5\n",
      "(124507186, 3) (8731507, 3)\n",
      "start 6\n",
      "(111068576, 3) (7745064, 3)\n"
     ]
    }
   ],
   "source": [
    "for i in range(1,7):\n",
    "    #pc = pclpy.io.las.read(r'../..\\EuroSDR_DataRelease\\EuroSDR_DataRelease/TLS_Benchmarking_Plot_'+str(i)+'_MS.las', \"PointXYZ\")\n",
    "    #pclpy.pcl.io.savePCDFile('Clouds/TLS_Benchmarking_Plot_'+str(i)+'_MS.pcd',pc, binary_mode = True)\n",
    "    print('start',i)\n",
    "    tic()\n",
    "    mm = pclpy.pcl.PointCloud.PointXYZ()\n",
    "    pclpy.pcl.io.loadPCDFile('Clouds/TLS_Benchmarking_Plot_'+str(i)+'_MS.pcd',mm)\n",
    "    toc()\n",
    "\n",
    "    len(mm.xyz)\n",
    "\n",
    "    mm.xyz.shape\n",
    "\n",
    "    x2,y2,z2 = np.max(mm.xyz,axis=0)\n",
    "    x1,y1,z1 = np.min(mm.xyz,axis=0)\n",
    "    x2,y2,z2,x1,y1,z1\n",
    "\n",
    "    x2,y2,z2,x1,y1,z1\n",
    "\n",
    "    ptfilter = pclpy.pcl.filters.CropBox.PointXYZ()\n",
    "    ptfilter.setInputCloud(mm)\n",
    "    ptfilter.setMin([x1,y1,z1,0])\n",
    "    ptfilter.setMax([(x2-x1)/2+x1-0.000001,(y2-y1)/2+y1-0.000001,z2,0])\n",
    "    Cropedmm11 = pclpy.pcl.PointCloud.PointXYZ()\n",
    "    ptfilter.filter(Cropedmm11)\n",
    "\n",
    "    ptfilter.setMin([(x2-x1)/2+x1,y1,z1,0])\n",
    "    ptfilter.setMax([x2,(y2-y1)/2+y1-0.000001,z2,0])\n",
    "    Cropedmm21 = pclpy.pcl.PointCloud.PointXYZ()\n",
    "    ptfilter.filter(Cropedmm21)\n",
    "\n",
    "    ptfilter.setMin([(x2-x1)/2+x1,(y2-y1)/2+y1,z1,0])\n",
    "    ptfilter.setMax([x2,y2,z2,0])\n",
    "    Cropedmm22 = pclpy.pcl.PointCloud.PointXYZ()\n",
    "    ptfilter.filter(Cropedmm22)\n",
    "\n",
    "    ptfilter.setMin([x1,(y2-y1)/2+y1,z1,0])\n",
    "    ptfilter.setMax([(x2-x1)/2+x1-0.000001,y2,z2,0])\n",
    "    Cropedmm12 = pclpy.pcl.PointCloud.PointXYZ()\n",
    "    ptfilter.filter(Cropedmm12)\n",
    "\n",
    "    Cropedmm11.xyz.shape[0]+Cropedmm21.xyz.shape[0]+Cropedmm22.xyz.shape[0]+Cropedmm12.xyz.shape[0]\n",
    "\n",
    "    LS = 0.03\n",
    "\n",
    "    \n",
    "    VF = pclpy.pcl.filters.VoxelGrid.PointXYZ()\n",
    "    VF.setLeafSize(LS,LS,LS)\n",
    "    VF.setInputCloud(Cropedmm11)\n",
    "    VFCropedmm11 = pclpy.pcl.PointCloud.PointXYZ()\n",
    "    VF.filter(VFCropedmm11)\n",
    "    Cropedmm11.xyz.shape,VFCropedmm11.xyz.shape\n",
    "\n",
    "    VF.setLeafSize(LS,LS,LS)\n",
    "    VF.setInputCloud(Cropedmm12)\n",
    "    VFCropedmm12 = pclpy.pcl.PointCloud.PointXYZ()\n",
    "    VF.filter(VFCropedmm12)\n",
    "    Cropedmm12.xyz.shape,VFCropedmm12.xyz.shape\n",
    "\n",
    "    VF.setLeafSize(LS,LS,LS)\n",
    "    VF.setInputCloud(Cropedmm21)\n",
    "    VFCropedmm21 = pclpy.pcl.PointCloud.PointXYZ()\n",
    "    VF.filter(VFCropedmm21)\n",
    "    Cropedmm21.xyz.shape,VFCropedmm21.xyz.shape\n",
    "\n",
    "    VF.setLeafSize(LS,LS,LS)\n",
    "    VF.setInputCloud(Cropedmm22)\n",
    "    VFCropedmm22 = pclpy.pcl.PointCloud.PointXYZ()\n",
    "    VF.filter(VFCropedmm22)\n",
    "    Cropedmm22.xyz.shape,VFCropedmm22.xyz.shape\n",
    "\n",
    "    FINALVF = pclpy.pcl.PointCloud.PointXYZ(np.concatenate([VFCropedmm11.xyz, VFCropedmm12.xyz, VFCropedmm21.xyz, VFCropedmm22.xyz]))\n",
    "    FINALVF.xyz.shape,mm.xyz.shape\n",
    "    pclpy.pcl.io.savePCDFile('downsampledlesscloudEURO'+str(i)+'.pcd',FINALVF, binary_mode = True)\n",
    "\n",
    "    tic()\n",
    "    mmO = pclpy.pcl.PointCloud.PointXYZRGB()\n",
    "    pclpy.pcl.io.loadPCDFile('downsampledlesscloudEURO'+str(i)+'.pcd',mmO)\n",
    "    toc()\n",
    "    print(mm.xyz.shape,mmO.xyz.shape)"
   ]
  },
  {
   "cell_type": "code",
   "execution_count": 36,
   "metadata": {},
   "outputs": [
    {
     "data": {
      "text/plain": [
       "7.35162339999988"
      ]
     },
     "execution_count": 36,
     "metadata": {},
     "output_type": "execute_result"
    }
   ],
   "source": [
    "tic()\n",
    "mm = pclpy.pcl.PointCloud.PointXYZRGB()\n",
    "pclpy.pcl.io.loadPCDFile('../../Data/NistClouds/fullCloudSFM.pcd',mm)\n",
    "toc()"
   ]
  },
  {
   "cell_type": "code",
   "execution_count": 37,
   "metadata": {},
   "outputs": [],
   "source": [
    "Corners.PCL3dpaint(mm)"
   ]
  },
  {
   "cell_type": "code",
   "execution_count": 26,
   "metadata": {},
   "outputs": [],
   "source": [
    "coef = np.array([[1.3510477, -2.97978098, -0.03949538,\n",
    "        -15.06379948],\n",
    "       [2.97252688, 1.34444401, 0.2500775,\n",
    "        21.94287987],\n",
    "       [-0.21151492, -0.1391405, 3.26219034,\n",
    "        72.96143083],\n",
    "       [0.0, 0.0, 0.0, 1.0]])"
   ]
  },
  {
   "cell_type": "code",
   "execution_count": 27,
   "metadata": {},
   "outputs": [],
   "source": [
    "homogean = np.hstack([mm.xyz,np.ones_like(mm.xyz[:,0:1])])"
   ]
  },
  {
   "cell_type": "code",
   "execution_count": 32,
   "metadata": {},
   "outputs": [],
   "source": [
    "position1 = np.array([100,0,0,0,0,1,0.2])\n",
    "position2 = np.array([0,100,0,0,0,1,0.2])\n",
    "position3 = np.array([100,100,0,0,0,1,0.2])\n",
    "cil1 = Corners.makecylinder(model=position1,length=3,dense=100)\n",
    "cil2 = Corners.makecylinder(model=position2,length=3,dense=100)\n",
    "cil3 = Corners.makecylinder(model=position3,length=3,dense=100)"
   ]
  },
  {
   "cell_type": "code",
   "execution_count": 38,
   "metadata": {},
   "outputs": [],
   "source": [
    "mmTrans = pclpy.pcl.PointCloud.PointXYZRGB()\n",
    "pclpy.pcl.common.transformPointCloud(mm,mmTrans,coef)"
   ]
  },
  {
   "cell_type": "code",
   "execution_count": 53,
   "metadata": {},
   "outputs": [],
   "source": [
    "Corners.PCL3dpaint([mmTrans,cil1,cil2,cil3])"
   ]
  },
  {
   "cell_type": "code",
   "execution_count": 61,
   "metadata": {},
   "outputs": [
    {
     "name": "stdout",
     "output_type": "stream",
     "text": [
      "(67009720, 3) (14025247, 3)\n"
     ]
    }
   ],
   "source": [
    "len(mm.xyz)\n",
    "\n",
    "mm.xyz.shape\n",
    "\n",
    "x2,y2,z2 = np.max(mmTrans.xyz,axis=0)\n",
    "x1,y1,z1 = np.min(mmTrans.xyz,axis=0)\n",
    "x2,y2,z2,x1,y1,z1\n",
    "\n",
    "x2,y2,z2,x1,y1,z1\n",
    "\n",
    "ptfilter = pclpy.pcl.filters.CropBox.PointXYZRGB()\n",
    "ptfilter.setInputCloud(mmTrans)\n",
    "ptfilter.setMin([x1,y1,z1,0])\n",
    "ptfilter.setMax([(x2-x1)/2+x1-0.000001,(y2-y1)/2+y1-0.000001,z2,0])\n",
    "Cropedmm11 = pclpy.pcl.PointCloud.PointXYZRGB()\n",
    "ptfilter.filter(Cropedmm11)\n",
    "\n",
    "ptfilter.setMin([(x2-x1)/2+x1,y1,z1,0])\n",
    "ptfilter.setMax([x2,(y2-y1)/2+y1-0.000001,z2,0])\n",
    "Cropedmm21 = pclpy.pcl.PointCloud.PointXYZRGB()\n",
    "ptfilter.filter(Cropedmm21)\n",
    "\n",
    "ptfilter.setMin([(x2-x1)/2+x1,(y2-y1)/2+y1,z1,0])\n",
    "ptfilter.setMax([x2,y2,z2,0])\n",
    "Cropedmm22 = pclpy.pcl.PointCloud.PointXYZRGB()\n",
    "ptfilter.filter(Cropedmm22)\n",
    "\n",
    "ptfilter.setMin([x1,(y2-y1)/2+y1,z1,0])\n",
    "ptfilter.setMax([(x2-x1)/2+x1-0.000001,y2,z2,0])\n",
    "Cropedmm12 = pclpy.pcl.PointCloud.PointXYZRGB()\n",
    "ptfilter.filter(Cropedmm12)\n",
    "\n",
    "Cropedmm11.xyz.shape[0]+Cropedmm21.xyz.shape[0]+Cropedmm22.xyz.shape[0]+Cropedmm12.xyz.shape[0]\n",
    "\n",
    "LS = 0.10\n",
    "\n",
    "\n",
    "VF = pclpy.pcl.filters.VoxelGrid.PointXYZRGB()\n",
    "VF.setLeafSize(LS,LS,LS)\n",
    "VF.setInputCloud(Cropedmm11)\n",
    "VFCropedmm11 = pclpy.pcl.PointCloud.PointXYZRGB()\n",
    "VF.filter(VFCropedmm11)\n",
    "Cropedmm11.xyz.shape,VFCropedmm11.xyz.shape\n",
    "\n",
    "VF.setLeafSize(LS,LS,LS)\n",
    "VF.setInputCloud(Cropedmm12)\n",
    "VFCropedmm12 = pclpy.pcl.PointCloud.PointXYZRGB()\n",
    "VF.filter(VFCropedmm12)\n",
    "Cropedmm12.xyz.shape,VFCropedmm12.xyz.shape\n",
    "\n",
    "VF.setLeafSize(LS,LS,LS)\n",
    "VF.setInputCloud(Cropedmm21)\n",
    "VFCropedmm21 = pclpy.pcl.PointCloud.PointXYZRGB()\n",
    "VF.filter(VFCropedmm21)\n",
    "Cropedmm21.xyz.shape,VFCropedmm21.xyz.shape\n",
    "\n",
    "VF.setLeafSize(LS,LS,LS)\n",
    "VF.setInputCloud(Cropedmm22)\n",
    "VFCropedmm22 = pclpy.pcl.PointCloud.PointXYZRGB()\n",
    "VF.filter(VFCropedmm22)\n",
    "Cropedmm22.xyz.shape,VFCropedmm22.xyz.shape\n",
    "\n",
    "FINALVF = pclpy.pcl.PointCloud.PointXYZRGB(np.vstack([VFCropedmm11.xyz, VFCropedmm12.xyz, VFCropedmm21.xyz, VFCropedmm22.xyz]),\n",
    "                                                     np.vstack([VFCropedmm11.rgb, VFCropedmm12.rgb, VFCropedmm21.rgb, VFCropedmm22.rgb]))\n",
    "FINALVF.xyz.shape,mm.xyz.shape\n",
    "pclpy.pcl.io.savePCDFile('downsampledNistBetter.pcd',FINALVF, binary_mode = True)\n",
    "\n",
    "tic()\n",
    "mmO = pclpy.pcl.PointCloud.PointXYZRGB()\n",
    "pclpy.pcl.io.loadPCDFile('downsampledNistBetter.pcd',mmO)\n",
    "toc()\n",
    "print(mm.xyz.shape,mmO.xyz.shape)"
   ]
  },
  {
   "cell_type": "code",
   "execution_count": null,
   "metadata": {},
   "outputs": [],
   "source": []
  }
 ],
 "metadata": {
  "kernelspec": {
   "display_name": "Python 3",
   "language": "python",
   "name": "python3"
  },
  "language_info": {
   "codemirror_mode": {
    "name": "ipython",
    "version": 3
   },
   "file_extension": ".py",
   "mimetype": "text/x-python",
   "name": "python",
   "nbconvert_exporter": "python",
   "pygments_lexer": "ipython3",
   "version": "3.6.10"
  }
 },
 "nbformat": 4,
 "nbformat_minor": 4
}
