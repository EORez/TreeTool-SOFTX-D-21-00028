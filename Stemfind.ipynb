{
 "cells": [
  {
   "cell_type": "code",
   "execution_count": null,
   "metadata": {},
   "outputs": [],
   "source": [
    "import sys\n",
    "sys.path.append('..')\n",
    "sys.path.append('../Libraries/')\n",
    "import pclpy\n",
    "import Plane\n",
    "import Corners\n",
    "import cv2\n",
    "import imp\n",
    "import glob\n",
    "import os\n",
    "import numpy as np\n",
    "import pcl\n",
    "import open3d\n",
    "import pdal\n",
    "from Plane import tic,toc\n",
    "import segTree\n",
    "import pandas as pd"
   ]
  },
  {
   "cell_type": "markdown",
   "metadata": {},
   "source": [
    "Load cloud"
   ]
  },
  {
   "cell_type": "code",
   "execution_count": null,
   "metadata": {},
   "outputs": [],
   "source": [
    "tic()\n",
    "mm = pclpy.pcl.PointCloud.PointXYZRGB()\n",
    "pclpy.pcl.io.loadPCDFile('../../Data/NistClouds/downsampledcloud.pcd',mm)\n",
    "#pclpy.pcl.io.loadPCDFile('fullCloudSFM.pcd',mm)\n",
    "toc()"
   ]
  },
  {
   "cell_type": "markdown",
   "metadata": {},
   "source": [
    "Load landmark cylindars"
   ]
  },
  {
   "cell_type": "code",
   "execution_count": null,
   "metadata": {},
   "outputs": [],
   "source": [
    "position1 = np.array([-2.75,-6.,-22.8,0,0,1,0.2])\n",
    "position2 = np.array([9.5,-34,-23.2,0,0,1,0.2])\n",
    "position3 = np.array([24.5,6.5,-20.5,0,0,1,0.2])\n",
    "\n",
    "cil1 = Corners.makecylinder(model=position1,length=3,dense=100)\n",
    "PCCil = pclpy.pcl.PointCloud.PointXYZ(cil1)\n",
    "\n",
    "cil2 = Corners.makecylinder(model=position2,length=3,dense=100)\n",
    "PCCi2 = pclpy.pcl.PointCloud.PointXYZ(cil2)\n",
    "\n",
    "cil3 = Corners.makecylinder(model=position3,length=3,dense=100)\n",
    "PCCi3 = pclpy.pcl.PointCloud.PointXYZ(cil3)\n",
    "\n",
    "if True:\n",
    "    Corners.PCL3dpaint([mm,PCCil,PCCi2,PCCi3],axis=10)"
   ]
  },
  {
   "cell_type": "code",
   "execution_count": 4,
   "metadata": {},
   "outputs": [],
   "source": [
    "Rvector10 = (position2[0:3]-position1[0:3])/np.linalg.norm(position2[0:3]-position1[0:3])\n",
    "Rvector01 = (position3[0:3]-position1[0:3])/np.linalg.norm(position2[0:3]-position1[0:3])\n",
    "REFpoints = np.vstack([[0,0,0],Rvector10,Rvector01])\n",
    "NEWpoints = np.vstack([[0,0,0],[1,0,0],[0,1,0]])\n",
    "Rot = Corners.SVDRigidBodyTransform(REFpoints,NEWpoints)[1]"
   ]
  },
  {
   "cell_type": "markdown",
   "metadata": {},
   "source": [
    "Make transform from landmarks"
   ]
  },
  {
   "cell_type": "code",
   "execution_count": 5,
   "metadata": {},
   "outputs": [],
   "source": [
    "tras1 = np.eye(4)\n",
    "tras1[0:3,3] = -position1[0:3]\n",
    "rotacion = Rot\n",
    "traslacion = np.array([[0,0,0]]).T\n",
    "\n",
    "tranformacion = np.hstack([rotacion,traslacion])\n",
    "Htranformacion = np.vstack([tranformacion,[0,0,0,1]])\n",
    "FullTrans = np.matmul(Htranformacion,tras1)\n",
    "\n",
    "mmTrans = pclpy.pcl.PointCloud.PointXYZRGB()\n",
    "pclpy.pcl.common.transformPointCloud(mm,mmTrans,FullTrans)\n",
    "pclpy.pcl.common.transformPointCloud(PCCil,PCCil,FullTrans)\n",
    "pclpy.pcl.common.transformPointCloud(PCCi2,PCCi2,FullTrans)"
   ]
  },
  {
   "cell_type": "code",
   "execution_count": 6,
   "metadata": {},
   "outputs": [],
   "source": [
    "Svetor = FullTrans[0:4,0:4]@np.vstack([np.array([position2[0:3]]).T,1])\n",
    "scale = 100/Svetor[0]\n",
    "cil3 = Corners.makecylinder(model=[0, Svetor[0], 0,0,0,1,0.2],length=5,dense=100)\n",
    "PCCi3 = pclpy.pcl.PointCloud.PointXYZ(cil3)\n",
    "cil4 = Corners.makecylinder(model=[Svetor[0], Svetor[0], 0,0,0,1,0.2],length=5,dense=100)\n",
    "PCCi4 = pclpy.pcl.PointCloud.PointXYZ(cil4)"
   ]
  },
  {
   "cell_type": "code",
   "execution_count": 7,
   "metadata": {},
   "outputs": [],
   "source": [
    "rotacion = np.array([[1*scale,0,0],[0,1*scale,0],[0,0,1*scale]]).T\n",
    "traslacion = np.array([[0,0,0]]).T\n",
    "tranformacion = np.hstack([rotacion,traslacion])\n",
    "Htranformacion = np.vstack([tranformacion,[0,0,0,1]])\n",
    "FinalTrans = pclpy.pcl.PointCloud.PointXYZRGB()\n",
    "pclpy.pcl.common.transformPointCloud(mmTrans,FinalTrans,Htranformacion)\n",
    "pclpy.pcl.common.transformPointCloud(PCCil,PCCil,Htranformacion)\n",
    "pclpy.pcl.common.transformPointCloud(PCCi2,PCCi2,Htranformacion)\n",
    "pclpy.pcl.common.transformPointCloud(PCCi3,PCCi3,Htranformacion)\n",
    "pclpy.pcl.common.transformPointCloud(PCCi4,PCCi4,Htranformacion)"
   ]
  },
  {
   "cell_type": "code",
   "execution_count": 8,
   "metadata": {},
   "outputs": [],
   "source": [
    "if True:\n",
    "    Corners.PCL3dpaint([FinalTrans,PCCil,PCCi2,PCCi3,PCCi4])"
   ]
  },
  {
   "cell_type": "markdown",
   "metadata": {},
   "source": [
    "Load data set trees"
   ]
  },
  {
   "cell_type": "code",
   "execution_count": 10,
   "metadata": {},
   "outputs": [],
   "source": [
    "cil5 = Corners.makecylinder(model=[-10, 14.8, 1,0,0,1,0.4],length=5,dense=20) #0,0  -7.3,14\n",
    "cil6 = Corners.makecylinder(model=[75, 15, -1,0,0,1,0.4],length=5,dense=20) #1,0 76.4,12.5\n",
    "cil7 = Corners.makecylinder(model=[8.3, 95.4, 0,0,0,1,0.4],length=5,dense=20) #0,1  7.8,93.7\n",
    "cil8 = Corners.makecylinder(model=[84.8, 70.5, -4.2,0,0,1,0.4],length=5,dense=20) #1,1  83.7,66.6"
   ]
  },
  {
   "cell_type": "code",
   "execution_count": 11,
   "metadata": {},
   "outputs": [],
   "source": [
    "if True:\n",
    "    Corners.PCL3dpaint([FinalTrans,cil5,cil6,cil7,cil8])"
   ]
  },
  {
   "cell_type": "code",
   "execution_count": 12,
   "metadata": {},
   "outputs": [],
   "source": [
    "x0 = np.array([[-7.3,76.4,7.8,83.7]])\n",
    "y0 = np.array([[14,12.5,93.7,66.6]])\n",
    "z0 = np.zeros_like(x0)\n",
    "ones = np.ones_like(x0)\n",
    "\n",
    "x1 = np.array([[-10,75,8.3,84.8]])\n",
    "y1 = np.array([[14.8,15,95.4,70.5]])\n",
    "z1 = np.array([[1,-1,0,-4.2]])"
   ]
  },
  {
   "cell_type": "code",
   "execution_count": 13,
   "metadata": {},
   "outputs": [],
   "source": [
    "if 'A' in dir():\n",
    "    del A\n",
    "\n",
    "for x,y,z,ox,oy,oz in np.vstack([x0,y0,z0,x1,y1,z1]).T:\n",
    "    if 'A' in dir():\n",
    "        A = np.vstack([A,np.array([[x,y,z,1,0,0,0,0,0,0,0,0],\n",
    "                      [0,0,0,0,x,y,z,1,0,0,0,0],\n",
    "                      [0,0,0,0,0,0,0,0,x,y,z,1]])])\n",
    "        R = np.vstack([R,[[ox]\n",
    "                      ,[oy]\n",
    "                      ,[oz]]])\n",
    "    else:\n",
    "        A = np.array([[x,y,z,1,0,0,0,0,0,0,0,0],\n",
    "                      [0,0,0,0,x,y,z,1,0,0,0,0],\n",
    "                      [0,0,0,0,0,0,0,0,x,y,z,1]])\n",
    "        R = np.array([[ox]\n",
    "                      ,[oy]\n",
    "                      ,[oz]])"
   ]
  },
  {
   "cell_type": "code",
   "execution_count": 14,
   "metadata": {},
   "outputs": [
    {
     "name": "stderr",
     "output_type": "stream",
     "text": [
      "C:\\Users\\omara\\anaconda3\\envs\\tf2\\lib\\site-packages\\ipykernel_launcher.py:1: FutureWarning: `rcond` parameter will change to the default of machine precision times ``max(M, N)`` where M and N are the input matrix dimensions.\n",
      "To use the future default and silence this warning we advise to pass `rcond=None`, to keep using the old, explicitly pass `rcond=-1`.\n",
      "  \"\"\"Entry point for launching an IPython kernel.\n"
     ]
    }
   ],
   "source": [
    "coef = np.linalg.lstsq(A,R)[0].reshape(3,4)"
   ]
  },
  {
   "cell_type": "code",
   "execution_count": 15,
   "metadata": {},
   "outputs": [],
   "source": [
    "treedata = pd.read_excel('../../Data/NistClouds/NIST_2019_Survey.xlsx')\n",
    "Xcoro,Ycoro,diam = treedata.iloc[0,[2,3,6]]\n",
    "Xcor,Ycor,Zcor = coef @ [Xcoro,Ycoro,0,1]\n",
    "surtreesL1o = [Corners.makecylinder(model=[Xcoro, Ycoro, 0,0,0,1,diam/100],length=10,dense=20)]\n",
    "surtreesL1 = [Corners.makecylinder(model=[Xcor, Ycor, 0,0,0,1,diam/100],length=10,dense=20)]\n",
    "TreeDict = [{'Orig':treedata.iloc[[2,3,6]],'NewCoor':np.array([Xcor,Ycor,Zcor])}]\n",
    "for i,rows in treedata.iloc[1:].iterrows():\n",
    "    Xcoro,Ycoro,diam = rows.iloc[[2,3,6]]\n",
    "    Xcor,Ycor,Zcor = coef @ [Xcoro,Ycoro,0,1]\n",
    "    if not np.any(np.isnan([Xcor,Ycor,diam])):\n",
    "        surtreesL1o.append(Corners.makecylinder(model=[Xcoro, Ycoro, 0,0,0,1,diam/200],length=10,dense=20))\n",
    "        surtreesL1.append(Corners.makecylinder(model=[Xcor, Ycor, Zcor,0,0,1,diam/200],length=10,dense=20))\n",
    "        TreeDict.append({'Orig':rows.iloc[[2,3,6]],'NewCoor':np.array([Xcor,Ycor,Zcor])})\n",
    "surtrees1o = [p for i in surtreesL1o for p in i]\n",
    "surtrees1 = [p for i in surtreesL1 for p in i]\n",
    "surtreesCloud1 = pclpy.pcl.PointCloud.PointXYZ(surtrees1)"
   ]
  },
  {
   "cell_type": "code",
   "execution_count": 16,
   "metadata": {},
   "outputs": [],
   "source": [
    "if True:\n",
    "    Corners.PCL3dpaint([surtrees1o,FinalTrans])"
   ]
  },
  {
   "cell_type": "code",
   "execution_count": 17,
   "metadata": {},
   "outputs": [],
   "source": [
    "if True:\n",
    "    Corners.PCL3dpaint([surtrees1,FinalTrans])"
   ]
  },
  {
   "cell_type": "markdown",
   "metadata": {},
   "source": [
    "Seperate ground and non ground"
   ]
  },
  {
   "cell_type": "code",
   "execution_count": 19,
   "metadata": {},
   "outputs": [],
   "source": [
    "XYZ = FinalTrans.xyz\n",
    "MinX, MinY, MaxX, MaxY = np.floor(np.min(XYZ[:,0],axis=0)), np.floor(np.min(XYZ[:,1],axis=0)), np.ceil(np.max(XYZ[:,0],axis=0)), np.ceil(np.max(XYZ[:,1],axis=0))"
   ]
  },
  {
   "cell_type": "code",
   "execution_count": 20,
   "metadata": {},
   "outputs": [],
   "source": [
    "MinX, MinY, MaxX, MaxY = -10, -10, 110, 110"
   ]
  },
  {
   "cell_type": "code",
   "execution_count": 32,
   "metadata": {},
   "outputs": [],
   "source": [
    "if False:\n",
    "    #miniplot\n",
    "    AllGround = []\n",
    "    AllNonGround = []\n",
    "    stepX = (MaxX-MinX)/8\n",
    "    stepY = (MaxY-MinY)/8\n",
    "    for nx,X in enumerate(np.arange(MinX,MaxX,stepX)):\n",
    "        tic()\n",
    "        for ny,Y in enumerate(np.arange(MinY,MaxY,stepY)):        \n",
    "            ptfilter = pclpy.pcl.filters.CropBox.PointXYZRGB()\n",
    "            ptfilter.setInputCloud(FinalTrans)\n",
    "            ptfilter.setMin([X-2,Y-2,-40,0])\n",
    "            ptfilter.setMax([X+stepX+2,Y+stepY+2,40,0])\n",
    "            Cropedmm11 = pclpy.pcl.PointCloud.PointXYZRGB()\n",
    "            ptfilter.filter(Cropedmm11)\n",
    "            Nogroundpoints,ground = segTree.FloorRemove(Cropedmm11)\n",
    "            AllGround.append(ground)\n",
    "            AllNonGround.append(Nogroundpoints)\n",
    "\n",
    "    FullNonGround = [p for i in AllNonGround for p in i.xyz]\n",
    "    FullGround = [p for i in AllGround for p in i.xyz]\n",
    "\n",
    "    NongroundCloud = pclpy.pcl.PointCloud.PointXYZ(FullNonGround)\n",
    "    GroundCloud = pclpy.pcl.PointCloud.PointXYZ(FullGround)\n",
    "\n",
    "    Corners.PCL3dpaint([NongroundCloud,GroundCloud])\n",
    "\n",
    "    pclpy.pcl.io.savePCDFile('AllNonGround.pcd',NongroundCloud, binary_mode = True)\n",
    "    pclpy.pcl.io.savePCDFile('AllGround.pcd',GroundCloud, binary_mode = True)"
   ]
  },
  {
   "cell_type": "markdown",
   "metadata": {},
   "source": [
    "Encontrar arboles"
   ]
  },
  {
   "cell_type": "code",
   "execution_count": 33,
   "metadata": {},
   "outputs": [
    {
     "data": {
      "text/plain": [
       "0"
      ]
     },
     "execution_count": 33,
     "metadata": {},
     "output_type": "execute_result"
    }
   ],
   "source": [
    "NongroundCloud = pclpy.pcl.PointCloud.PointXYZ()\n",
    "#pclpy.pcl.io.loadPCDFile('AllNonGround.pcd',NongroundCloud)\n",
    "pclpy.pcl.io.loadPCDFile('../../Data/NistClouds/AllNonGround.pcd',NongroundCloud)"
   ]
  },
  {
   "cell_type": "code",
   "execution_count": 36,
   "metadata": {},
   "outputs": [
    {
     "data": {
      "text/plain": [
       "254.97642010000004"
      ]
     },
     "execution_count": 36,
     "metadata": {},
     "output_type": "execute_result"
    }
   ],
   "source": [
    "tic()\n",
    "goodpoints = segTree.RadiusOutlierRemoval(NongroundCloud.xyz, MinN=40, Radius=1.0, Organized=False)\n",
    "toc()\n",
    "tic()\n",
    "cluster_list = segTree.EucladeanClusterExtract(goodpoints, tol=2.0, minc=30, maxc=250000)\n",
    "toc()\n",
    "ByClusters = []\n",
    "tic()\n",
    "for i in cluster_list:\n",
    "    ppclusters = segTree.RegionGrowing(i, Ksearch=30, minc=30, maxc=100000, nn=30, smoothness=20.0, curvature=3.0)\n",
    "    StemsinClusters = []\n",
    "    for p in ppclusters:\n",
    "        indices, model = segTree.segment_normals(p, searchRadius=30, model=pcl.SACMODEL_LINE, method=pcl.SAC_RANSAC, normalweight=0.0001, miter=2000, distance=1, rlim=[0,1])\n",
    "        prop = len(indices)/len(p)\n",
    "\n",
    "        if len(indices)>1 and prop>0.2 and np.arccos(np.dot([0,0,1],model[3:6]))<.8:\n",
    "            points = p[indices]\n",
    "            PC,_,_ = Plane.getPrincipalComponents(points)\n",
    "            if PC[0]/PC[1]>10:\n",
    "                StemsinClusters.append(points)\n",
    "    if len(StemsinClusters) > 0:\n",
    "        ByClusters.append(StemsinClusters)\n",
    "toc()"
   ]
  },
  {
   "cell_type": "code",
   "execution_count": 37,
   "metadata": {},
   "outputs": [],
   "source": [
    "allstemms = []\n",
    "for i in ByClusters:\n",
    "    for p in i:\n",
    "        allstemms.append(p*1.03)"
   ]
  },
  {
   "cell_type": "code",
   "execution_count": 38,
   "metadata": {},
   "outputs": [],
   "source": [
    "Corners.PCL3dpaint(allstemms+[FinalTrans])\n",
    "Corners.PCL3dpaint(allstemms)"
   ]
  },
  {
   "cell_type": "markdown",
   "metadata": {},
   "source": [
    "Conguntar troncos"
   ]
  },
  {
   "cell_type": "code",
   "execution_count": 39,
   "metadata": {},
   "outputs": [],
   "source": [
    "composedtrees = []\n",
    "components = []\n",
    "GroupStems = []\n",
    "for i in ByClusters:\n",
    "    bufferStems = i.copy()\n",
    "    for n,p in enumerate(bufferStems):\n",
    "        samestems = [p]\n",
    "        if len(bufferStems) > 1:\n",
    "            for treenumber in reversed(range(n+1,len(bufferStems))):\n",
    "                PC1 = Plane.getPrincipalComponents(p)\n",
    "                PC2 = Plane.getPrincipalComponents(bufferStems[treenumber])\n",
    "                center1 = PC1[2]\n",
    "                center2 = PC2[2]\n",
    "                angle1 = np.array(PC1[1][0])\n",
    "                angle2 = np.array(PC2[1][0])\n",
    "                if (Corners.DistPoint2Line(center1[0:3],angle2+center2[0:3],center2[0:3])<0.6) or (Corners.DistPoint2Line(center2[0:3],angle1+center1[0:3],center1[0:3])<0.6):\n",
    "                    samestems.append(bufferStems[treenumber])\n",
    "                    bufferStems.pop(treenumber)\n",
    "        if len(samestems) > 1:\n",
    "            GroupStems.append(np.array([p for i in samestems for p in i]))\n",
    "        else:\n",
    "            GroupStems.append(samestems[0])"
   ]
  },
  {
   "cell_type": "code",
   "execution_count": 40,
   "metadata": {},
   "outputs": [],
   "source": [
    "Corners.PCL3dpaint(GroupStems+allstemms)"
   ]
  },
  {
   "cell_type": "code",
   "execution_count": 31,
   "metadata": {},
   "outputs": [],
   "source": [
    "Corners.PCL3dpaint(GroupStems)"
   ]
  },
  {
   "cell_type": "markdown",
   "metadata": {},
   "source": [
    "Troncos bajos"
   ]
  },
  {
   "cell_type": "code",
   "execution_count": 41,
   "metadata": {},
   "outputs": [],
   "source": [
    "BigStems = [i for i in GroupStems if len(i) > 200]\n",
    "lowStems = [i for i in BigStems if np.min(i,axis=0)[2] < 3]"
   ]
  },
  {
   "cell_type": "code",
   "execution_count": 33,
   "metadata": {},
   "outputs": [],
   "source": [
    "if False:\n",
    "    Corners.PCL3dpaint(BigStems+[np.array(surtrees1)],axis=10)\n",
    "\n",
    "    Corners.PCL3dpaint(BigStems+lowStems,axis=10)\n",
    "\n",
    "Corners.PCL3dpaint(lowStems)"
   ]
  },
  {
   "cell_type": "markdown",
   "metadata": {},
   "source": [
    "Deteccion de cilindros"
   ]
  },
  {
   "cell_type": "code",
   "execution_count": 43,
   "metadata": {},
   "outputs": [],
   "source": [
    "finalstems = []\n",
    "stemcyls = []\n",
    "for i in lowStems:\n",
    "    PC,_,_ = Plane.getPrincipalComponents(i)\n",
    "    if PC[0]/PC[1]>14:\n",
    "        indices, model = segTree.segment_normals(i, searchRadius=20, model=pcl.SACMODEL_CYLINDER, method=pcl.SAC_RANSAC, normalweight=0.0001, miter=8000, distance=0.06, rlim=[0,1])\n",
    "        #Corners.PCL3dpaint([lowStems[Number],Corners.makecylinder(model=model,length=5,dense=20)])\n",
    "        newmodel = model\n",
    "        Z = 1\n",
    "        Y = model[1] + model[4] * (Z - model[2]) / model[5]\n",
    "        X = model[0] + model[3] * (Z - model[2]) / model[5]\n",
    "        newmodel[0:3] = np.array([X,Y,Z])\n",
    "        finalstems.append({'tree':i[indices],'model':model})\n",
    "        stemcyls.append(Corners.makecylinder(model=newmodel,length=5,dense=20))"
   ]
  },
  {
   "cell_type": "code",
   "execution_count": 35,
   "metadata": {},
   "outputs": [],
   "source": [
    "Corners.PCL3dpaint(stemcyls+[np.array(surtrees1)],axis=10)"
   ]
  },
  {
   "cell_type": "code",
   "execution_count": 40,
   "metadata": {},
   "outputs": [],
   "source": [
    "Corners.PCL3dpaint(stemcyls+lowStems,axis=10)"
   ]
  },
  {
   "cell_type": "code",
   "execution_count": 37,
   "metadata": {},
   "outputs": [],
   "source": [
    "matches = []\n",
    "diametererror = []\n",
    "cloudmatch = []\n",
    "for n1,i in enumerate(finalstems):\n",
    "    best=100\n",
    "    number = -1\n",
    "    for n2,p in enumerate(TreeDict):\n",
    "        if np.linalg.norm(i['model'][0:2]-p['NewCoor'][0:2]) < best:\n",
    "            number = n2\n",
    "            best = np.linalg.norm(i['model'][0:2]-p['NewCoor'][0:2])\n",
    "    matches.append(number)\n",
    "    diametererror.append(abs(i['model'][6]*2-TreeDict[number]['Orig'][2]/100))\n",
    "    cloudmatch.append(np.vstack([surtreesL1[number],i['tree'],stemcyls[n1]]))"
   ]
  },
  {
   "cell_type": "code",
   "execution_count": 44,
   "metadata": {},
   "outputs": [],
   "source": [
    "treedata = pd.read_excel('../../Data/NistClouds/NIST_2019_Survey.xlsx')\n",
    "Xcoro,Ycoro,diam = treedata.iloc[0,[2,3,6]]\n",
    "Xcor,Ycor,Zcor = coef @ [Xcoro,Ycoro,0,1]\n",
    "surtreesL1o = [Corners.makecylinder(model=[Xcoro, Ycoro, 0,0,0,1,diam/100],length=10,dense=20)]\n",
    "surtreesL1 = [Corners.makecylinder(model=[Xcor, Ycor, 0,0,0,1,diam/100],length=10,dense=20)]\n",
    "TreeDict = [{'Orig':treedata.iloc[[2,3,6]],'NewCoor':np.array([Xcor,Ycor,Zcor])}]\n",
    "for i,rows in treedata.iloc[1:].iterrows():\n",
    "    Xcoro,Ycoro,diam = rows.iloc[[2,3,6]]\n",
    "    Xcor,Ycor,Zcor = coef @ [Xcoro,Ycoro,0,1]\n",
    "    if not np.any(np.isnan([Xcor,Ycor,diam])):\n",
    "        surtreesL1o.append(Corners.makecylinder(model=[Xcoro, Ycoro, 0,0,0,1,diam/200],length=10,dense=20))\n",
    "        surtreesL1.append(Corners.makecylinder(model=[Xcor, Ycor, Zcor,0,0,1,diam/200],length=10,dense=20))\n",
    "        TreeDict.append({'Orig':rows.iloc[[2,3,6]],'NewCoor':np.array([Xcor,Ycor,diam/200])})\n",
    "surtrees1o = [p for i in surtreesL1o for p in i]\n",
    "surtrees1 = [p for i in surtreesL1 for p in i]\n",
    "surtreesCloud1 = pclpy.pcl.PointCloud.PointXYZ(surtrees1)"
   ]
  },
  {
   "cell_type": "code",
   "execution_count": 46,
   "metadata": {},
   "outputs": [],
   "source": [
    "from scipy.optimize import linear_sum_assignment"
   ]
  },
  {
   "cell_type": "code",
   "execution_count": 67,
   "metadata": {},
   "outputs": [
    {
     "name": "stdout",
     "output_type": "stream",
     "text": [
      "Hungarian Algorithm assignment :\n",
      "Get metrics: \n"
     ]
    }
   ],
   "source": [
    "            #DataBase\n",
    "#Found trees\n",
    "#Hungarian Algorithm assignment\n",
    "print('Hungarian Algorithm assignment :')\n",
    "CostMat = np.ones([len(TreeDict),len(stemcyls)])\n",
    "for X,datatree in enumerate(TreeDict):\n",
    "    for Y,foundtree in enumerate(finalstems):\n",
    "        CostMat[X,Y] = np.linalg.norm([datatree['NewCoor'][0:2]-foundtree['model'][0:2]])\n",
    "\n",
    "dataindex, foundindex = linear_sum_assignment(CostMat,maximize=False)\n",
    "\n",
    "#Get metrics\n",
    "print('Get metrics: ')\n",
    "locationerror = []\n",
    "correctlocationerror = []\n",
    "diametererror = []\n",
    "cloudmatch = []\n",
    "for i,j in zip(dataindex, foundindex):\n",
    "    locationerror.append(np.linalg.norm((finalstems[j]['model'][0:2]-TreeDict[i]['NewCoor'][0:2])))\n",
    "    if locationerror[-1]<2:\n",
    "        diametererror.append(abs(finalstems[j]['model'][6]*2-TreeDict[i]['NewCoor'][2]))        \n",
    "        correctlocationerror.append(np.linalg.norm((finalstems[j]['model'][0:2]-TreeDict[i]['NewCoor'][0:2])))\n",
    "    cloudmatch.append(np.vstack([surtreesL1[i],finalstems[j]['tree'],stemcyls[j]]))"
   ]
  },
  {
   "cell_type": "code",
   "execution_count": 57,
   "metadata": {},
   "outputs": [],
   "source": [
    "Corners.PCL3dpaint(cloudmatch+[np.array(surtrees1)*1.01])"
   ]
  },
  {
   "cell_type": "code",
   "execution_count": 58,
   "metadata": {},
   "outputs": [],
   "source": [
    "Corners.PCL3dpaint(cloudmatch)"
   ]
  },
  {
   "cell_type": "code",
   "execution_count": 68,
   "metadata": {},
   "outputs": [],
   "source": [
    "import matplotlib.pyplot as plt"
   ]
  },
  {
   "cell_type": "code",
   "execution_count": 69,
   "metadata": {},
   "outputs": [
    {
     "data": {
      "text/plain": [
       "(array([15.,  8.,  8.,  5.,  2.,  1.,  1.,  1.,  0.,  1.]),\n",
       " array([0.04747225, 0.21185514, 0.37623804, 0.54062094, 0.70500383,\n",
       "        0.86938673, 1.03376962, 1.19815252, 1.36253542, 1.52691831,\n",
       "        1.69130121]),\n",
       " <a list of 10 Patch objects>)"
      ]
     },
     "execution_count": 69,
     "metadata": {},
     "output_type": "execute_result"
    },
    {
     "data": {
      "image/png": "[encoded data removed]",
      "text/plain": [
       "<Figure size 432x288 with 1 Axes>"
      ]
     },
     "metadata": {
      "needs_background": "light"
     },
     "output_type": "display_data"
    }
   ],
   "source": [
    "plt.hist(diametererror)"
   ]
  },
  {
   "cell_type": "code",
   "execution_count": 70,
   "metadata": {},
   "outputs": [
    {
     "data": {
      "text/plain": [
       "0.23083688949305434"
      ]
     },
     "execution_count": 70,
     "metadata": {},
     "output_type": "execute_result"
    }
   ],
   "source": [
    "np.mean(np.array(diametererror)[np.array(diametererror)<0.5])"
   ]
  },
  {
   "cell_type": "code",
   "execution_count": 71,
   "metadata": {},
   "outputs": [
    {
     "data": {
      "text/plain": [
       "0.41372052976914814"
      ]
     },
     "execution_count": 71,
     "metadata": {},
     "output_type": "execute_result"
    }
   ],
   "source": [
    "np.mean(np.array(diametererror))"
   ]
  },
  {
   "cell_type": "code",
   "execution_count": 72,
   "metadata": {},
   "outputs": [
    {
     "data": {
      "text/plain": [
       "(29, 42)"
      ]
     },
     "execution_count": 72,
     "metadata": {},
     "output_type": "execute_result"
    }
   ],
   "source": [
    "len(np.array(diametererror)[np.array(diametererror)<0.5]),len(diametererror)"
   ]
  },
  {
   "cell_type": "code",
   "execution_count": 73,
   "metadata": {},
   "outputs": [
    {
     "data": {
      "text/plain": [
       "337"
      ]
     },
     "execution_count": 73,
     "metadata": {},
     "output_type": "execute_result"
    }
   ],
   "source": [
    "len(TreeDict)"
   ]
  },
  {
   "cell_type": "code",
   "execution_count": null,
   "metadata": {},
   "outputs": [],
   "source": []
  }
 ],
 "metadata": {
  "kernelspec": {
   "display_name": "Python 3",
   "language": "python",
   "name": "python3"
  },
  "language_info": {
   "codemirror_mode": {
    "name": "ipython",
    "version": 3
   },
   "file_extension": ".py",
   "mimetype": "text/x-python",
   "name": "python",
   "nbconvert_exporter": "python",
   "pygments_lexer": "ipython3",
   "version": "3.6.10"
  }
 },
 "nbformat": 4,
 "nbformat_minor": 4
}
