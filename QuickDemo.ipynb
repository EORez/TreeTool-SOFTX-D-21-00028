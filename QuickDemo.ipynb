{
 "cells": [
  {
   "cell_type": "markdown",
   "metadata": {},
   "source": [
    "Introduction\n",
    "\n",
    "This document serves as a tutorial for using the TreeTool tool, a software for detecting trees in a point cloud and measuring their diameter at chest height (1.3 m). This document seeks to demonstrate the operation of TreeTool, whether used as a stand-alone application or integrated as a package with other applications.\n",
    "\n",
    "Usage guide\n",
    "\n",
    "Below we describe our demo notebook contained in the QuickDemo.ipynb file. This notebook illustrates the operation and use of our software, from loading a point cloud, viewing it, processing it with our algorithm and saving the results.\n"
   ]
  },
  {
   "cell_type": "markdown",
   "metadata": {},
   "source": [
    "Load the libraries that we will use and had previously installed"
   ]
  },
  {
   "cell_type": "code",
   "execution_count": 1,
   "metadata": {},
   "outputs": [],
   "source": [
    "import sys\n",
    "sys.path.append('Libraries/')\n",
    "import pclpy\n",
    "import numpy as np\n",
    "import segTree\n",
    "import Utils\n",
    "import pandas as pd\n",
    "from scipy.optimize import linear_sum_assignment\n",
    "import matplotlib.pyplot as plt\n",
    "import Tree_Tool"
   ]
  },
  {
   "cell_type": "markdown",
   "metadata": {},
   "source": [
    "Load the point cloud from a .pcd using pclpy, we use our function segTree which containes many helper funcions such as voxelize to down sample our point cloud and visualize using our Visualization function built on open3d. "
   ]
  },
  {
   "cell_type": "markdown",
   "metadata": {},
   "source": [
    "WARNING: Please adjust the path before executing"
   ]
  },
  {
   "cell_type": "code",
   "execution_count": 2,
   "metadata": {},
   "outputs": [],
   "source": [
    "PointCloud = pclpy.pcl.PointCloud.PointXYZ()\n",
    "\n",
    "filedir = r'../treedata/downsampledlesscloudEURO2.pcd'\n",
    "pclpy.pcl.io.loadPCDFile(filedir,PointCloud)\n",
    "PointCloudV = segTree.voxelize(PointCloud.xyz,0.04)\n",
    "Utils.open3dpaint(PointCloudV, reduce_for_Vis = True ,voxelsize=0.1)\n"
   ]
  },
  {
   "cell_type": "code",
   "execution_count": 3,
   "outputs": [
    {
     "data": {
      "text/plain": "(9230594, 3)"
     },
     "execution_count": 3,
     "metadata": {},
     "output_type": "execute_result"
    }
   ],
   "source": [
    "PointCloud.xyz.shape"
   ],
   "metadata": {
    "collapsed": false,
    "pycharm": {
     "name": "#%%\n"
    }
   }
  },
  {
   "cell_type": "markdown",
   "metadata": {},
   "source": [
    "Tree tool is our main class that containes the routines for tree detection and DBH extraction"
   ]
  },
  {
   "cell_type": "code",
   "execution_count": 4,
   "metadata": {},
   "outputs": [],
   "source": [
    "Mysegmentor = Tree_Tool.Tree_tool(PointCloudV)"
   ]
  },
  {
   "cell_type": "markdown",
   "metadata": {},
   "source": [
    "Our tree top object has a series of funtions that are performed to obtain DBH and tree detection."
   ]
  },
  {
   "cell_type": "code",
   "execution_count": 5,
   "metadata": {},
   "outputs": [],
   "source": [
    "Mysegmentor.Step_1_Remove_Floor()\n",
    "\n",
    "#Obtained atributes:\n",
    "#NongroundCloud: All points in the point cloud that don't belong to the ground\n",
    "#GroundCloud: All points in the point cloud that belong to the ground\n",
    "Utils.open3dpaint([Mysegmentor.NongroundCloud,Mysegmentor.GroundCloud],reduce_for_Vis = True ,voxelsize=0.1)"
   ]
  },
  {
   "cell_type": "markdown",
   "metadata": {},
   "source": [
    "Set Algorithm Parameters"
   ]
  },
  {
   "cell_type": "code",
   "execution_count": 6,
   "metadata": {},
   "outputs": [],
   "source": [
    "Mysegmentor.set_Ksearch(0.08)"
   ]
  },
  {
   "cell_type": "markdown",
   "metadata": {},
   "source": [
    "Run main process"
   ]
  },
  {
   "cell_type": "code",
   "execution_count": 7,
   "metadata": {},
   "outputs": [],
   "source": [
    "#Get point normals for filtering\n",
    "\n",
    "#Obtained atributes:\n",
    "#nonFilteredpoints: Same as NongroundCloud\n",
    "#nonFilterednormals: Normals of points in nonFilteredpoints\n",
    "\n",
    "#filteredpoints: Points that pass the normal filter\n",
    "#filterednormals: Normals of points that pass the normal filter\n",
    "Mysegmentor.Step_2_Normal_Filtering(verticalityThresh=0.06, NonNANcurvatureThresh=0.1)\n",
    "Utils.open3dpaint([Mysegmentor.NongroundCloud.xyz, Mysegmentor.nonFilteredpoints.xyz + Mysegmentor.nonFilterednormals * 0.1,\n",
    "                          Mysegmentor.nonFilteredpoints.xyz + Mysegmentor.nonFilterednormals * 0.2],reduce_for_Vis = True ,voxelsize=0.1)\n",
    "\n",
    "Utils.open3dpaint([Mysegmentor.filteredpoints.xyz , Mysegmentor.filteredpoints.xyz + Mysegmentor.filterednormals * 0.05,\n",
    "                          Mysegmentor.filteredpoints.xyz + Mysegmentor.filterednormals * 0.1],reduce_for_Vis = True ,voxelsize=0.1)"
   ]
  },
  {
   "cell_type": "code",
   "execution_count": 8,
   "metadata": {},
   "outputs": [],
   "source": [
    "Mysegmentor.Step_3_Eucladean_Clustering(tol=0.1, minc=40, maxc=6000000)\n",
    "\n",
    "#Obtained atributes:\n",
    "#cluster_list: List of all clusteres obtained with Eucladean Clustering\n",
    "\n",
    "Utils.open3dpaint(Mysegmentor.cluster_list,reduce_for_Vis = True ,voxelsize=0.1)"
   ]
  },
  {
   "cell_type": "code",
   "execution_count": 9,
   "metadata": {},
   "outputs": [],
   "source": [
    "#Group stem segments\n",
    "Mysegmentor.Step_4_Group_Stems(max_angle=0.4)\n",
    "\n",
    "#Obtained atributes:\n",
    "#cluster_list: List of all complete stems obtained by joining clusters belonging to the same tree\n",
    "            \n",
    "Utils.open3dpaint(Mysegmentor.complete_Stems,reduce_for_Vis = True ,voxelsize=0.1)"
   ]
  },
  {
   "cell_type": "code",
   "execution_count": 10,
   "metadata": {},
   "outputs": [],
   "source": [
    "Mysegmentor.Step_5_Get_Ground_Level_Trees(lowstems_Height=5, cutstems_Height=5)\n",
    "\n",
    "#Obtained atributes:\n",
    "#lowstems: List of all stems truncated to the specified height\n",
    "\n",
    "Utils.open3dpaint(Mysegmentor.lowstems,reduce_for_Vis = True ,voxelsize=0.1)"
   ]
  },
  {
   "cell_type": "code",
   "execution_count": 11,
   "metadata": {},
   "outputs": [],
   "source": [
    "Mysegmentor.Step_6_Get_Cylinder_Tree_Models(searchRadius=0.1)\n",
    "\n",
    "#Obtained atributes:\n",
    "#finalstems: List of Dictionaries with two keys 'tree' which contains the points used to fit the cylinder model and 'model' which contains the cylinder model parameters\n",
    "#stemcyls: List of the pointclouds that represent the tree modeled with a cylinder\n",
    "\n",
    "Utils.open3dpaint([i['tree'] for i in Mysegmentor.finalstems] + Mysegmentor.stemcyls,reduce_for_Vis = True ,voxelsize=0.1)\n",
    "     "
   ]
  },
  {
   "cell_type": "code",
   "execution_count": 12,
   "metadata": {},
   "outputs": [],
   "source": [
    "Mysegmentor.Step_7_Ellipse_fit()\n",
    "\n",
    "#Obtained atributes:\n",
    "#Three new keys in our finalstems dictionaries:\n",
    "#final_diameter: Final DBH of every tree\n",
    "#cylinder_diameter: DBH obtained with cylinder fitting\n",
    "#Ellipse_diameter;DBH obtained with Ellipse fitting"
   ]
  },
  {
   "cell_type": "markdown",
   "metadata": {},
   "source": [
    "Finally we save the extracted trees and their DBH"
   ]
  },
  {
   "cell_type": "code",
   "execution_count": 13,
   "metadata": {},
   "outputs": [],
   "source": [
    "Mysegmentor.save_results(savelocation = 'myresults.csv')"
   ]
  },
  {
   "cell_type": "markdown",
   "metadata": {},
   "source": [
    "Load Cloud and visualize"
   ]
  },
  {
   "cell_type": "markdown",
   "metadata": {},
   "source": [
    "Use PDAL to apply a Morphological Filter to seperate ground and non ground points. "
   ]
  },
  {
   "cell_type": "markdown",
   "metadata": {},
   "source": [
    "WARNIG: Please adjust the path before executing"
   ]
  },
  {
   "cell_type": "code",
   "execution_count": 14,
   "metadata": {},
   "outputs": [],
   "source": [
    "PointCloud = pclpy.pcl.PointCloud.PointXYZ()\n",
    "pclpy.pcl.io.loadPCDFile('../treedata/downsampledlesscloudEURO3.pcd',PointCloud)\n",
    "PointCloudV = segTree.voxelize(PointCloud.xyz,0.05)\n",
    "Utils.open3dpaint(PointCloudV, reduce_for_Vis = True ,voxelsize=0.1)"
   ]
  },
  {
   "cell_type": "code",
   "execution_count": 15,
   "metadata": {},
   "outputs": [],
   "source": [
    "Mysegmentor.set_pointcloud(PointCloudV)"
   ]
  },
  {
   "cell_type": "code",
   "execution_count": 16,
   "metadata": {},
   "outputs": [
    {
     "name": "stdout",
     "output_type": "stream",
     "text": [
      "Step_1_Remove_Floor\n",
      "Step_2_Normal_Filtering\n",
      "Step_3_Eucladean_Clustering\n",
      "Step_4_Group_Stems\n",
      "Step_5_Get_Ground_Level_Trees\n",
      "Step_6_Get_Cylinder_Tree_Models\n",
      "Step_7_Ellipse_fit\n",
      "Done\n"
     ]
    }
   ],
   "source": [
    "Mysegmentor.Full_Process(verticalityThresh=0.06,\n",
    "    NonNANcurvatureThresh=0.1,\n",
    "    tol=0.1,\n",
    "    minc=40,\n",
    "    maxc=6000000,\n",
    "    max_angle=0.4,\n",
    "    lowstems_Height=5,\n",
    "    cutstems_Height=5,\n",
    "    searchRadius=0.1)\n",
    "\n",
    "cloudmatch = [i['tree'] for i in Mysegmentor.finalstems]+[i for i in Mysegmentor.stemcyls]\n",
    "Utils.open3dpaint(cloudmatch+[PointCloudV], voxelsize=0.2)"
   ]
  },
  {
   "cell_type": "markdown",
   "metadata": {},
   "source": [
    "WARNIG: Please adjust the path before executing"
   ]
  },
  {
   "cell_type": "code",
   "execution_count": 18,
   "metadata": {},
   "outputs": [
    {
     "ename": "FileNotFoundError",
     "evalue": "[Errno 2] No such file or directory: 'D:/Documentos/ParaAutonomia/Python/Proyecto/Data/EuroSDR_DataRelease/EuroSDR_DataRelease/TLS_Benchmarking_Plot_3_LHD.txt'",
     "output_type": "error",
     "traceback": [
      "\u001B[0;31m---------------------------------------------------------------------------\u001B[0m",
      "\u001B[0;31mFileNotFoundError\u001B[0m                         Traceback (most recent call last)",
      "\u001B[0;32m<ipython-input-18-5e9ad708c65a>\u001B[0m in \u001B[0;36m<module>\u001B[0;34m\u001B[0m\n\u001B[1;32m      2\u001B[0m \u001B[0;31m#Get ground truth\u001B[0m\u001B[0;34m\u001B[0m\u001B[0;34m\u001B[0m\u001B[0;34m\u001B[0m\u001B[0m\n\u001B[1;32m      3\u001B[0m \u001B[0;31m#treedata = pd.read_csv('E:\\Documents\\src\\TreeTool (2)\\TreeData/TLS_Benchmarking_Plot_3_LHD.txt',sep = '\\t',names = ['x','y','height','DBH'])\u001B[0m\u001B[0;34m\u001B[0m\u001B[0;34m\u001B[0m\u001B[0;34m\u001B[0m\u001B[0m\n\u001B[0;32m----> 4\u001B[0;31m \u001B[0mtreedata\u001B[0m \u001B[0;34m=\u001B[0m \u001B[0mpd\u001B[0m\u001B[0;34m.\u001B[0m\u001B[0mread_csv\u001B[0m\u001B[0;34m(\u001B[0m\u001B[0;34m'D:/Documentos/ParaAutonomia/Python/Proyecto/Data/EuroSDR_DataRelease/EuroSDR_DataRelease/TLS_Benchmarking_Plot_3_LHD.txt'\u001B[0m\u001B[0;34m,\u001B[0m\u001B[0msep\u001B[0m \u001B[0;34m=\u001B[0m \u001B[0;34m'\\t'\u001B[0m\u001B[0;34m,\u001B[0m\u001B[0mnames\u001B[0m \u001B[0;34m=\u001B[0m \u001B[0;34m[\u001B[0m\u001B[0;34m'x'\u001B[0m\u001B[0;34m,\u001B[0m\u001B[0;34m'y'\u001B[0m\u001B[0;34m,\u001B[0m\u001B[0;34m'height'\u001B[0m\u001B[0;34m,\u001B[0m\u001B[0;34m'DBH'\u001B[0m\u001B[0;34m]\u001B[0m\u001B[0;34m)\u001B[0m\u001B[0;34m\u001B[0m\u001B[0;34m\u001B[0m\u001B[0m\n\u001B[0m\u001B[1;32m      5\u001B[0m \u001B[0mXcor\u001B[0m\u001B[0;34m,\u001B[0m\u001B[0mYcor\u001B[0m\u001B[0;34m,\u001B[0m\u001B[0mdiam\u001B[0m \u001B[0;34m=\u001B[0m \u001B[0mtreedata\u001B[0m\u001B[0;34m.\u001B[0m\u001B[0miloc\u001B[0m\u001B[0;34m[\u001B[0m\u001B[0;36m0\u001B[0m\u001B[0;34m,\u001B[0m\u001B[0;34m[\u001B[0m\u001B[0;36m0\u001B[0m\u001B[0;34m,\u001B[0m\u001B[0;36m1\u001B[0m\u001B[0;34m,\u001B[0m\u001B[0;36m3\u001B[0m\u001B[0;34m]\u001B[0m\u001B[0;34m]\u001B[0m\u001B[0;34m\u001B[0m\u001B[0;34m\u001B[0m\u001B[0m\n\u001B[1;32m      6\u001B[0m \u001B[0msurtreesL1\u001B[0m \u001B[0;34m=\u001B[0m \u001B[0;34m[\u001B[0m\u001B[0mUtils\u001B[0m\u001B[0;34m.\u001B[0m\u001B[0mmakecylinder\u001B[0m\u001B[0;34m(\u001B[0m\u001B[0mmodel\u001B[0m\u001B[0;34m=\u001B[0m\u001B[0;34m[\u001B[0m\u001B[0mXcor\u001B[0m\u001B[0;34m,\u001B[0m \u001B[0mYcor\u001B[0m\u001B[0;34m,\u001B[0m \u001B[0;36m0\u001B[0m\u001B[0;34m,\u001B[0m\u001B[0;36m0\u001B[0m\u001B[0;34m,\u001B[0m\u001B[0;36m0\u001B[0m\u001B[0;34m,\u001B[0m\u001B[0;36m1\u001B[0m\u001B[0;34m,\u001B[0m\u001B[0mdiam\u001B[0m\u001B[0;34m/\u001B[0m\u001B[0;36m2\u001B[0m\u001B[0;34m]\u001B[0m\u001B[0;34m,\u001B[0m\u001B[0mlength\u001B[0m\u001B[0;34m=\u001B[0m\u001B[0;36m10\u001B[0m\u001B[0;34m,\u001B[0m\u001B[0mdense\u001B[0m\u001B[0;34m=\u001B[0m\u001B[0;36m20\u001B[0m\u001B[0;34m)\u001B[0m\u001B[0;34m]\u001B[0m\u001B[0;34m\u001B[0m\u001B[0;34m\u001B[0m\u001B[0m\n",
      "\u001B[0;32m~/anaconda3/envs/treetool38/lib/python3.8/site-packages/pandas/io/parsers.py\u001B[0m in \u001B[0;36mread_csv\u001B[0;34m(filepath_or_buffer, sep, delimiter, header, names, index_col, usecols, squeeze, prefix, mangle_dupe_cols, dtype, engine, converters, true_values, false_values, skipinitialspace, skiprows, skipfooter, nrows, na_values, keep_default_na, na_filter, verbose, skip_blank_lines, parse_dates, infer_datetime_format, keep_date_col, date_parser, dayfirst, cache_dates, iterator, chunksize, compression, thousands, decimal, lineterminator, quotechar, quoting, doublequote, escapechar, comment, encoding, dialect, error_bad_lines, warn_bad_lines, delim_whitespace, low_memory, memory_map, float_precision, storage_options)\u001B[0m\n\u001B[1;32m    608\u001B[0m     \u001B[0mkwds\u001B[0m\u001B[0;34m.\u001B[0m\u001B[0mupdate\u001B[0m\u001B[0;34m(\u001B[0m\u001B[0mkwds_defaults\u001B[0m\u001B[0;34m)\u001B[0m\u001B[0;34m\u001B[0m\u001B[0;34m\u001B[0m\u001B[0m\n\u001B[1;32m    609\u001B[0m \u001B[0;34m\u001B[0m\u001B[0m\n\u001B[0;32m--> 610\u001B[0;31m     \u001B[0;32mreturn\u001B[0m \u001B[0m_read\u001B[0m\u001B[0;34m(\u001B[0m\u001B[0mfilepath_or_buffer\u001B[0m\u001B[0;34m,\u001B[0m \u001B[0mkwds\u001B[0m\u001B[0;34m)\u001B[0m\u001B[0;34m\u001B[0m\u001B[0;34m\u001B[0m\u001B[0m\n\u001B[0m\u001B[1;32m    611\u001B[0m \u001B[0;34m\u001B[0m\u001B[0m\n\u001B[1;32m    612\u001B[0m \u001B[0;34m\u001B[0m\u001B[0m\n",
      "\u001B[0;32m~/anaconda3/envs/treetool38/lib/python3.8/site-packages/pandas/io/parsers.py\u001B[0m in \u001B[0;36m_read\u001B[0;34m(filepath_or_buffer, kwds)\u001B[0m\n\u001B[1;32m    460\u001B[0m \u001B[0;34m\u001B[0m\u001B[0m\n\u001B[1;32m    461\u001B[0m     \u001B[0;31m# Create the parser.\u001B[0m\u001B[0;34m\u001B[0m\u001B[0;34m\u001B[0m\u001B[0;34m\u001B[0m\u001B[0m\n\u001B[0;32m--> 462\u001B[0;31m     \u001B[0mparser\u001B[0m \u001B[0;34m=\u001B[0m \u001B[0mTextFileReader\u001B[0m\u001B[0;34m(\u001B[0m\u001B[0mfilepath_or_buffer\u001B[0m\u001B[0;34m,\u001B[0m \u001B[0;34m**\u001B[0m\u001B[0mkwds\u001B[0m\u001B[0;34m)\u001B[0m\u001B[0;34m\u001B[0m\u001B[0;34m\u001B[0m\u001B[0m\n\u001B[0m\u001B[1;32m    463\u001B[0m \u001B[0;34m\u001B[0m\u001B[0m\n\u001B[1;32m    464\u001B[0m     \u001B[0;32mif\u001B[0m \u001B[0mchunksize\u001B[0m \u001B[0;32mor\u001B[0m \u001B[0miterator\u001B[0m\u001B[0;34m:\u001B[0m\u001B[0;34m\u001B[0m\u001B[0;34m\u001B[0m\u001B[0m\n",
      "\u001B[0;32m~/anaconda3/envs/treetool38/lib/python3.8/site-packages/pandas/io/parsers.py\u001B[0m in \u001B[0;36m__init__\u001B[0;34m(self, f, engine, **kwds)\u001B[0m\n\u001B[1;32m    817\u001B[0m             \u001B[0mself\u001B[0m\u001B[0;34m.\u001B[0m\u001B[0moptions\u001B[0m\u001B[0;34m[\u001B[0m\u001B[0;34m\"has_index_names\"\u001B[0m\u001B[0;34m]\u001B[0m \u001B[0;34m=\u001B[0m \u001B[0mkwds\u001B[0m\u001B[0;34m[\u001B[0m\u001B[0;34m\"has_index_names\"\u001B[0m\u001B[0;34m]\u001B[0m\u001B[0;34m\u001B[0m\u001B[0;34m\u001B[0m\u001B[0m\n\u001B[1;32m    818\u001B[0m \u001B[0;34m\u001B[0m\u001B[0m\n\u001B[0;32m--> 819\u001B[0;31m         \u001B[0mself\u001B[0m\u001B[0;34m.\u001B[0m\u001B[0m_engine\u001B[0m \u001B[0;34m=\u001B[0m \u001B[0mself\u001B[0m\u001B[0;34m.\u001B[0m\u001B[0m_make_engine\u001B[0m\u001B[0;34m(\u001B[0m\u001B[0mself\u001B[0m\u001B[0;34m.\u001B[0m\u001B[0mengine\u001B[0m\u001B[0;34m)\u001B[0m\u001B[0;34m\u001B[0m\u001B[0;34m\u001B[0m\u001B[0m\n\u001B[0m\u001B[1;32m    820\u001B[0m \u001B[0;34m\u001B[0m\u001B[0m\n\u001B[1;32m    821\u001B[0m     \u001B[0;32mdef\u001B[0m \u001B[0mclose\u001B[0m\u001B[0;34m(\u001B[0m\u001B[0mself\u001B[0m\u001B[0;34m)\u001B[0m\u001B[0;34m:\u001B[0m\u001B[0;34m\u001B[0m\u001B[0;34m\u001B[0m\u001B[0m\n",
      "\u001B[0;32m~/anaconda3/envs/treetool38/lib/python3.8/site-packages/pandas/io/parsers.py\u001B[0m in \u001B[0;36m_make_engine\u001B[0;34m(self, engine)\u001B[0m\n\u001B[1;32m   1048\u001B[0m             )\n\u001B[1;32m   1049\u001B[0m         \u001B[0;31m# error: Too many arguments for \"ParserBase\"\u001B[0m\u001B[0;34m\u001B[0m\u001B[0;34m\u001B[0m\u001B[0;34m\u001B[0m\u001B[0m\n\u001B[0;32m-> 1050\u001B[0;31m         \u001B[0;32mreturn\u001B[0m \u001B[0mmapping\u001B[0m\u001B[0;34m[\u001B[0m\u001B[0mengine\u001B[0m\u001B[0;34m]\u001B[0m\u001B[0;34m(\u001B[0m\u001B[0mself\u001B[0m\u001B[0;34m.\u001B[0m\u001B[0mf\u001B[0m\u001B[0;34m,\u001B[0m \u001B[0;34m**\u001B[0m\u001B[0mself\u001B[0m\u001B[0;34m.\u001B[0m\u001B[0moptions\u001B[0m\u001B[0;34m)\u001B[0m  \u001B[0;31m# type: ignore[call-arg]\u001B[0m\u001B[0;34m\u001B[0m\u001B[0;34m\u001B[0m\u001B[0m\n\u001B[0m\u001B[1;32m   1051\u001B[0m \u001B[0;34m\u001B[0m\u001B[0m\n\u001B[1;32m   1052\u001B[0m     \u001B[0;32mdef\u001B[0m \u001B[0m_failover_to_python\u001B[0m\u001B[0;34m(\u001B[0m\u001B[0mself\u001B[0m\u001B[0;34m)\u001B[0m\u001B[0;34m:\u001B[0m\u001B[0;34m\u001B[0m\u001B[0;34m\u001B[0m\u001B[0m\n",
      "\u001B[0;32m~/anaconda3/envs/treetool38/lib/python3.8/site-packages/pandas/io/parsers.py\u001B[0m in \u001B[0;36m__init__\u001B[0;34m(self, src, **kwds)\u001B[0m\n\u001B[1;32m   1865\u001B[0m \u001B[0;34m\u001B[0m\u001B[0m\n\u001B[1;32m   1866\u001B[0m         \u001B[0;31m# open handles\u001B[0m\u001B[0;34m\u001B[0m\u001B[0;34m\u001B[0m\u001B[0;34m\u001B[0m\u001B[0m\n\u001B[0;32m-> 1867\u001B[0;31m         \u001B[0mself\u001B[0m\u001B[0;34m.\u001B[0m\u001B[0m_open_handles\u001B[0m\u001B[0;34m(\u001B[0m\u001B[0msrc\u001B[0m\u001B[0;34m,\u001B[0m \u001B[0mkwds\u001B[0m\u001B[0;34m)\u001B[0m\u001B[0;34m\u001B[0m\u001B[0;34m\u001B[0m\u001B[0m\n\u001B[0m\u001B[1;32m   1868\u001B[0m         \u001B[0;32massert\u001B[0m \u001B[0mself\u001B[0m\u001B[0;34m.\u001B[0m\u001B[0mhandles\u001B[0m \u001B[0;32mis\u001B[0m \u001B[0;32mnot\u001B[0m \u001B[0;32mNone\u001B[0m\u001B[0;34m\u001B[0m\u001B[0;34m\u001B[0m\u001B[0m\n\u001B[1;32m   1869\u001B[0m         \u001B[0;32mfor\u001B[0m \u001B[0mkey\u001B[0m \u001B[0;32min\u001B[0m \u001B[0;34m(\u001B[0m\u001B[0;34m\"storage_options\"\u001B[0m\u001B[0;34m,\u001B[0m \u001B[0;34m\"encoding\"\u001B[0m\u001B[0;34m,\u001B[0m \u001B[0;34m\"memory_map\"\u001B[0m\u001B[0;34m,\u001B[0m \u001B[0;34m\"compression\"\u001B[0m\u001B[0;34m)\u001B[0m\u001B[0;34m:\u001B[0m\u001B[0;34m\u001B[0m\u001B[0;34m\u001B[0m\u001B[0m\n",
      "\u001B[0;32m~/anaconda3/envs/treetool38/lib/python3.8/site-packages/pandas/io/parsers.py\u001B[0m in \u001B[0;36m_open_handles\u001B[0;34m(self, src, kwds)\u001B[0m\n\u001B[1;32m   1360\u001B[0m         \u001B[0mLet\u001B[0m \u001B[0mthe\u001B[0m \u001B[0mreaders\u001B[0m \u001B[0mopen\u001B[0m \u001B[0mIOHanldes\u001B[0m \u001B[0mafter\u001B[0m \u001B[0mthey\u001B[0m \u001B[0mare\u001B[0m \u001B[0mdone\u001B[0m \u001B[0;32mwith\u001B[0m \u001B[0mtheir\u001B[0m \u001B[0mpotential\u001B[0m \u001B[0mraises\u001B[0m\u001B[0;34m.\u001B[0m\u001B[0;34m\u001B[0m\u001B[0;34m\u001B[0m\u001B[0m\n\u001B[1;32m   1361\u001B[0m         \"\"\"\n\u001B[0;32m-> 1362\u001B[0;31m         self.handles = get_handle(\n\u001B[0m\u001B[1;32m   1363\u001B[0m             \u001B[0msrc\u001B[0m\u001B[0;34m,\u001B[0m\u001B[0;34m\u001B[0m\u001B[0;34m\u001B[0m\u001B[0m\n\u001B[1;32m   1364\u001B[0m             \u001B[0;34m\"r\"\u001B[0m\u001B[0;34m,\u001B[0m\u001B[0;34m\u001B[0m\u001B[0;34m\u001B[0m\u001B[0m\n",
      "\u001B[0;32m~/anaconda3/envs/treetool38/lib/python3.8/site-packages/pandas/io/common.py\u001B[0m in \u001B[0;36mget_handle\u001B[0;34m(path_or_buf, mode, encoding, compression, memory_map, is_text, errors, storage_options)\u001B[0m\n\u001B[1;32m    640\u001B[0m                 \u001B[0merrors\u001B[0m \u001B[0;34m=\u001B[0m \u001B[0;34m\"replace\"\u001B[0m\u001B[0;34m\u001B[0m\u001B[0;34m\u001B[0m\u001B[0m\n\u001B[1;32m    641\u001B[0m             \u001B[0;31m# Encoding\u001B[0m\u001B[0;34m\u001B[0m\u001B[0;34m\u001B[0m\u001B[0;34m\u001B[0m\u001B[0m\n\u001B[0;32m--> 642\u001B[0;31m             handle = open(\n\u001B[0m\u001B[1;32m    643\u001B[0m                 \u001B[0mhandle\u001B[0m\u001B[0;34m,\u001B[0m\u001B[0;34m\u001B[0m\u001B[0;34m\u001B[0m\u001B[0m\n\u001B[1;32m    644\u001B[0m                 \u001B[0mioargs\u001B[0m\u001B[0;34m.\u001B[0m\u001B[0mmode\u001B[0m\u001B[0;34m,\u001B[0m\u001B[0;34m\u001B[0m\u001B[0;34m\u001B[0m\u001B[0m\n",
      "\u001B[0;31mFileNotFoundError\u001B[0m: [Errno 2] No such file or directory: 'D:/Documentos/ParaAutonomia/Python/Proyecto/Data/EuroSDR_DataRelease/EuroSDR_DataRelease/TLS_Benchmarking_Plot_3_LHD.txt'"
     ]
    }
   ],
   "source": [
    "#####################################################\n",
    "#Get ground truth\n",
    "#treedata = pd.read_csv('E:\\Documents\\src\\TreeTool (2)\\TreeData/TLS_Benchmarking_Plot_3_LHD.txt',sep = '\\t',names = ['x','y','height','DBH'])\n",
    "treedata = pd.read_csv('D:/Documentos/ParaAutonomia/Python/Proyecto/Data/EuroSDR_DataRelease/EuroSDR_DataRelease/TLS_Benchmarking_Plot_3_LHD.txt',sep = '\\t',names = ['x','y','height','DBH'])\n",
    "Xcor,Ycor,diam = treedata.iloc[0,[0,1,3]]\n",
    "surtreesL1 = [Utils.makecylinder(model=[Xcor, Ycor, 0,0,0,1,diam/2],length=10,dense=20)]\n",
    "Zcor = 0\n",
    "TreeDict = [np.array([Xcor,Ycor,diam])]\n",
    "for i,rows in treedata.iloc[1:].iterrows():\n",
    "    Xcor,Ycor,diam = rows.iloc[[0,1,3]]\n",
    "    if not np.any(np.isnan([Xcor,Ycor,diam])):\n",
    "        surtreesL1.append(Utils.makecylinder(model=[Xcor, Ycor, 0,0,0,1,diam/2],length=10,dense=10))\n",
    "        TreeDict.append(np.array([Xcor,Ycor,diam]))\n",
    "surtrees1 = [p for i in surtreesL1 for p in i]\n",
    "surtreesCloud1 = pclpy.pcl.PointCloud.PointXYZ(surtrees1)\n",
    "\n",
    "#DataBase\n",
    "#Found trees\n",
    "#Hungarian Algorithm assignment\n",
    "CostMat = np.ones([len(TreeDict),len(Mysegmentor.stemcyls)])\n",
    "for X,datatree in enumerate(TreeDict):\n",
    "    for Y,foundtree in enumerate(Mysegmentor.finalstems):\n",
    "        CostMat[X,Y] = np.linalg.norm([datatree[0:2]-foundtree['model'][0:2]])\n",
    "\n",
    "dataindex, foundindex = linear_sum_assignment(CostMat,maximize=False)\n",
    "\n",
    "#Get metrics\n",
    "locationerror = []\n",
    "correctlocationerror = []\n",
    "diametererror = []\n",
    "diametererrorElipse = []\n",
    "diametererrorComb = []\n",
    "cloudmatch = []\n",
    "for i,j in zip(dataindex, foundindex):\n",
    "    locationerror.append(np.linalg.norm((Mysegmentor.finalstems[j]['model'][0:2]-TreeDict[i][0:2])))\n",
    "    if locationerror[-1]<0.6:\n",
    "        if Mysegmentor.finalstems[j]['cylinder_diameter'] is not None:\n",
    "            diametererror.append(abs(Mysegmentor.finalstems[j]['cylinder_diameter']-TreeDict[i][2]))        \n",
    "            diametererrorElipse.append(abs(Mysegmentor.finalstems[j]['Elipse_diameter']-TreeDict[i][2]))        \n",
    "            mindi = max(Mysegmentor.finalstems[j]['cylinder_diameter'],Mysegmentor.finalstems[j]['Elipse_diameter'])\n",
    "            mendi = np.mean([Mysegmentor.finalstems[j]['cylinder_diameter'],Mysegmentor.finalstems[j]['Elipse_diameter']])\n",
    "            diametererrorComb.append(abs(mindi-TreeDict[i][2]))\n",
    "            correctlocationerror.append(np.linalg.norm((Mysegmentor.finalstems[j]['model'][0:2]-TreeDict[i][0:2])))\n",
    "            cloudmatch.append(np.vstack([surtreesL1[i],Mysegmentor.finalstems[j]['tree'],Mysegmentor.stemcyls[j]]))"
   ]
  },
  {
   "cell_type": "code",
   "execution_count": 18,
   "metadata": {},
   "outputs": [],
   "source": [
    "n_ref = len(TreeDict)\n",
    "n_match = (len(diametererror))\n",
    "n_extr = len(locationerror) - n_match\n",
    "\n",
    "Completeness = n_match/n_ref\n",
    "Correctness = n_match/(n_extr+n_match)"
   ]
  },
  {
   "cell_type": "code",
   "execution_count": 25,
   "metadata": {},
   "outputs": [
    {
     "name": "stdout",
     "output_type": "stream",
     "text": [
      "Total number of trees in Ground Truth:  148\n",
      "Total number of trees matched with Ground Truth:  79\n",
      "Total number of trees extra trees found:  0\n",
      "Percentage of matched trees:  53 %\n",
      "Percentage of correctly matched trees:  100 %\n",
      "Cylinder DBH mean Error:  0.01595812077914612\n",
      "Ellipse DBH mean Error:  0.023044976500011898\n",
      "Final DBH mean Error:  0.01552007000794052\n"
     ]
    },
    {
     "data": {
      "image/png": "[encoded data removed]",
      "text/plain": [
       "<Figure size 1440x432 with 3 Axes>"
      ]
     },
     "metadata": {
      "needs_background": "light"
     },
     "output_type": "display_data"
    }
   ],
   "source": [
    "plt.figure(figsize = (20,6))\n",
    "plt.subplot(1,3,1)\n",
    "plt.hist(diametererror,50)\n",
    "plt.title('Cylinder DBH error')\n",
    "\n",
    "plt.subplot(1,3,2)\n",
    "plt.hist(diametererrorComb,50)\n",
    "plt.title('Final DBH error')\n",
    "\n",
    "plt.subplot(1,3,3)\n",
    "plt.hist(correctlocationerror,50)\n",
    "plt.title('Location error')\n",
    "\n",
    "print('Total number of trees in Ground Truth: ', n_ref)\n",
    "print('Total number of trees matched with Ground Truth: ', n_match)\n",
    "print('Total number of trees extra trees found: ', n_extr)\n",
    "\n",
    "print('Percentage of matched trees: ', round(Completeness*100), '%')\n",
    "print('Percentage of correctly matched trees: ', round(Correctness*100), '%')\n",
    "\n",
    "print('Cylinder DBH mean Error: ', np.mean(diametererror),)\n",
    "print('Ellipse DBH mean Error: ', np.mean(diametererrorElipse))\n",
    "print('Final DBH mean Error: ', np.mean(diametererrorComb))"
   ]
  },
  {
   "cell_type": "code",
   "execution_count": null,
   "metadata": {},
   "outputs": [],
   "source": []
  }
 ],
 "metadata": {
  "kernelspec": {
   "display_name": "Python 3",
   "language": "python",
   "name": "python3"
  },
  "language_info": {
   "codemirror_mode": {
    "name": "ipython",
    "version": 3
   },
   "file_extension": ".py",
   "mimetype": "text/x-python",
   "name": "python",
   "nbconvert_exporter": "python",
   "pygments_lexer": "ipython3",
   "version": "3.7.9"
  }
 },
 "nbformat": 4,
 "nbformat_minor": 4
}