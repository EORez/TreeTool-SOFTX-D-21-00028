{
 "cells": [
  {
   "cell_type": "markdown",
   "source": [
    "Introduction\r\n",
    "\r\n",
    "This document serves as a tutorial for using the TreeTool tool, a software for detecting trees in a point cloud and measuring their diameter at breast height (1.3 m). This document seeks to demonstrate the operation of TreeTool, whether used as a stand-alone application or integrated as a package with other applications.\r\n",
    "\r\n",
    "Usage guide\r\n",
    "\r\n",
    "Below we describe our demo notebook contained in the QuickDemo.ipynb file. This notebook illustrates the operation and use of our software, from loading a point cloud, viewing it, processing it with our algorithm and saving the results.\r\n"
   ],
   "metadata": {}
  },
  {
   "cell_type": "markdown",
   "source": [
    "Load the libraries that we will use and had previously installed"
   ],
   "metadata": {}
  },
  {
   "cell_type": "code",
   "execution_count": 1,
   "source": [
    "import pclpy\r\n",
    "import numpy as np\r\n",
    "import Libraries.segTree as segTree\r\n",
    "import Libraries.Utils as Utils\r\n",
    "import Libraries.Tree_Tool as Tree_Tool\r\n",
    "import pandas as pd\r\n",
    "from scipy.optimize import linear_sum_assignment\r\n",
    "import matplotlib.pyplot as plt"
   ],
   "outputs": [
    {
     "output_type": "stream",
     "name": "stdout",
     "text": [
      "Jupyter environment detected. Enabling Open3D WebVisualizer.\n",
      "[Open3D INFO] WebRTC GUI backend enabled.\n",
      "[Open3D INFO] WebRTCWindowSystem: HTTP handshake server disabled.\n"
     ]
    }
   ],
   "metadata": {}
  },
  {
   "cell_type": "markdown",
   "source": [
    "Load the point cloud from a .pcd using pclpy, we use our function segTree which contains many helper functions such as voxelize to down sample our point cloud and visualize using our Visualization function built on open3d. \r\n"
   ],
   "metadata": {}
  },
  {
   "cell_type": "code",
   "execution_count": 2,
   "source": [
    "PointCloud = pclpy.pcl.PointCloud.PointXYZ()\r\n",
    "\r\n",
    "file_directory = r'data/downsampledlesscloudEURO2.pcd'\r\n",
    "pclpy.pcl.io.loadPCDFile(file_directory,PointCloud)\r\n",
    "PointCloudV = segTree.voxelize(PointCloud.xyz,0.04)\r\n",
    "Utils.open3dpaint(PointCloudV, reduce_for_vis = True  , voxelsize = 0.1)"
   ],
   "outputs": [],
   "metadata": {}
  },
  {
   "cell_type": "markdown",
   "source": [
    "Tree tool is our main class that contains the routines for tree detection and DBH extraction"
   ],
   "metadata": {}
  },
  {
   "cell_type": "code",
   "execution_count": 3,
   "source": [
    "My_TreeTool = Tree_Tool.TreeTool(PointCloudV)"
   ],
   "outputs": [],
   "metadata": {}
  },
  {
   "cell_type": "markdown",
   "source": [
    "Our tree top object has a series of functions that are performed to obtain DBH and tree detection."
   ],
   "metadata": {}
  },
  {
   "cell_type": "code",
   "execution_count": 4,
   "source": [
    "My_TreeTool.step_1_remove_floor()\r\n",
    "\r\n",
    "#Obtained attributes:\r\n",
    "#non_ground_cloud: All points in the point cloud that don't belong to the ground\r\n",
    "#ground_cloud: All points in the point cloud that belong to the ground\r\n",
    "Utils.open3dpaint([My_TreeTool.non_ground_cloud,My_TreeTool.ground_cloud],reduce_for_vis = True  , voxelsize = 0.1)"
   ],
   "outputs": [],
   "metadata": {}
  },
  {
   "cell_type": "markdown",
   "source": [
    "Set Algorithm Parameters"
   ],
   "metadata": {}
  },
  {
   "cell_type": "markdown",
   "source": [
    "Run main process"
   ],
   "metadata": {}
  },
  {
   "cell_type": "code",
   "execution_count": 5,
   "source": [
    "#Get point normals for filtering\r\n",
    "\r\n",
    "#Obtained attributes:\r\n",
    "#nonFilteredpoints: Same as NongroundCloud\r\n",
    "#nonFilterednormals: Normals of points in nonFilteredpoints\r\n",
    "\r\n",
    "#filteredpoints: Points that pass the normal filter\r\n",
    "#filterednormals: Normals of points that pass the normal filter\r\n",
    "My_TreeTool.step_2_normal_filtering(verticality_threshold=0.06, curvature_threshold=0.1)\r\n",
    "Utils.open3dpaint([My_TreeTool.non_ground_cloud.xyz, My_TreeTool.non_filtered_points.xyz + My_TreeTool.non_filtered_normals * 0.1, My_TreeTool.non_filtered_points.xyz + My_TreeTool.non_filtered_normals * 0.2], reduce_for_vis = True , voxelsize = 0.1)\r\n",
    "\r\n",
    "Utils.open3dpaint([My_TreeTool.filtered_points.xyz, My_TreeTool.filtered_points.xyz + My_TreeTool.filtered_normals * 0.05, My_TreeTool.filtered_points.xyz + My_TreeTool.filtered_normals * 0.1], reduce_for_vis = True , voxelsize = 0.1)"
   ],
   "outputs": [],
   "metadata": {}
  },
  {
   "cell_type": "code",
   "execution_count": 6,
   "source": [
    "My_TreeTool.step_3_euclidean_clustering(tolerance=0.1, min_cluster_size=40, max_cluster_size=6000000)\r\n",
    "\r\n",
    "#Obtained attributes:\r\n",
    "#cluster_list: List of all clusters obtained with Euclidean Clustering\r\n",
    "\r\n",
    "Utils.open3dpaint(My_TreeTool.cluster_list,reduce_for_vis = True  , voxelsize = 0.1)"
   ],
   "outputs": [],
   "metadata": {}
  },
  {
   "cell_type": "code",
   "execution_count": 7,
   "source": [
    "#Group stem segments\r\n",
    "My_TreeTool.step_4_group_stems(max_distance=0.4)\r\n",
    "\r\n",
    "#Obtained attributes:\r\n",
    "#cluster_list: List of all complete stems obtained by joining clusters belonging to the same tree\r\n",
    "            \r\n",
    "Utils.open3dpaint(My_TreeTool.complete_Stems,reduce_for_vis = True  , voxelsize = 0.1)"
   ],
   "outputs": [],
   "metadata": {}
  },
  {
   "cell_type": "code",
   "execution_count": 8,
   "source": [
    "My_TreeTool.step_5_get_ground_level_trees(lowstems_height=5, cutstems_height=5)\r\n",
    "\r\n",
    "#Obtained attributes:\r\n",
    "#lowstems: List of all stems truncated to the specified height\r\n",
    "\r\n",
    "Utils.open3dpaint(My_TreeTool.low_stems,reduce_for_vis = True  , voxelsize = 0.1)"
   ],
   "outputs": [],
   "metadata": {}
  },
  {
   "cell_type": "code",
   "execution_count": 9,
   "source": [
    "My_TreeTool.step_6_get_cylinder_tree_models(search_radius=0.1)\r\n",
    "\r\n",
    "#Obtained attributes:\r\n",
    "#finalstems: List of Dictionaries with two keys 'tree' which contains the points used to fit the cylinder model and 'model' which contains the cylinder model parameters\r\n",
    "#stemcyls: List of the pointclouds that represent the tree modeled with a cylinder\r\n",
    "\r\n",
    "Utils.open3dpaint([i['tree'] for i in My_TreeTool.finalstems] + My_TreeTool.visualization_cylinders,reduce_for_vis = True  , voxelsize = 0.1)\r\n",
    "     "
   ],
   "outputs": [],
   "metadata": {}
  },
  {
   "cell_type": "code",
   "execution_count": 10,
   "source": [
    "My_TreeTool.step_7_ellipse_fit()\r\n",
    "\r\n",
    "#Obtained attributes:\r\n",
    "#Three new keys in our finalstems dictionaries:\r\n",
    "#final_diameter: Final DBH of every tree\r\n",
    "#cylinder_diameter: DBH obtained with cylinder fitting\r\n",
    "#Ellipse_diameter;DBH obtained with Ellipse fitting"
   ],
   "outputs": [],
   "metadata": {}
  },
  {
   "cell_type": "markdown",
   "source": [
    "Finally, we save the extracted trees and their DBH"
   ],
   "metadata": {}
  },
  {
   "cell_type": "code",
   "execution_count": 11,
   "source": [
    "My_TreeTool.save_results(savelocation = 'results/myresults.csv')"
   ],
   "outputs": [],
   "metadata": {}
  },
  {
   "cell_type": "markdown",
   "source": [
    "Load Cloud and visualize"
   ],
   "metadata": {}
  },
  {
   "cell_type": "markdown",
   "source": [
    "WARNING: Please adjust the path before executing"
   ],
   "metadata": {}
  },
  {
   "cell_type": "code",
   "execution_count": 4,
   "source": [
    "PointCloud = pclpy.pcl.PointCloud.PointXYZ()\r\n",
    "pclpy.pcl.io.loadPCDFile('data/downsampledlesscloudEURO3.pcd',PointCloud)\r\n",
    "PointCloudV = segTree.voxelize(PointCloud.xyz,0.05)\r\n",
    "Utils.open3dpaint(PointCloudV, reduce_for_vis = True  , voxelsize = 0.1)"
   ],
   "outputs": [],
   "metadata": {}
  },
  {
   "cell_type": "code",
   "execution_count": 5,
   "source": [
    "My_TreeTool.set_point_cloud(PointCloudV)"
   ],
   "outputs": [],
   "metadata": {}
  },
  {
   "cell_type": "code",
   "execution_count": 7,
   "source": [
    "My_TreeTool.Full_Process(verticality_threshold=0.06,\r\n",
    "    curvature_threshold=0.1,\r\n",
    "    tolerance=0.1,\r\n",
    "    min_cluster_size=40,\r\n",
    "    max_cluster_size=6000000,\r\n",
    "    max_distance=0.4,\r\n",
    "    lowstems_height=5,\r\n",
    "    cutstems_height=5,\r\n",
    "    search_radius=0.1)\r\n",
    "\r\n",
    "cloud_match = [i['tree'] for i in My_TreeTool.finalstems]+[i for i in My_TreeTool.visualization_cylinders]\r\n",
    "Utils.open3dpaint(cloud_match+[PointCloudV], voxelsize = 0.1)"
   ],
   "outputs": [
    {
     "output_type": "stream",
     "name": "stdout",
     "text": [
      "step_1_Remove_Floor\n",
      "step_2_normal_filtering\n",
      "step_3_euclidean_clustering\n",
      "step_4_Group_Stems\n",
      "step_5_Get_Ground_Level_Trees\n",
      "step_6_Get_Cylinder_Tree_Models\n",
      "step_7_Ellipse_fit\n",
      "Done\n"
     ]
    }
   ],
   "metadata": {}
  },
  {
   "cell_type": "markdown",
   "source": [
    "WARNING: Please adjust the path before executing"
   ],
   "metadata": {}
  },
  {
   "cell_type": "code",
   "execution_count": 12,
   "source": [
    "#####################################################\r\n",
    "#Get ground truth\r\n",
    "tree_data = pd.read_csv('data/TLS_Benchmarking_Plot_3_LHD.txt',sep = '\\t',names = ['x','y','height','DBH'])\r\n",
    "Xcor,Ycor,diam = tree_data.iloc[0,[0,1,3]]\r\n",
    "cylinders_from_GT = [Utils.makecylinder(model=[Xcor, Ycor, 0,0,0,1,diam/2],height=10,density=20)]\r\n",
    "TreeDict = [np.array([Xcor,Ycor,diam])]\r\n",
    "for i,rows in tree_data.iloc[1:].iterrows():\r\n",
    "    Xcor,Ycor,diam = rows.iloc[[0,1,3]]\r\n",
    "    if not np.any(np.isnan([Xcor,Ycor,diam])):\r\n",
    "        cylinders_from_GT.append(Utils.makecylinder(model=[Xcor, Ycor, 0,0,0,1,diam/2],height=10,density=10))\r\n",
    "        TreeDict.append(np.array([Xcor,Ycor,diam]))\r\n",
    "cloud_of_cylinders_from_GT = [p for i in cylinders_from_GT for p in i]\r\n",
    "\r\n",
    "#DataBase\r\n",
    "#Found trees\r\n",
    "#Hungarian Algorithm assignment\r\n",
    "CostMat = np.ones([len(TreeDict),len(My_TreeTool.visualization_cylinders)])\r\n",
    "for X,datatree in enumerate(TreeDict):\r\n",
    "    for Y,foundtree in enumerate(My_TreeTool.finalstems):\r\n",
    "        CostMat[X,Y] = np.linalg.norm([datatree[0:2]-foundtree['model'][0:2]])\r\n",
    "\r\n",
    "dataindex, foundindex = linear_sum_assignment(CostMat,maximize=False)\r\n",
    "\r\n",
    "#Get metrics\r\n",
    "locationerror = []\r\n",
    "correctlocationerror = []\r\n",
    "diametererror = []\r\n",
    "diametererrorElipse = []\r\n",
    "diametererrorComb = []\r\n",
    "cloud_match = []\r\n",
    "for i,j in zip(dataindex, foundindex):\r\n",
    "    locationerror.append(np.linalg.norm((My_TreeTool.finalstems[j]['model'][0:2]-TreeDict[i][0:2])))\r\n",
    "    if locationerror[-1]<0.6:\r\n",
    "        if My_TreeTool.finalstems[j]['cylinder_diameter'] is not None:\r\n",
    "            diametererror.append(abs(My_TreeTool.finalstems[j]['cylinder_diameter']-TreeDict[i][2]))        \r\n",
    "            diametererrorElipse.append(abs(My_TreeTool.finalstems[j]['Ellipse_diameter']-TreeDict[i][2]))        \r\n",
    "            mindi = max(My_TreeTool.finalstems[j]['cylinder_diameter'],My_TreeTool.finalstems[j]['Ellipse_diameter'])\r\n",
    "            mendi = np.mean([My_TreeTool.finalstems[j]['cylinder_diameter'],My_TreeTool.finalstems[j]['Ellipse_diameter']])\r\n",
    "            diametererrorComb.append(abs(mindi-TreeDict[i][2]))\r\n",
    "            correctlocationerror.append(np.linalg.norm((My_TreeTool.finalstems[j]['model'][0:2]-TreeDict[i][0:2])))\r\n",
    "            cloud_match.append(np.vstack([cylinders_from_GT[i],My_TreeTool.finalstems[j]['tree'],My_TreeTool.visualization_cylinders[j]]))"
   ],
   "outputs": [],
   "metadata": {}
  },
  {
   "cell_type": "code",
   "execution_count": 13,
   "source": [
    "n_ref = len(TreeDict)\r\n",
    "n_match = (len(diametererror))\r\n",
    "n_extr = len(locationerror) - n_match\r\n",
    "\r\n",
    "Completeness = n_match/n_ref\r\n",
    "Correctness = n_match/(n_extr+n_match)"
   ],
   "outputs": [],
   "metadata": {}
  },
  {
   "cell_type": "code",
   "execution_count": 14,
   "source": [
    "plt.figure(figsize = (20,6))\r\n",
    "plt.subplot(1,3,1)\r\n",
    "plt.hist(diametererror,50)\r\n",
    "plt.title('Cylinder DBH error')\r\n",
    "\r\n",
    "plt.subplot(1,3,2)\r\n",
    "plt.hist(diametererrorComb,50)\r\n",
    "plt.title('Final DBH error')\r\n",
    "\r\n",
    "plt.subplot(1,3,3)\r\n",
    "plt.hist(correctlocationerror,50)\r\n",
    "plt.title('Location error')\r\n",
    "\r\n",
    "print('Total number of trees in Ground Truth: ', n_ref)\r\n",
    "print('Total number of trees matched with Ground Truth: ', n_match)\r\n",
    "print('Total number of trees extra trees found: ', n_extr)\r\n",
    "\r\n",
    "print('Percentage of matched trees: ', round(Completeness*100), '%')\r\n",
    "print('Percentage of correctly matched trees: ', round(Correctness*100), '%')\r\n",
    "\r\n",
    "print('Cylinder DBH mean Error: ', np.mean(diametererror),)\r\n",
    "print('Ellipse DBH mean Error: ', np.mean(diametererrorElipse))\r\n",
    "print('Final DBH mean Error: ', np.mean(diametererrorComb))"
   ],
   "outputs": [
    {
     "output_type": "stream",
     "name": "stdout",
     "text": [
      "Total number of trees in Ground Truth:  148\n",
      "Total number of trees matched with Ground Truth:  23\n",
      "Total number of trees extra trees found:  0\n",
      "Percentage of matched trees:  16 %\n",
      "Percentage of correctly matched trees:  100 %\n",
      "Cylinder DBH mean Error:  0.025758659951064893\n",
      "Ellipse DBH mean Error:  0.035956953738267454\n",
      "Final DBH mean Error:  0.024142181005567608\n"
     ]
    },
    {
     "output_type": "display_data",
     "data": {
      "image/png": "[encoded data removed]",
      "text/plain": [
       "<Figure size 1440x432 with 3 Axes>"
      ]
     },
     "metadata": {
      "needs_background": "light"
     }
    }
   ],
   "metadata": {}
  },
  {
   "cell_type": "code",
   "execution_count": 19,
   "source": [],
   "outputs": [],
   "metadata": {}
  },
  {
   "cell_type": "code",
   "execution_count": null,
   "source": [],
   "outputs": [],
   "metadata": {
    "collapsed": false,
    "pycharm": {
     "name": "#%%\n"
    }
   }
  }
 ],
 "metadata": {
  "kernelspec": {
   "name": "python3",
   "display_name": "Python 3.7.10 64-bit ('tree': conda)"
  },
  "language_info": {
   "codemirror_mode": {
    "name": "ipython",
    "version": 3
   },
   "file_extension": ".py",
   "mimetype": "text/x-python",
   "name": "python",
   "nbconvert_exporter": "python",
   "pygments_lexer": "ipython3",
   "version": "3.7.10"
  },
  "interpreter": {
   "hash": "eef1813aaf8490bb538b4cefa09c4a5c277a5aca32480f7ba29942be734d8dc0"
  }
 },
 "nbformat": 4,
 "nbformat_minor": 4
}