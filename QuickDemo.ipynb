{
 "cells": [
  {
   "cell_type": "markdown",
   "metadata": {},
   "source": [
    "Introduction\n",
    "\n",
    "This document serves as a tutorial for using the TreeTool tool, a software for detecting trees in a point cloud and measuring their diameter at breast height (1.3 m). This document seeks to demonstrate the operation of TreeTool, whether used as a stand-alone application or integrated as a package with other applications.\n",
    "\n",
    "Usage guide\n",
    "\n",
    "Below we describe our demo notebook contained in the QuickDemo.ipynb file. This notebook illustrates the operation and use of our software, from loading a point cloud, viewing it, processing it with our algorithm and saving the results.\n"
   ]
  },
  {
   "cell_type": "markdown",
   "metadata": {},
   "source": [
    "Load the libraries that we will use and had previously installed"
   ]
  },
  {
   "cell_type": "code",
   "execution_count": 1,
   "metadata": {},
   "outputs": [],
   "source": [
    "import pclpy\n",
    "import numpy as np\n",
    "import Libraries.segTree as segTree\n",
    "import Libraries.Utils as Utils\n",
    "import Libraries.Tree_Tool as Tree_Tool\n",
    "import pandas as pd\n",
    "from scipy.optimize import linear_sum_assignment\n",
    "import matplotlib.pyplot as plt"
   ]
  },
  {
   "cell_type": "markdown",
   "metadata": {},
   "source": [
    "Load the point cloud from a .pcd using pclpy, we use our function segTree which contains many helper functions such as voxelize to down sample our point cloud and visualize using our Visualization function built on open3d. \n"
   ]
  },
  {
   "cell_type": "code",
   "execution_count": 2,
   "metadata": {},
   "outputs": [],
   "source": [
    "PointCloud = pclpy.pcl.PointCloud.PointXYZ()\n",
    "\n",
    "file_directory = r'data/downsampledlesscloudEURO2.pcd'\n",
    "pclpy.pcl.io.loadPCDFile(file_directory,PointCloud)\n",
    "PointCloudV = segTree.voxelize(PointCloud.xyz,0.04)\n",
    "Utils.open3dpaint(PointCloudV, reduce_for_Vis = True  , voxelsize = 0.1)"
   ]
  },
  {
   "cell_type": "markdown",
   "metadata": {},
   "source": [
    "Tree tool is our main class that contains the routines for tree detection and DBH extraction"
   ]
  },
  {
   "cell_type": "code",
   "execution_count": 3,
   "metadata": {},
   "outputs": [],
   "source": [
    "My_TreeTool = Tree_Tool.TreeTool(PointCloudV)"
   ]
  },
  {
   "cell_type": "markdown",
   "metadata": {},
   "source": [
    "Our tree top object has a series of functions that are performed to obtain DBH and tree detection."
   ]
  },
  {
   "cell_type": "code",
   "execution_count": 4,
   "metadata": {},
   "outputs": [],
   "source": [
    "My_TreeTool.step_1_remove_floor()\n",
    "\n",
    "#Obtained attributes:\n",
    "#NongroundCloud: All points in the point cloud that don't belong to the ground\n",
    "#GroundCloud: All points in the point cloud that belong to the ground\n",
    "Utils.open3dpaint([My_TreeTool.non_ground_cloud,My_TreeTool.GroundCloud],reduce_for_Vis = True  , voxelsize = 0.1)"
   ]
  },
  {
   "cell_type": "markdown",
   "metadata": {},
   "source": [
    "Set Algorithm Parameters"
   ]
  },
  {
   "cell_type": "code",
   "execution_count": 5,
   "metadata": {},
   "outputs": [],
   "source": [
    "My_TreeTool.set_Ksearch(0.08)"
   ]
  },
  {
   "cell_type": "markdown",
   "metadata": {},
   "source": [
    "Run main process"
   ]
  },
  {
   "cell_type": "code",
   "execution_count": 6,
   "metadata": {},
   "outputs": [],
   "source": [
    "#Get point normals for filtering\n",
    "\n",
    "#Obtained attributes:\n",
    "#nonFilteredpoints: Same as NongroundCloud\n",
    "#nonFilterednormals: Normals of points in nonFilteredpoints\n",
    "\n",
    "#filteredpoints: Points that pass the normal filter\n",
    "#filterednormals: Normals of points that pass the normal filter\n",
    "My_TreeTool.Step_2_Normal_Filtering(verticalityThresh=0.06, NonNANcurvatureThresh=0.1)\n",
    "Utils.open3dpaint([My_TreeTool.non_ground_cloud.xyz, My_TreeTool.nonFilteredpoints.xyz + My_TreeTool.nonFilterednormals * 0.1, My_TreeTool.nonFilteredpoints.xyz + My_TreeTool.nonFilterednormals * 0.2], reduce_for_Vis = True , voxelsize = 0.1)\n",
    "\n",
    "Utils.open3dpaint([My_TreeTool.filteredpoints.xyz, My_TreeTool.filteredpoints.xyz + My_TreeTool.filterednormals * 0.05, My_TreeTool.filteredpoints.xyz + My_TreeTool.filterednormals * 0.1], reduce_for_Vis = True , voxelsize = 0.1)"
   ]
  },
  {
   "cell_type": "code",
   "execution_count": 7,
   "metadata": {},
   "outputs": [],
   "source": [
    "My_TreeTool.Step_3_Eucladean_Clustering(tol=0.1, minc=40, maxc=6000000)\n",
    "\n",
    "#Obtained attributes:\n",
    "#cluster_list: List of all clusters obtained with Euclidean Clustering\n",
    "\n",
    "Utils.open3dpaint(My_TreeTool.cluster_list,reduce_for_Vis = True  , voxelsize = 0.1)"
   ]
  },
  {
   "cell_type": "code",
   "execution_count": 8,
   "metadata": {},
   "outputs": [],
   "source": [
    "#Group stem segments\n",
    "My_TreeTool.Step_4_Group_Stems(max_angle=0.4)\n",
    "\n",
    "#Obtained attributes:\n",
    "#cluster_list: List of all complete stems obtained by joining clusters belonging to the same tree\n",
    "            \n",
    "Utils.open3dpaint(My_TreeTool.complete_Stems,reduce_for_Vis = True  , voxelsize = 0.1)"
   ]
  },
  {
   "cell_type": "code",
   "execution_count": 9,
   "metadata": {},
   "outputs": [],
   "source": [
    "My_TreeTool.Step_5_Get_Ground_Level_Trees(lowstems_Height=5, cutstems_Height=5)\n",
    "\n",
    "#Obtained attributes:\n",
    "#lowstems: List of all stems truncated to the specified height\n",
    "\n",
    "Utils.open3dpaint(My_TreeTool.lowstems,reduce_for_Vis = True  , voxelsize = 0.1)"
   ]
  },
  {
   "cell_type": "code",
   "execution_count": 10,
   "metadata": {},
   "outputs": [],
   "source": [
    "My_TreeTool.Step_6_Get_Cylinder_Tree_Models(searchRadius=0.1)\n",
    "\n",
    "#Obtained attributes:\n",
    "#finalstems: List of Dictionaries with two keys 'tree' which contains the points used to fit the cylinder model and 'model' which contains the cylinder model parameters\n",
    "#stemcyls: List of the pointclouds that represent the tree modeled with a cylinder\n",
    "\n",
    "Utils.open3dpaint([i['tree'] for i in My_TreeTool.finalstems] + My_TreeTool.stemcyls,reduce_for_Vis = True  , voxelsize = 0.1)\n",
    "     "
   ]
  },
  {
   "cell_type": "code",
   "execution_count": 11,
   "metadata": {},
   "outputs": [],
   "source": [
    "My_TreeTool.Step_7_Ellipse_fit()\n",
    "\n",
    "#Obtained attributes:\n",
    "#Three new keys in our finalstems dictionaries:\n",
    "#final_diameter: Final DBH of every tree\n",
    "#cylinder_diameter: DBH obtained with cylinder fitting\n",
    "#Ellipse_diameter;DBH obtained with Ellipse fitting"
   ]
  },
  {
   "cell_type": "markdown",
   "metadata": {},
   "source": [
    "Finally, we save the extracted trees and their DBH"
   ]
  },
  {
   "cell_type": "code",
   "execution_count": 12,
   "metadata": {},
   "outputs": [],
   "source": [
    "My_TreeTool.save_results(savelocation = 'results/myresults.csv')"
   ]
  },
  {
   "cell_type": "markdown",
   "metadata": {},
   "source": [
    "Load Cloud and visualize"
   ]
  },
  {
   "cell_type": "markdown",
   "metadata": {},
   "source": [
    "WARNING: Please adjust the path before executing"
   ]
  },
  {
   "cell_type": "code",
   "execution_count": 13,
   "metadata": {},
   "outputs": [],
   "source": [
    "PointCloud = pclpy.pcl.PointCloud.PointXYZ()\n",
    "pclpy.pcl.io.loadPCDFile('data/downsampledlesscloudEURO3.pcd',PointCloud)\n",
    "PointCloudV = segTree.voxelize(PointCloud.xyz,0.05)\n",
    "Utils.open3dpaint(PointCloudV, reduce_for_Vis = True  , voxelsize = 0.1)"
   ]
  },
  {
   "cell_type": "code",
   "execution_count": 15,
   "metadata": {},
   "outputs": [],
   "source": [
    "My_TreeTool.set_point_cloud(PointCloudV)"
   ]
  },
  {
   "cell_type": "code",
   "execution_count": 16,
   "metadata": {},
   "outputs": [
    {
     "name": "stdout",
     "output_type": "stream",
     "text": [
      "Step_1_Remove_Floor\n",
      "Step_2_Normal_Filtering\n",
      "Step_3_Eucladean_Clustering\n",
      "Step_4_Group_Stems\n",
      "Step_5_Get_Ground_Level_Trees\n",
      "Step_6_Get_Cylinder_Tree_Models\n",
      "Step_7_Ellipse_fit\n",
      "Done\n"
     ]
    }
   ],
   "source": [
    "My_TreeTool.Full_Process(verticalityThresh=0.06,\n",
    "    NonNANcurvatureThresh=0.1,\n",
    "    tol=0.1,\n",
    "    minc=40,\n",
    "    maxc=6000000,\n",
    "    max_angle=0.4,\n",
    "    lowstems_Height=5,\n",
    "    cutstems_Height=5,\n",
    "    searchRadius=0.1)\n",
    "\n",
    "cloud_match = [i['tree'] for i in My_TreeTool.finalstems]+[i for i in My_TreeTool.stemcyls]\n",
    "Utils.open3dpaint(cloud_match+[PointCloudV], voxelsize = 0.1)"
   ]
  },
  {
   "cell_type": "markdown",
   "metadata": {},
   "source": [
    "WARNING: Please adjust the path before executing"
   ]
  },
  {
   "cell_type": "code",
   "execution_count": 17,
   "metadata": {},
   "outputs": [],
   "source": [
    "#####################################################\n",
    "#Get ground truth\n",
    "tree_data = pd.read_csv('data/TLS_Benchmarking_Plot_3_LHD.txt',sep = '\\t',names = ['x','y','height','DBH'])\n",
    "Xcor,Ycor,diam = tree_data.iloc[0,[0,1,3]]\n",
    "cylinders_from_GT = [Utils.makecylinder(model=[Xcor, Ycor, 0,0,0,1,diam/2],length=10,dense=20)]\n",
    "TreeDict = [np.array([Xcor,Ycor,diam])]\n",
    "for i,rows in tree_data.iloc[1:].iterrows():\n",
    "    Xcor,Ycor,diam = rows.iloc[[0,1,3]]\n",
    "    if not np.any(np.isnan([Xcor,Ycor,diam])):\n",
    "        cylinders_from_GT.append(Utils.makecylinder(model=[Xcor, Ycor, 0,0,0,1,diam/2],length=10,dense=10))\n",
    "        TreeDict.append(np.array([Xcor,Ycor,diam]))\n",
    "cloud_of_cylinders_from_GT = [p for i in cylinders_from_GT for p in i]\n",
    "\n",
    "#DataBase\n",
    "#Found trees\n",
    "#Hungarian Algorithm assignment\n",
    "CostMat = np.ones([len(TreeDict),len(My_TreeTool.stemcyls)])\n",
    "for X,datatree in enumerate(TreeDict):\n",
    "    for Y,foundtree in enumerate(My_TreeTool.finalstems):\n",
    "        CostMat[X,Y] = np.linalg.norm([datatree[0:2]-foundtree['model'][0:2]])\n",
    "\n",
    "dataindex, foundindex = linear_sum_assignment(CostMat,maximize=False)\n",
    "\n",
    "#Get metrics\n",
    "locationerror = []\n",
    "correctlocationerror = []\n",
    "diametererror = []\n",
    "diametererrorElipse = []\n",
    "diametererrorComb = []\n",
    "cloud_match = []\n",
    "for i,j in zip(dataindex, foundindex):\n",
    "    locationerror.append(np.linalg.norm((My_TreeTool.finalstems[j]['model'][0:2]-TreeDict[i][0:2])))\n",
    "    if locationerror[-1]<0.6:\n",
    "        if My_TreeTool.finalstems[j]['cylinder_diameter'] is not None:\n",
    "            diametererror.append(abs(My_TreeTool.finalstems[j]['cylinder_diameter']-TreeDict[i][2]))        \n",
    "            diametererrorElipse.append(abs(My_TreeTool.finalstems[j]['Ellipse_diameter']-TreeDict[i][2]))        \n",
    "            mindi = max(My_TreeTool.finalstems[j]['cylinder_diameter'],My_TreeTool.finalstems[j]['Ellipse_diameter'])\n",
    "            mendi = np.mean([My_TreeTool.finalstems[j]['cylinder_diameter'],My_TreeTool.finalstems[j]['Ellipse_diameter']])\n",
    "            diametererrorComb.append(abs(mindi-TreeDict[i][2]))\n",
    "            correctlocationerror.append(np.linalg.norm((My_TreeTool.finalstems[j]['model'][0:2]-TreeDict[i][0:2])))\n",
    "            cloud_match.append(np.vstack([cylinders_from_GT[i],My_TreeTool.finalstems[j]['tree'],My_TreeTool.stemcyls[j]]))"
   ]
  },
  {
   "cell_type": "code",
   "execution_count": 18,
   "metadata": {},
   "outputs": [],
   "source": [
    "n_ref = len(TreeDict)\n",
    "n_match = (len(diametererror))\n",
    "n_extr = len(locationerror) - n_match\n",
    "\n",
    "Completeness = n_match/n_ref\n",
    "Correctness = n_match/(n_extr+n_match)"
   ]
  },
  {
   "cell_type": "code",
   "execution_count": 19,
   "metadata": {},
   "outputs": [
    {
     "name": "stdout",
     "output_type": "stream",
     "text": [
      "Total number of trees in Ground Truth:  148\n",
      "Total number of trees matched with Ground Truth:  76\n",
      "Total number of trees extra trees found:  2\n",
      "Percentage of matched trees:  51 %\n",
      "Percentage of correctly matched trees:  97 %\n",
      "Cylinder DBH mean Error:  0.016318972346814054\n",
      "Ellipse DBH mean Error:  0.024143620203045127\n",
      "Final DBH mean Error:  0.015285997484548158\n"
     ]
    },
    {
     "data": {
      "text/plain": "<Figure size 1440x432 with 3 Axes>",
      "image/png": "[encoded data removed]"
     },
     "metadata": {
      "needs_background": "light"
     },
     "output_type": "display_data"
    }
   ],
   "source": [
    "plt.figure(figsize = (20,6))\n",
    "plt.subplot(1,3,1)\n",
    "plt.hist(diametererror,50)\n",
    "plt.title('Cylinder DBH error')\n",
    "\n",
    "plt.subplot(1,3,2)\n",
    "plt.hist(diametererrorComb,50)\n",
    "plt.title('Final DBH error')\n",
    "\n",
    "plt.subplot(1,3,3)\n",
    "plt.hist(correctlocationerror,50)\n",
    "plt.title('Location error')\n",
    "\n",
    "print('Total number of trees in Ground Truth: ', n_ref)\n",
    "print('Total number of trees matched with Ground Truth: ', n_match)\n",
    "print('Total number of trees extra trees found: ', n_extr)\n",
    "\n",
    "print('Percentage of matched trees: ', round(Completeness*100), '%')\n",
    "print('Percentage of correctly matched trees: ', round(Correctness*100), '%')\n",
    "\n",
    "print('Cylinder DBH mean Error: ', np.mean(diametererror),)\n",
    "print('Ellipse DBH mean Error: ', np.mean(diametererrorElipse))\n",
    "print('Final DBH mean Error: ', np.mean(diametererrorComb))"
   ]
  },
  {
   "cell_type": "code",
   "execution_count": 19,
   "metadata": {},
   "outputs": [],
   "source": []
  },
  {
   "cell_type": "code",
   "execution_count": null,
   "outputs": [],
   "source": [],
   "metadata": {
    "collapsed": false,
    "pycharm": {
     "name": "#%%\n"
    }
   }
  }
 ],
 "metadata": {
  "kernelspec": {
   "display_name": "Python 3",
   "language": "python",
   "name": "python3"
  },
  "language_info": {
   "codemirror_mode": {
    "name": "ipython",
    "version": 3
   },
   "file_extension": ".py",
   "mimetype": "text/x-python",
   "name": "python",
   "nbconvert_exporter": "python",
   "pygments_lexer": "ipython3",
   "version": "3.8.5"
  }
 },
 "nbformat": 4,
 "nbformat_minor": 4
}