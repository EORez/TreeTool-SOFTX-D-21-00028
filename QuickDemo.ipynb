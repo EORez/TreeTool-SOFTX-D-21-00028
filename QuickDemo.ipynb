{
 "cells": [
  {
   "cell_type": "markdown",
   "metadata": {},
   "source": [
    "Setup"
   ]
  },
  {
   "cell_type": "code",
   "execution_count": 1,
   "metadata": {},
   "outputs": [],
   "source": [
    "import sys\n",
    "sys.path.append('Libraries/')\n",
    "import pclpy\n",
    "import cv2\n",
    "import numpy as np\n",
    "import pdal\n",
    "import segTree\n",
    "import Visualization\n",
    "import Utils\n",
    "import pandas as pd\n",
    "from scipy.optimize import linear_sum_assignment\n",
    "import matplotlib.pyplot as plt\n",
    "import Tree_Tool\n",
    "\n",
    "#Utils\n",
    "def tic():\n",
    "    global timestart\n",
    "    timestart = time.perf_counter()\n",
    "    \n",
    "def toc():\n",
    "    global timestart\n",
    "    return time.perf_counter()-timestart"
   ]
  },
  {
   "cell_type": "code",
   "execution_count": 2,
   "metadata": {},
   "outputs": [],
   "source": [
    "PointCloud = pclpy.pcl.PointCloud.PointXYZ()\n",
    "pclpy.pcl.io.loadPCDFile('D:/Documentos/ParaAutonomia/Python/Proyecto/Data/NistClouds/downsampledlesscloudEURO1.pcd',PointCloud)\n",
    "PointCloudV = segTree.voxelize(PointCloud.xyz,0.04)\n",
    "Visualization.open3dpaint(PointCloudV, reduce_for_Vis = True )"
   ]
  },
  {
   "cell_type": "code",
   "execution_count": 3,
   "metadata": {},
   "outputs": [
    {
     "name": "stdout",
     "output_type": "stream",
     "text": [
      "5073202 9360346\n"
     ]
    }
   ],
   "source": [
    "print(len(PointCloudV), len(PointCloud.xyz))"
   ]
  },
  {
   "cell_type": "markdown",
   "metadata": {},
   "source": [
    "Load Cloud and visualize"
   ]
  },
  {
   "cell_type": "markdown",
   "metadata": {},
   "source": [
    "Use PDAL to apply a Morphological Filter to seperate ground and non ground points"
   ]
  },
  {
   "cell_type": "code",
   "execution_count": 4,
   "metadata": {},
   "outputs": [],
   "source": [
    "\n",
    "Mysegmentor = Tree_Tool.Tree_tool(PointCloudV)"
   ]
  },
  {
   "cell_type": "code",
   "execution_count": 5,
   "metadata": {},
   "outputs": [],
   "source": [
    "Mysegmentor.Step_1_Remove_Floor()\n",
    "\n",
    "Visualization.open3dpaint([Mysegmentor.NongroundCloud,Mysegmentor.GroundCloud],reduce_for_Vis = True )"
   ]
  },
  {
   "cell_type": "markdown",
   "metadata": {},
   "source": [
    "Set Algorithm Parameters"
   ]
  },
  {
   "cell_type": "code",
   "execution_count": 6,
   "metadata": {},
   "outputs": [],
   "source": [
    "Mysegmentor.set_Ksearch(0.08)"
   ]
  },
  {
   "cell_type": "markdown",
   "metadata": {},
   "source": [
    "Run main process"
   ]
  },
  {
   "cell_type": "code",
   "execution_count": 8,
   "metadata": {},
   "outputs": [],
   "source": [
    "#Get point normals for filtering\n",
    "Mysegmentor.Step_2_Normal_Filtering()\n",
    "Visualization.open3dpaint([Mysegmentor.NongroundCloud.xyz, Mysegmentor.nonFilteredpoints.xyz + Mysegmentor.nonFilterednormals * 0.1,\n",
    "                          Mysegmentor.nonFilteredpoints.xyz + Mysegmentor.nonFilterednormals * 0.2],reduce_for_Vis = True )\n",
    "\n",
    "Visualization.open3dpaint([Mysegmentor.filteredpoints.xyz , Mysegmentor.filteredpoints.xyz + Mysegmentor.filterednormals * 0.05,\n",
    "                          Mysegmentor.filteredpoints.xyz + Mysegmentor.filterednormals * 0.1],reduce_for_Vis = True )"
   ]
  },
  {
   "cell_type": "code",
   "execution_count": 9,
   "metadata": {},
   "outputs": [],
   "source": [
    "Mysegmentor.Step_3_Eucladean_Clustering()\n",
    "Visualization.open3dpaint(Mysegmentor.cluster_list,reduce_for_Vis = True )"
   ]
  },
  {
   "cell_type": "code",
   "execution_count": 10,
   "metadata": {},
   "outputs": [],
   "source": [
    "#Group stem segments\n",
    "Mysegmentor.Step_4_Group_Stems()\n",
    "            \n",
    "Visualization.open3dpaint(Mysegmentor.complete_Stems,reduce_for_Vis = True )"
   ]
  },
  {
   "cell_type": "code",
   "execution_count": 11,
   "metadata": {},
   "outputs": [],
   "source": [
    "Mysegmentor.Step_5_Get_Ground_Level_Trees()\n",
    "\n",
    "Visualization.open3dpaint(Mysegmentor.lowstems,reduce_for_Vis = True )"
   ]
  },
  {
   "cell_type": "code",
   "execution_count": 12,
   "metadata": {},
   "outputs": [],
   "source": [
    "Mysegmentor.Step_6_Get_Cylinder_Tree_Models()\n",
    "\n",
    "Visualization.open3dpaint([i['tree'] for i in Mysegmentor.finalstems] + Mysegmentor.stemcyls,reduce_for_Vis = True )\n",
    "     "
   ]
  },
  {
   "cell_type": "markdown",
   "metadata": {},
   "source": [
    "Load Cloud and visualize"
   ]
  },
  {
   "cell_type": "markdown",
   "metadata": {},
   "source": [
    "Use PDAL to apply a Morphological Filter to seperate ground and non ground points"
   ]
  },
  {
   "cell_type": "code",
   "execution_count": 1,
   "metadata": {},
   "outputs": [
    {
     "ename": "NameError",
     "evalue": "name 'pclpy' is not defined",
     "output_type": "error",
     "traceback": [
      "\u001b[1;31m---------------------------------------------------------------------------\u001b[0m",
      "\u001b[1;31mNameError\u001b[0m                                 Traceback (most recent call last)",
      "\u001b[1;32m<ipython-input-1-aab9a22c9a1c>\u001b[0m in \u001b[0;36m<module>\u001b[1;34m\u001b[0m\n\u001b[1;32m----> 1\u001b[1;33m \u001b[0mPointCloud\u001b[0m \u001b[1;33m=\u001b[0m \u001b[0mpclpy\u001b[0m\u001b[1;33m.\u001b[0m\u001b[0mpcl\u001b[0m\u001b[1;33m.\u001b[0m\u001b[0mPointCloud\u001b[0m\u001b[1;33m.\u001b[0m\u001b[0mPointXYZ\u001b[0m\u001b[1;33m(\u001b[0m\u001b[1;33m)\u001b[0m\u001b[1;33m\u001b[0m\u001b[1;33m\u001b[0m\u001b[0m\n\u001b[0m\u001b[0;32m      2\u001b[0m \u001b[0mpclpy\u001b[0m\u001b[1;33m.\u001b[0m\u001b[0mpcl\u001b[0m\u001b[1;33m.\u001b[0m\u001b[0mio\u001b[0m\u001b[1;33m.\u001b[0m\u001b[0mloadPCDFile\u001b[0m\u001b[1;33m(\u001b[0m\u001b[1;34m'D:/Documentos/ParaAutonomia/Python/Proyecto/Data/NistClouds/downsampledlesscloudEURO3.pcd'\u001b[0m\u001b[1;33m,\u001b[0m\u001b[0mPointCloud\u001b[0m\u001b[1;33m)\u001b[0m\u001b[1;33m\u001b[0m\u001b[1;33m\u001b[0m\u001b[0m\n\u001b[0;32m      3\u001b[0m \u001b[0mPointCloudV\u001b[0m \u001b[1;33m=\u001b[0m \u001b[0msegTree\u001b[0m\u001b[1;33m.\u001b[0m\u001b[0mvoxelize\u001b[0m\u001b[1;33m(\u001b[0m\u001b[0mPointCloud\u001b[0m\u001b[1;33m.\u001b[0m\u001b[0mxyz\u001b[0m\u001b[1;33m,\u001b[0m\u001b[1;36m0.05\u001b[0m\u001b[1;33m)\u001b[0m\u001b[1;33m\u001b[0m\u001b[1;33m\u001b[0m\u001b[0m\n\u001b[0;32m      4\u001b[0m \u001b[0mVisualization\u001b[0m\u001b[1;33m.\u001b[0m\u001b[0mopen3dpaint\u001b[0m\u001b[1;33m(\u001b[0m\u001b[0mPointCloudV\u001b[0m\u001b[1;33m)\u001b[0m\u001b[1;33m\u001b[0m\u001b[1;33m\u001b[0m\u001b[0m\n",
      "\u001b[1;31mNameError\u001b[0m: name 'pclpy' is not defined"
     ]
    }
   ],
   "source": [
    "PointCloud = pclpy.pcl.PointCloud.PointXYZ()\n",
    "pclpy.pcl.io.loadPCDFile('D:/Documentos/ParaAutonomia/Python/Proyecto/Data/NistClouds/downsampledlesscloudEURO3.pcd',PointCloud)\n",
    "PointCloudV = segTree.voxelize(PointCloud.xyz,0.05)\n",
    "Visualization.open3dpaint(PointCloudV, reduce_for_Vis = True )"
   ]
  },
  {
   "cell_type": "code",
   "execution_count": null,
   "metadata": {},
   "outputs": [],
   "source": [
    "Mysegmentor.Full_Process()"
   ]
  },
  {
   "cell_type": "code",
   "execution_count": null,
   "metadata": {},
   "outputs": [],
   "source": [
    "#####################################################\n",
    "#Get ground truth\n",
    "treedata = pd.read_csv('D:/Documentos/ParaAutonomia/Python/Proyecto/Data/EuroSDR_DataRelease/EuroSDR_DataRelease/TLS_Benchmarking_Plot_3_LHD.txt',sep = '\\t',names = ['x','y','height','DBH'])\n",
    "Xcor,Ycor,diam = treedata.iloc[0,[0,1,3]]\n",
    "surtreesL1 = [Utils.makecylinder(model=[Xcor, Ycor, 0,0,0,1,diam/2],length=10,dense=20)]\n",
    "Zcor = 0\n",
    "TreeDict = [np.array([Xcor,Ycor,diam])]\n",
    "for i,rows in treedata.iloc[1:].iterrows():\n",
    "    Xcor,Ycor,diam = rows.iloc[[0,1,3]]\n",
    "    if not np.any(np.isnan([Xcor,Ycor,diam])):\n",
    "        surtreesL1.append(Utils.makecylinder(model=[Xcor, Ycor, 0,0,0,1,diam/2],length=10,dense=10))\n",
    "        TreeDict.append(np.array([Xcor,Ycor,diam]))\n",
    "surtrees1 = [p for i in surtreesL1 for p in i]\n",
    "surtreesCloud1 = pclpy.pcl.PointCloud.PointXYZ(surtrees1)\n",
    "\n",
    "#DataBase\n",
    "#Found trees\n",
    "#Hungarian Algorithm assignment\n",
    "CostMat = np.ones([len(TreeDict),len(Mysegmentor.stemcyls)])\n",
    "for X,datatree in enumerate(TreeDict):\n",
    "    for Y,foundtree in enumerate(Mysegmentor.finalstems):\n",
    "        CostMat[X,Y] = np.linalg.norm([datatree[0:2]-foundtree['model'][0:2]])\n",
    "\n",
    "dataindex, foundindex = linear_sum_assignment(CostMat,maximize=False)\n",
    "\n",
    "#Get metrics\n",
    "locationerror = []\n",
    "correctlocationerror = []\n",
    "diametererror = []\n",
    "cloudmatch = []\n",
    "for i,j in zip(dataindex, foundindex):\n",
    "    locationerror.append(np.linalg.norm((Mysegmentor.finalstems[j]['model'][0:2]-TreeDict[i][0:2])))\n",
    "    if locationerror[-1]<0.4:\n",
    "        diametererror.append(abs(Mysegmentor.finalstems[j]['model'][6]*2-TreeDict[i][2]))        \n",
    "        correctlocationerror.append(np.linalg.norm((Mysegmentor.finalstems[j]['model'][0:2]-TreeDict[i][0:2])))\n",
    "    cloudmatch.append(np.vstack([surtreesL1[i],Mysegmentor.finalstems[j]['tree'],Mysegmentor.stemcyls[j]]))\n",
    "\n",
    "#PCA filtering and Eucladian Clustering\n",
    "Visualization.PCL3dpaint(cloudmatch)"
   ]
  },
  {
   "cell_type": "code",
   "execution_count": null,
   "metadata": {},
   "outputs": [],
   "source": [
    "n_ref = len(TreeDict)\n",
    "n_match = (len(diametererror))\n",
    "n_extr = len(locationerror) - n_match\n",
    "\n",
    "Completeness = n_match/n_ref\n",
    "Correctness = n_match/(n_extr+n_match)"
   ]
  },
  {
   "cell_type": "code",
   "execution_count": null,
   "metadata": {},
   "outputs": [],
   "source": [
    "plt.figure(figsize = (20,6))\n",
    "plt.subplot(1,2,1)\n",
    "plt.hist(diametererror,50)\n",
    "plt.subplot(1,2,2)\n",
    "plt.hist(correctlocationerror,50)\n",
    "print('Total number of trees in Ground Truth: ', n_ref)\n",
    "print('Total number of trees matched with Ground Truth: ', n_match)\n",
    "print('Total number of trees extra trees found: ', n_extr)\n",
    "\n",
    "print('Percentage of matched trees: ', round(Completeness*100), '%')\n",
    "print('Percentage of correctly matched trees: ', round(Correctness*100), '%')"
   ]
  },
  {
   "cell_type": "code",
   "execution_count": null,
   "metadata": {},
   "outputs": [],
   "source": []
  }
 ],
 "metadata": {
  "kernelspec": {
   "display_name": "Python 3",
   "language": "python",
   "name": "python3"
  },
  "language_info": {
   "codemirror_mode": {
    "name": "ipython",
    "version": 3
   },
   "file_extension": ".py",
   "mimetype": "text/x-python",
   "name": "python",
   "nbconvert_exporter": "python",
   "pygments_lexer": "ipython3",
   "version": "3.6.10"
  }
 },
 "nbformat": 4,
 "nbformat_minor": 4
}
